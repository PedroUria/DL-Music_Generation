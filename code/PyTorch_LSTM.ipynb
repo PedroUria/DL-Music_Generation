{
 "cells": [
  {
   "cell_type": "code",
   "execution_count": 1,
   "metadata": {
    "colab": {
     "base_uri": "https://localhost:8080/",
     "height": 34
    },
    "colab_type": "code",
    "id": "yC5FPswXApoa",
    "outputId": "26d9f5bd-870f-428b-cbd2-0197dfc51ea1"
   },
   "outputs": [
    {
     "data": {
      "text/plain": [
       "torch.Size([1120, 1, 89])"
      ]
     },
     "execution_count": 1,
     "metadata": {},
     "output_type": "execute_result"
    }
   ],
   "source": [
    "import os\n",
    "import music21 as ms\n",
    "import numpy as np\n",
    "import torch\n",
    "import torch.nn as nn\n",
    "from encoder_decoder import encode, decode\n",
    "import matplotlib.pyplot as plt\n",
    "  \n",
    "def get_right_hand(midi_file, time_step=0.05):\n",
    "    \n",
    "    hands = ms.converter.parse(midi_file)\n",
    "    voice = False  # If there is more than one voice on\n",
    "    for idx, nt in enumerate(hands[0]):  # the right hand (first part), just\n",
    "        if type(nt) == ms.stream.Voice:  # takes the first voice\n",
    "            voice = True\n",
    "            break\n",
    "    if voice:\n",
    "        right_notes = encode(hands[0][idx], time_step=time_step)\n",
    "    else:\n",
    "        right_notes = encode(hands[0], time_step=time_step)\n",
    "        \n",
    "    return right_notes\n",
    "  \n",
    "# Reads a MIDI file\n",
    "path = os.getcwd()[:-4] + \"Data/classical/bach/unknown/bach_846.mid\"\n",
    "bach = ms.converter.parse(path)\n",
    "# Encodes the first hand of bach\n",
    "notes_encoded = get_right_hand(path, time_step=0.25)\n",
    "notes_encoded = notes_encoded[:, :-1]\n",
    "\n",
    "notes_encoded = torch.from_numpy(notes_encoded.reshape(-1, 1, 89)).float()\n",
    "notes_encoded.shape  # [seq_len, batch_size, input_size]"
   ]
  },
  {
   "cell_type": "code",
   "execution_count": 2,
   "metadata": {
    "colab": {
     "base_uri": "https://localhost:8080/",
     "height": 3536
    },
    "colab_type": "code",
    "id": "QMFstVWWHVDf",
    "outputId": "6816ee20-5e6c-468b-917b-e56c58c32560"
   },
   "outputs": [
    {
     "name": "stdout",
     "output_type": "stream",
     "text": [
      "---------- epoch number: 0 ----------\n",
      "           loss: 0.028459642\n",
      "---------- epoch number: 1 ----------\n",
      "           loss: 0.02007095\n",
      "---------- epoch number: 2 ----------\n",
      "           loss: 0.017473033\n",
      "---------- epoch number: 3 ----------\n",
      "           loss: 0.014879832\n",
      "---------- epoch number: 4 ----------\n",
      "           loss: 0.014073472\n",
      "---------- epoch number: 5 ----------\n",
      "           loss: 0.011607918\n",
      "---------- epoch number: 6 ----------\n",
      "           loss: 0.010382853\n",
      "---------- epoch number: 7 ----------\n",
      "           loss: 0.0096949395\n",
      "---------- epoch number: 8 ----------\n",
      "           loss: 0.009152591\n",
      "---------- epoch number: 9 ----------\n",
      "           loss: 0.009254524\n",
      "---------- epoch number: 10 ----------\n",
      "           loss: 0.009337447\n",
      "---------- epoch number: 11 ----------\n",
      "           loss: 0.0077606845\n",
      "---------- epoch number: 12 ----------\n",
      "           loss: 0.0072123106\n",
      "---------- epoch number: 13 ----------\n",
      "           loss: 0.0074277823\n",
      "---------- epoch number: 14 ----------\n",
      "           loss: 0.006992886\n",
      "---------- epoch number: 15 ----------\n",
      "           loss: 0.007362037\n",
      "---------- epoch number: 16 ----------\n",
      "           loss: 0.007397594\n",
      "---------- epoch number: 17 ----------\n",
      "           loss: 0.0072480175\n",
      "---------- epoch number: 18 ----------\n",
      "           loss: 0.007041092\n",
      "---------- epoch number: 19 ----------\n",
      "           loss: 0.007154056\n",
      "---------- epoch number: 20 ----------\n",
      "           loss: 0.0066341436\n",
      "---------- epoch number: 21 ----------\n",
      "           loss: 0.0070733316\n",
      "---------- epoch number: 22 ----------\n",
      "           loss: 0.005962613\n",
      "---------- epoch number: 23 ----------\n",
      "           loss: 0.0060746954\n",
      "---------- epoch number: 24 ----------\n",
      "           loss: 0.0065980707\n",
      "---------- epoch number: 25 ----------\n",
      "           loss: 0.006862549\n",
      "Halving learning rate from 0.01 to 0.005\n",
      "---------- epoch number: 26 ----------\n",
      "           loss: 0.005997246\n",
      "---------- epoch number: 27 ----------\n",
      "           loss: 0.004459497\n",
      "---------- epoch number: 28 ----------\n",
      "           loss: 0.004330559\n",
      "---------- epoch number: 29 ----------\n",
      "           loss: 0.0044530034\n",
      "---------- epoch number: 30 ----------\n",
      "           loss: 0.004324669\n",
      "---------- epoch number: 31 ----------\n",
      "           loss: 0.0042426432\n",
      "---------- epoch number: 32 ----------\n",
      "           loss: 0.0040645604\n",
      "---------- epoch number: 33 ----------\n",
      "           loss: 0.0044902912\n",
      "---------- epoch number: 34 ----------\n",
      "           loss: 0.0038385505\n",
      "---------- epoch number: 35 ----------\n",
      "           loss: 0.00377877\n",
      "---------- epoch number: 36 ----------\n",
      "           loss: 0.0038069868\n",
      "---------- epoch number: 37 ----------\n",
      "           loss: 0.003826219\n",
      "---------- epoch number: 38 ----------\n",
      "           loss: 0.0034040997\n",
      "---------- epoch number: 39 ----------\n",
      "           loss: 0.004135405\n",
      "Halving learning rate from 0.005 to 0.0025\n",
      "---------- epoch number: 40 ----------\n",
      "           loss: 0.0031431688\n",
      "---------- epoch number: 41 ----------\n",
      "           loss: 0.002999806\n",
      "---------- epoch number: 42 ----------\n",
      "           loss: 0.0028456578\n",
      "---------- epoch number: 43 ----------\n",
      "           loss: 0.002905059\n",
      "---------- epoch number: 44 ----------\n",
      "           loss: 0.0027611589\n",
      "---------- epoch number: 45 ----------\n",
      "           loss: 0.0026307034\n",
      "---------- epoch number: 46 ----------\n",
      "           loss: 0.0037080664\n",
      "---------- epoch number: 47 ----------\n",
      "           loss: 0.0030053472\n",
      "---------- epoch number: 48 ----------\n",
      "           loss: 0.003234176\n",
      "---------- epoch number: 49 ----------\n",
      "           loss: 0.00302876\n",
      "Halving learning rate from 0.0025 to 0.00125\n",
      "---------- epoch number: 50 ----------\n",
      "           loss: 0.0028148312\n",
      "---------- epoch number: 51 ----------\n",
      "           loss: 0.0025252542\n",
      "---------- epoch number: 52 ----------\n",
      "           loss: 0.002822168\n",
      "---------- epoch number: 53 ----------\n",
      "           loss: 0.002856888\n",
      "---------- epoch number: 54 ----------\n",
      "           loss: 0.0027214065\n",
      "---------- epoch number: 55 ----------\n",
      "           loss: 0.0024128524\n",
      "---------- epoch number: 56 ----------\n",
      "           loss: 0.0023504978\n",
      "---------- epoch number: 57 ----------\n",
      "           loss: 0.0023854563\n",
      "---------- epoch number: 58 ----------\n",
      "           loss: 0.0023217353\n",
      "---------- epoch number: 59 ----------\n",
      "           loss: 0.0024842215\n",
      "---------- epoch number: 60 ----------\n",
      "           loss: 0.0023794777\n",
      "---------- epoch number: 61 ----------\n",
      "           loss: 0.002471717\n",
      "---------- epoch number: 62 ----------\n",
      "           loss: 0.0023868047\n",
      "---------- epoch number: 63 ----------\n",
      "           loss: 0.0024378744\n",
      "Halving learning rate from 0.00125 to 0.000625\n",
      "---------- epoch number: 64 ----------\n",
      "           loss: 0.0018773656\n",
      "---------- epoch number: 65 ----------\n",
      "           loss: 0.0021449705\n",
      "---------- epoch number: 66 ----------\n",
      "           loss: 0.0023716334\n",
      "---------- epoch number: 67 ----------\n",
      "           loss: 0.00238076\n",
      "---------- epoch number: 68 ----------\n",
      "           loss: 0.0022318705\n",
      "---------- epoch number: 69 ----------\n",
      "           loss: 0.0022438967\n",
      "---------- epoch number: 70 ----------\n",
      "           loss: 0.0020339063\n",
      "---------- epoch number: 71 ----------\n",
      "           loss: 0.002530494\n",
      "---------- epoch number: 72 ----------\n",
      "           loss: 0.0024517651\n",
      "---------- epoch number: 73 ----------\n",
      "           loss: 0.0029350892\n",
      "Halving learning rate from 0.000625 to 0.0003125\n",
      "---------- epoch number: 74 ----------\n",
      "           loss: 0.0025086561\n",
      "---------- epoch number: 75 ----------\n",
      "           loss: 0.002321493\n",
      "---------- epoch number: 76 ----------\n",
      "           loss: 0.0022001665\n",
      "---------- epoch number: 77 ----------\n",
      "           loss: 0.0022968857\n",
      "---------- epoch number: 78 ----------\n",
      "           loss: 0.0025133514\n",
      "---------- epoch number: 79 ----------\n",
      "           loss: 0.0022456832\n",
      "---------- epoch number: 80 ----------\n",
      "           loss: 0.0021630097\n",
      "---------- epoch number: 81 ----------\n",
      "           loss: 0.0023399086\n",
      "---------- epoch number: 82 ----------\n",
      "           loss: 0.0022724639\n",
      "---------- epoch number: 83 ----------\n",
      "           loss: 0.0026007013\n",
      "Halving learning rate from 0.0003125 to 0.00015625\n",
      "---------- epoch number: 84 ----------\n",
      "           loss: 0.0020376015\n",
      "---------- epoch number: 85 ----------\n",
      "           loss: 0.0020672677\n",
      "---------- epoch number: 86 ----------\n",
      "           loss: 0.0022575154\n",
      "---------- epoch number: 87 ----------\n",
      "           loss: 0.0021106123\n",
      "---------- epoch number: 88 ----------\n",
      "           loss: 0.0023309193\n",
      "---------- epoch number: 89 ----------\n",
      "           loss: 0.002001276\n",
      "---------- epoch number: 90 ----------\n",
      "           loss: 0.0020611181\n",
      "---------- epoch number: 91 ----------\n",
      "           loss: 0.0022230537\n",
      "---------- epoch number: 92 ----------\n",
      "           loss: 0.0022689144\n",
      "---------- epoch number: 93 ----------\n",
      "           loss: 0.0025448555\n",
      "Halving learning rate from 0.00015625 to 7.8125e-05\n",
      "---------- epoch number: 94 ----------\n",
      "           loss: 0.0020165867\n",
      "---------- epoch number: 95 ----------\n",
      "           loss: 0.0025336142\n",
      "---------- epoch number: 96 ----------\n",
      "           loss: 0.0020183888\n",
      "---------- epoch number: 97 ----------\n",
      "           loss: 0.0020519693\n",
      "---------- epoch number: 98 ----------\n",
      "           loss: 0.0023938674\n",
      "---------- epoch number: 99 ----------\n",
      "           loss: 0.002105996\n"
     ]
    }
   ],
   "source": [
    "# Code modified from https://github.com/amir-jafari/Deep-Learning/blob/master/Pytorch_/7-RNN/1_RNN.py\n",
    "\n",
    "class LSTMMusic(nn.Module):\n",
    "    \n",
    "    def __init__(self, input_size, hidden_size):\n",
    "            \n",
    "        super(LSTMMusic, self).__init__()\n",
    "        # Input of shape (seq_len, batch_size, input_size)\n",
    "        self.lstm = nn.LSTM(input_size, hidden_size)\n",
    "        # Fully connected Layer at the end, output_size=input_size because we want to predict\n",
    "        self.out = nn.Linear(hidden_size, input_size)  # the next note/sequence of notes\n",
    "        # We use a sigmoid activation function instead of the usual softmax\n",
    "        # because we want to predict potentially more than one label per vector,\n",
    "        # like for example, when we have a hold or a chord\n",
    "        # Idea from: https://www.depends-on-the-definition.com/guide-to-multi-label-classification-with-neural-networks/\n",
    "        self.act = nn.Sigmoid()\n",
    "    \n",
    "    def forward(self, x, h_c_state):\n",
    "        \n",
    "        y_pred, h_c_state = self.lstm(x, h_c_state)\n",
    "        return self.act(self.out(y_pred)), h_c_state \n",
    "\n",
    "# Hidden size needs to be equal to input_size\n",
    "net = LSTMMusic(89, 89) # because we want to predict the next note/sequence of notes\n",
    "lr = 0.01\n",
    "optimizer = torch.optim.Adam(net.parameters(), lr=lr)\n",
    "loss_func = nn.BCELoss()  # Because we are using sigmoid and not softmax, BCELoss is the right choice\n",
    "h_state = torch.zeros(1, 1, 89).float()  # Initializes the hidden\n",
    "c_state = torch.zeros(1, 1, 89).float()  # and cell states\n",
    "seq_len = 1  # We will take as input only the previous not\n",
    "l = []  # Stores the loss per sequence\n",
    "lll = []  # Idem, but will be set to [] after each epoch for ll\n",
    "ll = []  # Stores the mean loss per epoch\n",
    "wait_10 = 0  # We will halve the learning rate if the loss does not decrease in the last 10 epochs\n",
    "for epoch in range(100):\n",
    "    print(\"---------- epoch number:\", epoch, \"----------\")\n",
    "    for step in range(notes_encoded.shape[0]//seq_len - 1):\n",
    "        x = notes_encoded[step:seq_len+step, :, :]  # We take as input the last seq_len notes\n",
    "        x.requires_grad = True\n",
    "        y = notes_encoded[step+seq_len:step+seq_len*2, :, :]  # Uses the whole next sequence to get the loss\n",
    "        #y = notes_encoded[step+seq_len, :, :]                # Uses only the next note after input sequence to get the loss\n",
    "        y_pred, h_c_state = net(x, (h_state, c_state))  \n",
    "        #y_pred = y_pred[0]                                      # Uses only the next note after input sequence to get the loss\n",
    "        # y_pred shape: [seq_len, batch_size, hidden_size]\n",
    "        h_state, c_state = h_c_state[0].data, h_c_state[1].data  # repack the hidden state, break the connection from last iteration\n",
    "        loss = loss_func(y_pred, y)\n",
    "        l.append(loss.data)\n",
    "        lll.append(loss.data)\n",
    "        optimizer.zero_grad()\n",
    "        loss.backward()\n",
    "        optimizer.step()\n",
    "    ll.append(np.mean(lll))\n",
    "    print(\"           loss:\", ll[-1])\n",
    "    if ll[-1] > np.mean(ll[::-1][:10]) and wait_10 >= 10:  # We decrease the learning rate by half\n",
    "        print(\"Halving learning rate from\", lr, \"to\", lr/2)  # When the loss stops decreasing\n",
    "        lr = lr/2\n",
    "        optimizer = torch.optim.Adam(net.parameters(), lr=lr)\n",
    "        wait_10 = 0\n",
    "    lll = []\n",
    "    wait_10 += 1"
   ]
  },
  {
   "cell_type": "code",
   "execution_count": 3,
   "metadata": {
    "colab": {
     "base_uri": "https://localhost:8080/",
     "height": 517
    },
    "colab_type": "code",
    "id": "JTPQYNmQIAKs",
    "outputId": "0436407b-09d4-49ae-9b4d-edf44b073163"
   },
   "outputs": [
    {
     "data": {
      "image/png": "[encoded data removed]",
      "text/plain": [
       "<Figure size 432x288 with 1 Axes>"
      ]
     },
     "metadata": {
      "image/png": {
       "height": 277,
       "width": 387
      },
      "needs_background": "light"
     },
     "output_type": "display_data"
    },
    {
     "data": {
      "image/png": "[encoded data removed]",
      "text/plain": [
       "<Figure size 432x288 with 1 Axes>"
      ]
     },
     "metadata": {
      "image/png": {
       "height": 277,
       "width": 400
      },
      "needs_background": "light"
     },
     "output_type": "display_data"
    }
   ],
   "source": [
    "import matplotlib.pyplot as plt\n",
    "\n",
    "plt.plot(range(len(l)), l)\n",
    "plt.title(\"Loss for each sample\")\n",
    "plt.ylabel(\"Loss\")\n",
    "plt.xlabel(\"Sample on each epoch\")\n",
    "plt.show()\n",
    "\n",
    "plt.plot(range(len(ll)), ll)\n",
    "plt.title(\"Loss for each epoch\")\n",
    "plt.ylabel(\"Loss\")\n",
    "plt.xlabel(\"Epoch\")\n",
    "plt.show()"
   ]
  },
  {
   "cell_type": "code",
   "execution_count": 4,
   "metadata": {
    "colab": {
     "base_uri": "https://localhost:8080/",
     "height": 493
    },
    "colab_type": "code",
    "id": "AHqcOW5AUnA9",
    "outputId": "6e5b738d-86d4-4155-9323-d50d75174fca"
   },
   "outputs": [
    {
     "name": "stdout",
     "output_type": "stream",
     "text": [
      "tensor([[0.5261]])\n",
      "tensor([[0.8662]])\n",
      "tensor([[0.0892]])\n",
      "tensor([[0.0152]])\n",
      "tensor([[0.5298]])\n",
      "tensor([[0.6001]])\n",
      "tensor([[0.5911]])\n",
      "tensor([[0.3710]])\n",
      "tensor([[0.4045]])\n",
      "tensor([[0.5552]])\n",
      "tensor([[0.5231]])\n",
      "tensor([[0.8810]])\n",
      "tensor([[0.7694]])\n",
      "tensor([[0.6502]])\n",
      "tensor([[0.4234]])\n",
      "tensor([[0.6553]])\n",
      "tensor([[0.4970]])\n",
      "tensor([[0.8061]])\n",
      "tensor([[0.6527]])\n",
      "tensor([[0.4510]])\n",
      "tensor([[0.6058]])\n",
      "tensor([[0.6409]])\n",
      "tensor([[0.6210]])\n",
      "tensor([[0.6607]])\n",
      "tensor([[0.7000]])\n",
      "tensor([[0.8680]])\n",
      "tensor([[0.7382]])\n",
      "tensor([[0.8237]])\n",
      "tensor([[0.7209]])\n",
      "tensor([[0.4718]])\n",
      "tensor([[0.4969]])\n",
      "tensor([[0.7152]])\n",
      "tensor([[0.6814]])\n"
     ]
    }
   ],
   "source": [
    "notes = []  # Will contain a sequence of the predicted notes\n",
    "x = notes_encoded[2:2+seq_len, :, :]  # Input notes, in this case only the first note (seq_len=1)\n",
    "notes.append(x)\n",
    "h_state = torch.zeros(1, 1, 89).float()\n",
    "c_state = torch.zeros(1, 1, 89).float()\n",
    "for step in range(2, 100):  # Let's get 100 time_steps\n",
    "    chosen = False  # To account for when no dimension's probability is bigger than 0.9\n",
    "    y_pred, h_c_state = net(x, (h_state, c_state))  \n",
    "    h_state, c_state = h_c_state[0].data, h_c_state[1].data\n",
    "    y_pred = y_pred.data\n",
    "    choose = torch.zeros(y_pred.shape)  # Coverts the probabilities \n",
    "    for idx in range(y_pred.shape[2]):  # to the actual notes vectors\n",
    "        if y_pred[:, :, idx] > 0.9:\n",
    "            choose[:, :, idx] = 1\n",
    "            chosen = True\n",
    "    if not chosen:\n",
    "        choose[:, :, np.argmax(y_pred)] = 1\n",
    "        print(y_pred[:, :, np.argmax(y_pred)])  # Maximum probability out of all components\n",
    "    x = choose  # Uses the output of the last time_step as the input for the next time_step\n",
    "    notes.append(choose)"
   ]
  },
  {
   "cell_type": "code",
   "execution_count": 5,
   "metadata": {
    "colab": {},
    "colab_type": "code",
    "id": "jZ-lZGhYZDiW"
   },
   "outputs": [],
   "source": [
    "# Gets the notes into the correct NumPy array shape\n",
    "gen_notes = np.empty((len(notes), 89))\n",
    "for idx, nt in enumerate(notes):\n",
    "    gen_notes[idx] = nt.numpy()[0]"
   ]
  },
  {
   "cell_type": "code",
   "execution_count": 6,
   "metadata": {
    "colab": {
     "base_uri": "https://localhost:8080/",
     "height": 34
    },
    "colab_type": "code",
    "id": "6qzBQs3BZElg",
    "outputId": "8df428cd-162c-4b5e-c201-f35f161e774c"
   },
   "outputs": [
    {
     "data": {
      "text/plain": [
       "'come_on.mid'"
      ]
     },
     "execution_count": 6,
     "metadata": {},
     "output_type": "execute_result"
    }
   ],
   "source": [
    "gen_midi = decode(gen_notes, time_step=0.25)\n",
    "gen_midi.write(\"midi\", \"come_on.mid\")"
   ]
  },
  {
   "cell_type": "code",
   "execution_count": 7,
   "metadata": {
    "colab": {
     "base_uri": "https://localhost:8080/",
     "height": 187
    },
    "colab_type": "code",
    "id": "RhhGhaQTZ31R",
    "outputId": "5477c00e-402f-4086-92b6-fc3771918197"
   },
   "outputs": [
    {
     "name": "stdout",
     "output_type": "stream",
     "text": [
      "{0.0} <music21.instrument.Piano Piano>\n",
      "{0.0} <music21.tempo.MetronomeMark andante Quarter=74>\n",
      "{0.0} <music21.key.Key of C major>\n",
      "{0.0} <music21.meter.TimeSignature 4/4>\n",
      "{0.0} <music21.note.Note G>\n",
      "{0.25} <music21.note.Note B>\n",
      "{0.5} <music21.chord.Chord D4 D5>\n",
      "{0.75} <music21.note.Note G>\n",
      "{1.0} <music21.note.Note B>\n",
      "{1.25} <music21.note.Note D>\n"
     ]
    }
   ],
   "source": [
    "gen_midi[:10].show(\"text\")"
   ]
  },
  {
   "cell_type": "code",
   "execution_count": 8,
   "metadata": {
    "colab": {
     "base_uri": "https://localhost:8080/",
     "height": 187
    },
    "colab_type": "code",
    "id": "9yxTv0TeaqUY",
    "outputId": "de3fbb7e-1b4f-4d15-e247-3c4e4d2d8c15"
   },
   "outputs": [
    {
     "name": "stdout",
     "output_type": "stream",
     "text": [
      "{0.0} <music21.instrument.Piano Piano>\n",
      "{0.0} <music21.tempo.MetronomeMark andante Quarter=74.0>\n",
      "{0.0} <music21.key.Key of C major>\n",
      "{0.0} <music21.meter.TimeSignature 4/4>\n",
      "{0.0} <music21.note.Rest rest>\n",
      "{0.5} <music21.note.Note G>\n",
      "{0.75} <music21.note.Note C>\n",
      "{1.0} <music21.tempo.MetronomeMark Quarter=75.5>\n",
      "{1.0} <music21.note.Note E>\n",
      "{1.25} <music21.tempo.MetronomeMark andante Quarter=74.0>\n"
     ]
    }
   ],
   "source": [
    "bach[0][:10].show(\"text\")"
   ]
  },
  {
   "cell_type": "markdown",
   "metadata": {
    "colab_type": "text",
    "id": "zVdxyq1Da-PR"
   },
   "source": [
    "This gets the first notes right, but when we need a longer sequence info to predict and change types of sequences, it fails. Let's use a longer sequence length. 14 seems like a good choice looking at the original piece"
   ]
  },
  {
   "cell_type": "code",
   "execution_count": 9,
   "metadata": {
    "colab": {
     "base_uri": "https://localhost:8080/",
     "height": 3417
    },
    "colab_type": "code",
    "id": "cmzy7WEfa7_U",
    "outputId": "57d9c8eb-b25d-4be7-b1d6-fd317e6bdae6"
   },
   "outputs": [
    {
     "name": "stdout",
     "output_type": "stream",
     "text": [
      "---------- epoch number: 0 ----------\n",
      "           loss: 0.074073255\n",
      "---------- epoch number: 1 ----------\n",
      "           loss: 0.041022558\n",
      "---------- epoch number: 2 ----------\n",
      "           loss: 0.0422484\n",
      "---------- epoch number: 3 ----------\n",
      "           loss: 0.04279968\n",
      "---------- epoch number: 4 ----------\n",
      "           loss: 0.042780172\n",
      "---------- epoch number: 5 ----------\n",
      "           loss: 0.04241855\n",
      "---------- epoch number: 6 ----------\n",
      "           loss: 0.04097297\n",
      "---------- epoch number: 7 ----------\n",
      "           loss: 0.036657315\n",
      "---------- epoch number: 8 ----------\n",
      "           loss: 0.030610079\n",
      "---------- epoch number: 9 ----------\n",
      "           loss: 0.021538643\n",
      "---------- epoch number: 10 ----------\n",
      "           loss: 0.017131606\n",
      "---------- epoch number: 11 ----------\n",
      "           loss: 0.013448768\n",
      "---------- epoch number: 12 ----------\n",
      "           loss: 0.013366033\n",
      "---------- epoch number: 13 ----------\n",
      "           loss: 0.012835024\n",
      "---------- epoch number: 14 ----------\n",
      "           loss: 0.013466971\n",
      "---------- epoch number: 15 ----------\n",
      "           loss: 0.013327723\n",
      "---------- epoch number: 16 ----------\n",
      "           loss: 0.012138794\n",
      "---------- epoch number: 17 ----------\n",
      "           loss: 0.011776045\n",
      "---------- epoch number: 18 ----------\n",
      "           loss: 0.011858979\n",
      "---------- epoch number: 19 ----------\n",
      "           loss: 0.01225012\n",
      "---------- epoch number: 20 ----------\n",
      "           loss: 0.012556985\n",
      "---------- epoch number: 21 ----------\n",
      "           loss: 0.012292629\n",
      "---------- epoch number: 22 ----------\n",
      "           loss: 0.012902679\n",
      "Halving learning rate from 0.01 to 0.005\n",
      "---------- epoch number: 23 ----------\n",
      "           loss: 0.012138238\n",
      "---------- epoch number: 24 ----------\n",
      "           loss: 0.010061752\n",
      "---------- epoch number: 25 ----------\n",
      "           loss: 0.00881313\n",
      "---------- epoch number: 26 ----------\n",
      "           loss: 0.008384035\n",
      "---------- epoch number: 27 ----------\n",
      "           loss: 0.0080225365\n",
      "---------- epoch number: 28 ----------\n",
      "           loss: 0.0077547953\n",
      "---------- epoch number: 29 ----------\n",
      "           loss: 0.0075005535\n",
      "---------- epoch number: 30 ----------\n",
      "           loss: 0.0073404578\n",
      "---------- epoch number: 31 ----------\n",
      "           loss: 0.007183942\n",
      "---------- epoch number: 32 ----------\n",
      "           loss: 0.0070041176\n",
      "---------- epoch number: 33 ----------\n",
      "           loss: 0.0068618935\n",
      "---------- epoch number: 34 ----------\n",
      "           loss: 0.0066070594\n",
      "---------- epoch number: 35 ----------\n",
      "           loss: 0.0065871514\n",
      "---------- epoch number: 36 ----------\n",
      "           loss: 0.0067583565\n",
      "---------- epoch number: 37 ----------\n",
      "           loss: 0.0063605323\n",
      "---------- epoch number: 38 ----------\n",
      "           loss: 0.006200255\n",
      "---------- epoch number: 39 ----------\n",
      "           loss: 0.0061959648\n",
      "---------- epoch number: 40 ----------\n",
      "           loss: 0.005981096\n",
      "---------- epoch number: 41 ----------\n",
      "           loss: 0.005874355\n",
      "---------- epoch number: 42 ----------\n",
      "           loss: 0.0057160403\n",
      "---------- epoch number: 43 ----------\n",
      "           loss: 0.005717278\n",
      "---------- epoch number: 44 ----------\n",
      "           loss: 0.0057645193\n",
      "---------- epoch number: 45 ----------\n",
      "           loss: 0.0054195197\n",
      "---------- epoch number: 46 ----------\n",
      "           loss: 0.0052509257\n",
      "---------- epoch number: 47 ----------\n",
      "           loss: 0.005323874\n",
      "---------- epoch number: 48 ----------\n",
      "           loss: 0.0051653655\n",
      "---------- epoch number: 49 ----------\n",
      "           loss: 0.0050552445\n",
      "---------- epoch number: 50 ----------\n",
      "           loss: 0.0075470223\n",
      "Halving learning rate from 0.005 to 0.0025\n",
      "---------- epoch number: 51 ----------\n",
      "           loss: 0.005507049\n",
      "---------- epoch number: 52 ----------\n",
      "           loss: 0.0046950807\n",
      "---------- epoch number: 53 ----------\n",
      "           loss: 0.004523403\n",
      "---------- epoch number: 54 ----------\n",
      "           loss: 0.0043926965\n",
      "---------- epoch number: 55 ----------\n",
      "           loss: 0.00428046\n",
      "---------- epoch number: 56 ----------\n",
      "           loss: 0.004222248\n",
      "---------- epoch number: 57 ----------\n",
      "           loss: 0.004059453\n",
      "---------- epoch number: 58 ----------\n",
      "           loss: 0.0040599\n",
      "---------- epoch number: 59 ----------\n",
      "           loss: 0.0039790315\n",
      "---------- epoch number: 60 ----------\n",
      "           loss: 0.0049619745\n",
      "Halving learning rate from 0.0025 to 0.00125\n",
      "---------- epoch number: 61 ----------\n",
      "           loss: 0.0039835325\n",
      "---------- epoch number: 62 ----------\n",
      "           loss: 0.0037498837\n",
      "---------- epoch number: 63 ----------\n",
      "           loss: 0.0036679737\n",
      "---------- epoch number: 64 ----------\n",
      "           loss: 0.0036395534\n",
      "---------- epoch number: 65 ----------\n",
      "           loss: 0.0036113749\n",
      "---------- epoch number: 66 ----------\n",
      "           loss: 0.0035960304\n",
      "---------- epoch number: 67 ----------\n",
      "           loss: 0.0036000153\n",
      "---------- epoch number: 68 ----------\n",
      "           loss: 0.0036014416\n",
      "---------- epoch number: 69 ----------\n",
      "           loss: 0.0035877794\n",
      "---------- epoch number: 70 ----------\n",
      "           loss: 0.0035779744\n",
      "---------- epoch number: 71 ----------\n",
      "           loss: 0.0035940597\n",
      "---------- epoch number: 72 ----------\n",
      "           loss: 0.003566964\n",
      "---------- epoch number: 73 ----------\n",
      "           loss: 0.0035464598\n",
      "---------- epoch number: 74 ----------\n",
      "           loss: 0.0035835938\n",
      "---------- epoch number: 75 ----------\n",
      "           loss: 0.0034989386\n",
      "---------- epoch number: 76 ----------\n",
      "           loss: 0.0035861267\n",
      "Halving learning rate from 0.00125 to 0.000625\n",
      "---------- epoch number: 77 ----------\n",
      "           loss: 0.0035392586\n",
      "---------- epoch number: 78 ----------\n",
      "           loss: 0.003446076\n",
      "---------- epoch number: 79 ----------\n",
      "           loss: 0.0034393212\n",
      "---------- epoch number: 80 ----------\n",
      "           loss: 0.0034243276\n",
      "---------- epoch number: 81 ----------\n",
      "           loss: 0.0033846789\n",
      "---------- epoch number: 82 ----------\n",
      "           loss: 0.0033655628\n",
      "---------- epoch number: 83 ----------\n",
      "           loss: 0.0033658189\n",
      "---------- epoch number: 84 ----------\n",
      "           loss: 0.0033526476\n",
      "---------- epoch number: 85 ----------\n",
      "           loss: 0.003306154\n",
      "---------- epoch number: 86 ----------\n",
      "           loss: 0.0057873894\n",
      "Halving learning rate from 0.000625 to 0.0003125\n",
      "---------- epoch number: 87 ----------\n",
      "           loss: 0.0049644466\n",
      "---------- epoch number: 88 ----------\n",
      "           loss: 0.00450836\n",
      "---------- epoch number: 89 ----------\n",
      "           loss: 0.0040394193\n",
      "---------- epoch number: 90 ----------\n",
      "           loss: 0.0034369864\n",
      "---------- epoch number: 91 ----------\n",
      "           loss: 0.0032884083\n",
      "---------- epoch number: 92 ----------\n",
      "           loss: 0.0031764202\n",
      "---------- epoch number: 93 ----------\n",
      "           loss: 0.0029189652\n",
      "---------- epoch number: 94 ----------\n",
      "           loss: 0.0028201782\n",
      "---------- epoch number: 95 ----------\n",
      "           loss: 0.002783801\n",
      "---------- epoch number: 96 ----------\n",
      "           loss: 0.0027525278\n",
      "---------- epoch number: 97 ----------\n",
      "           loss: 0.0027243164\n",
      "---------- epoch number: 98 ----------\n",
      "           loss: 0.0026983237\n",
      "---------- epoch number: 99 ----------\n",
      "           loss: 0.0026739347\n"
     ]
    }
   ],
   "source": [
    "net = LSTMMusic(89, 89)\n",
    "lr = 0.01\n",
    "optimizer = torch.optim.Adam(net.parameters(), lr=lr)\n",
    "loss_func = nn.BCELoss()  # Because we are using sigmoid and not softmax, BCELoss is the right choice\n",
    "h_state = torch.zeros(1, 1, 89).float()  # Initializes the hidden\n",
    "c_state = torch.zeros(1, 1, 89).float()  # and cell states\n",
    "seq_len = 14  # We will take as input the 14 previous notes\n",
    "l = []  # Stores the loss per sequence\n",
    "lll = []  # Idem, but will be set to [] after each epoch for ll\n",
    "ll = []  # Stores the mean loss per epoch\n",
    "wait_10 = 0  # We will halve the learning rate if the loss does not decrease in the last 10 epochs\n",
    "for epoch in range(100):\n",
    "    print(\"---------- epoch number:\", epoch, \"----------\")\n",
    "    for step in range(notes_encoded.shape[0]//seq_len - 1):\n",
    "        x = notes_encoded[step:seq_len+step, :, :]  # We take as input the last seq_len notes\n",
    "        x.requires_grad = True\n",
    "        y = notes_encoded[step+seq_len:step+seq_len*2, :, :]  # Uses the whole next sequence to get the loss\n",
    "        #y = notes_encoded[step+seq_len, :, :]                # Uses only the next note after input sequence to get the loss\n",
    "        y_pred, h_c_state = net(x, (h_state, c_state))  \n",
    "        #y_pred = y_pred[0]                                      # Uses only the next note after input sequence to get the loss\n",
    "        # y_pred shape: [seq_len, batch_size, hidden_size]\n",
    "        h_state, c_state = h_c_state[0].data, h_c_state[1].data  # repack the hidden state, break the connection from last iteration\n",
    "        loss = loss_func(y_pred, y)\n",
    "        l.append(loss.data)\n",
    "        lll.append(loss.data)\n",
    "        optimizer.zero_grad()\n",
    "        loss.backward()\n",
    "        optimizer.step()\n",
    "    ll.append(np.mean(lll))\n",
    "    print(\"           loss:\", ll[-1])\n",
    "    if ll[-1] > np.mean(ll[::-1][:10]) and wait_10 >= 10:  # We decrease the learning rate by half\n",
    "        print(\"Halving learning rate from\", lr, \"to\", lr/2)  # When the loss stops decreasing\n",
    "        lr = lr/2\n",
    "        optimizer = torch.optim.Adam(net.parameters(), lr=lr)\n",
    "        wait_10 = 0\n",
    "    lll = []\n",
    "    wait_10 += 1"
   ]
  },
  {
   "cell_type": "code",
   "execution_count": 10,
   "metadata": {
    "colab": {
     "base_uri": "https://localhost:8080/",
     "height": 517
    },
    "colab_type": "code",
    "id": "-2ehQWTif90k",
    "outputId": "1c18e01d-60ef-40fe-908c-1ecb25dc2925"
   },
   "outputs": [
    {
     "data": {
      "image/png": "[encoded data removed]",
      "text/plain": [
       "<Figure size 432x288 with 1 Axes>"
      ]
     },
     "metadata": {
      "image/png": {
       "height": 277,
       "width": 387
      },
      "needs_background": "light"
     },
     "output_type": "display_data"
    },
    {
     "data": {
      "image/png": "[encoded data removed]",
      "text/plain": [
       "<Figure size 432x288 with 1 Axes>"
      ]
     },
     "metadata": {
      "image/png": {
       "height": 277,
       "width": 393
      },
      "needs_background": "light"
     },
     "output_type": "display_data"
    }
   ],
   "source": [
    "import matplotlib.pyplot as plt\n",
    "\n",
    "plt.plot(range(len(l)), l)\n",
    "plt.title(\"Loss for each sample\")\n",
    "plt.ylabel(\"Loss\")\n",
    "plt.xlabel(\"Sample on each epoch\")\n",
    "plt.show()\n",
    "\n",
    "plt.plot(range(len(ll)), ll)\n",
    "plt.title(\"Loss for each epoch\")\n",
    "plt.ylabel(\"Loss\")\n",
    "plt.xlabel(\"Epoch\")\n",
    "plt.show()"
   ]
  },
  {
   "cell_type": "code",
   "execution_count": 11,
   "metadata": {
    "colab": {},
    "colab_type": "code",
    "id": "akbt1z3oiMA3"
   },
   "outputs": [],
   "source": [
    "x = notes_encoded[step:seq_len+step, :, :]\n",
    "y_pred, h_c_state = net(x, (h_state, c_state))"
   ]
  },
  {
   "cell_type": "code",
   "execution_count": 12,
   "metadata": {
    "colab": {
     "base_uri": "https://localhost:8080/",
     "height": 34
    },
    "colab_type": "code",
    "id": "ukmENYw9iQto",
    "outputId": "ceae3474-839e-4c6d-d209-e574340de9dc"
   },
   "outputs": [
    {
     "data": {
      "text/plain": [
       "torch.Size([14, 1, 89])"
      ]
     },
     "execution_count": 12,
     "metadata": {},
     "output_type": "execute_result"
    }
   ],
   "source": [
    "y_pred.shape"
   ]
  },
  {
   "cell_type": "code",
   "execution_count": 13,
   "metadata": {
    "colab": {
     "base_uri": "https://localhost:8080/",
     "height": 34
    },
    "colab_type": "code",
    "id": "y2-EgT94mxj_",
    "outputId": "8a1a96f0-9129-4c5f-c8ad-37cb3909ae03"
   },
   "outputs": [
    {
     "data": {
      "text/plain": [
       "torch.Size([14, 1, 89])"
      ]
     },
     "execution_count": 13,
     "metadata": {},
     "output_type": "execute_result"
    }
   ],
   "source": [
    "x.shape"
   ]
  },
  {
   "cell_type": "code",
   "execution_count": 14,
   "metadata": {
    "colab": {},
    "colab_type": "code",
    "id": "RMWzJPvPiEV0"
   },
   "outputs": [],
   "source": [
    "notes = []\n",
    "x = notes_encoded[2:2+seq_len, :, :]\n",
    "notes.append(x)\n",
    "h_state = torch.zeros(1, 1, 89).float()\n",
    "c_state = torch.zeros(1, 1, 89).float()\n",
    "for step in range(3, 100):\n",
    "    chosen = False\n",
    "    y_pred, h_c_state = net(x, (h_state, c_state))  \n",
    "    h_state, c_state = h_c_state[0].data, h_c_state[1].data\n",
    "    y_pred = y_pred.data\n",
    "    choose = torch.zeros(y_pred.shape)\n",
    "    for seq_idx, nt in enumerate(y_pred):\n",
    "        for idx in range(y_pred.shape[2]):\n",
    "            if nt[:, idx] > 0.9:\n",
    "                choose[seq_idx, :, idx] = 1\n",
    "                chosen = True\n",
    "        if not chosen:\n",
    "            choose[seq_idx, :, np.argmax(nt)] = 1\n",
    "        chosen = False\n",
    "    x = choose\n",
    "    notes.append(choose)"
   ]
  },
  {
   "cell_type": "code",
   "execution_count": 15,
   "metadata": {},
   "outputs": [
    {
     "data": {
      "text/plain": [
       "tensor([[[0., 0., 0.,  ..., 0., 0., 0.]],\n",
       "\n",
       "        [[0., 0., 0.,  ..., 0., 0., 0.]],\n",
       "\n",
       "        [[0., 0., 0.,  ..., 0., 0., 0.]],\n",
       "\n",
       "        ...,\n",
       "\n",
       "        [[0., 0., 0.,  ..., 0., 0., 0.]],\n",
       "\n",
       "        [[0., 0., 0.,  ..., 0., 0., 0.]],\n",
       "\n",
       "        [[0., 0., 0.,  ..., 0., 0., 0.]]])"
      ]
     },
     "execution_count": 15,
     "metadata": {},
     "output_type": "execute_result"
    }
   ],
   "source": [
    "notes[0]"
   ]
  },
  {
   "cell_type": "code",
   "execution_count": 16,
   "metadata": {},
   "outputs": [
    {
     "data": {
      "text/plain": [
       "(1, 89)"
      ]
     },
     "execution_count": 16,
     "metadata": {},
     "output_type": "execute_result"
    }
   ],
   "source": [
    "notes[0][0].numpy().shape"
   ]
  },
  {
   "cell_type": "code",
   "execution_count": 17,
   "metadata": {
    "colab": {},
    "colab_type": "code",
    "id": "oxgxNubknPyt"
   },
   "outputs": [],
   "source": [
    "gen_notes = np.empty((seq_len*len(notes), 89))\n",
    "for idx_seq, seq in enumerate(notes):\n",
    "    for idx_nt, nt in enumerate(seq):\n",
    "        gen_notes[idx_seq*seq_len+idx_nt] = nt[0].numpy()"
   ]
  },
  {
   "cell_type": "code",
   "execution_count": 18,
   "metadata": {
    "colab": {
     "base_uri": "https://localhost:8080/",
     "height": 34
    },
    "colab_type": "code",
    "id": "-3gJfPZsog-N",
    "outputId": "79ee1fa6-e1ac-42aa-ef7b-8429cb35ee93"
   },
   "outputs": [
    {
     "data": {
      "text/plain": [
       "'come_on_14.mid'"
      ]
     },
     "execution_count": 18,
     "metadata": {},
     "output_type": "execute_result"
    }
   ],
   "source": [
    "gen_midi_14 = decode(gen_notes, time_step=0.25)\n",
    "gen_midi_14.write(\"midi\", \"come_on_14.mid\")"
   ]
  },
  {
   "cell_type": "markdown",
   "metadata": {},
   "source": [
    "This looks better, but I think I'm missing some fundamental concept... Need to read and think more on all of this."
   ]
  },
  {
   "cell_type": "code",
   "execution_count": 19,
   "metadata": {
    "colab": {
     "base_uri": "https://localhost:8080/",
     "height": 357
    },
    "colab_type": "code",
    "id": "Kfna1mARomiG",
    "outputId": "c8c9c374-31f1-4abe-abcf-db2f5ad243b4"
   },
   "outputs": [
    {
     "name": "stdout",
     "output_type": "stream",
     "text": [
      "{0.0} <music21.instrument.Piano Piano>\n",
      "{0.0} <music21.tempo.MetronomeMark andante Quarter=74>\n",
      "{0.0} <music21.key.Key of C major>\n",
      "{0.0} <music21.meter.TimeSignature 4/4>\n",
      "{0.0} <music21.note.Note G>\n",
      "{0.25} <music21.note.Note C>\n",
      "{0.5} <music21.note.Note E>\n",
      "{0.75} <music21.note.Note G>\n",
      "{1.0} <music21.note.Note C>\n",
      "{1.25} <music21.note.Note E>\n",
      "{1.5} <music21.note.Rest rest>\n",
      "{2.0} <music21.note.Note G>\n",
      "{2.25} <music21.note.Note C>\n",
      "{2.5} <music21.note.Note E>\n",
      "{2.75} <music21.note.Note G>\n",
      "{3.0} <music21.note.Note C>\n",
      "{3.25} <music21.note.Note E>\n",
      "{3.5} <music21.note.Note E>\n",
      "{3.75} <music21.note.Note A>\n",
      "{4.0} <music21.note.Note A>\n"
     ]
    }
   ],
   "source": [
    "gen_midi_14[:20].show(\"text\")"
   ]
  },
  {
   "cell_type": "code",
   "execution_count": 20,
   "metadata": {
    "colab": {
     "base_uri": "https://localhost:8080/",
     "height": 357
    },
    "colab_type": "code",
    "id": "eIL0DnSSEGjY",
    "outputId": "9884ea41-fbe0-47dd-d56e-6c23fa13e452"
   },
   "outputs": [
    {
     "name": "stdout",
     "output_type": "stream",
     "text": [
      "{0.0} <music21.instrument.Piano Piano>\n",
      "{0.0} <music21.tempo.MetronomeMark andante Quarter=74.0>\n",
      "{0.0} <music21.key.Key of C major>\n",
      "{0.0} <music21.meter.TimeSignature 4/4>\n",
      "{0.0} <music21.note.Rest rest>\n",
      "{0.5} <music21.note.Note G>\n",
      "{0.75} <music21.note.Note C>\n",
      "{1.0} <music21.tempo.MetronomeMark Quarter=75.5>\n",
      "{1.0} <music21.note.Note E>\n",
      "{1.25} <music21.tempo.MetronomeMark andante Quarter=74.0>\n",
      "{1.25} <music21.note.Note G>\n",
      "{1.5} <music21.note.Note C>\n",
      "{1.75} <music21.note.Note E>\n",
      "{2.0} <music21.note.Rest rest>\n",
      "{2.5} <music21.note.Note G>\n",
      "{2.75} <music21.note.Note C>\n",
      "{3.0} <music21.note.Note E>\n",
      "{3.25} <music21.tempo.MetronomeMark Quarter=75.0>\n",
      "{3.25} <music21.note.Note G>\n",
      "{3.5} <music21.note.Note C>\n"
     ]
    }
   ],
   "source": [
    "bach[0][:20].show(\"text\")"
   ]
  }
 ],
 "metadata": {
  "colab": {
   "collapsed_sections": [],
   "name": "ms_py.ipynb",
   "provenance": [],
   "version": "0.3.2"
  },
  "kernelspec": {
   "display_name": "Python 3",
   "language": "python",
   "name": "python3"
  },
  "language_info": {
   "codemirror_mode": {
    "name": "ipython",
    "version": 3
   },
   "file_extension": ".py",
   "mimetype": "text/x-python",
   "name": "python",
   "nbconvert_exporter": "python",
   "pygments_lexer": "ipython3",
   "version": "3.6.7"
  }
 },
 "nbformat": 4,
 "nbformat_minor": 2
}
