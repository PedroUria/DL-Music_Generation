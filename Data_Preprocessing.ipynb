{
 "cells": [
  {
   "cell_type": "markdown",
   "metadata": {},
   "source": [
    "# Getting familiar with *music21*"
   ]
  },
  {
   "cell_type": "markdown",
   "metadata": {},
   "source": [
    "Audio to MIDI is [NOT](https://stackoverflow.com/questions/46394954/is-it-possible-to-analyze-mp3-file-using-music21) quite [possible](https://wiki.audacityteam.org/wiki/Midi#Converting_from_audio_formats_to_MIDI) right now. Such a shame :/. This limits our data A LOT. The `audioSearch` package from `music21` is not there yet... The only way it works is for single-voice monophonic audios (melodies with only one note at a time)... otherwise the combined frequencies messes up the whole thing. It may be possible using Deep Learing, but it would be a project on its own, and possibly out of scope. Audio source separation is considered to be a very difficult topic. TODO: find out more about this... and check out 6.3.1.2, 6.3.2.3, 6.9.3.2 and 7.2 for more, but I think it's out of scope. (sections are from the source provided on `README.md`). \n",
    "\n",
    "MIDI files, apart from being much more rare, are also missing the expresivness of the musician, and maybe something else. TODO: find out if there is some more data missing. \n",
    "\n",
    "We could also use some other types of files, as long as the way *music21* processes them is similar. For now let's try with MIDI."
   ]
  },
  {
   "cell_type": "markdown",
   "metadata": {},
   "source": [
    "## Creating Music"
   ]
  },
  {
   "cell_type": "code",
   "execution_count": 1,
   "metadata": {},
   "outputs": [],
   "source": [
    "import music21 as ms"
   ]
  },
  {
   "cell_type": "code",
   "execution_count": 2,
   "metadata": {},
   "outputs": [
    {
     "data": {
      "image/png": "[encoded data removed]",
      "text/plain": [
       "<IPython.core.display.Image object>"
      ]
     },
     "metadata": {
      "image/png": {
       "height": 50,
       "width": 771
      }
     },
     "output_type": "display_data"
    }
   ],
   "source": [
    "# Creats the C major scale \n",
    "stream = ms.stream.Stream()\n",
    "scale = [\"C\", \"D\", \"E\", \"F\", \"G\", \"A\", \"B\"]\n",
    "for note in scale + [\"C5\"] + scale[::-1]:\n",
    "    stream.append(ms.note.Note(note))\n",
    "# Shows on a score\n",
    "stream.show()"
   ]
  },
  {
   "cell_type": "markdown",
   "metadata": {},
   "source": [
    "*[music21](https://web.mit.edu/music21/doc/index.html)* uses the [scientific pith notation](https://en.wikipedia.org/wiki/Scientific_pitch_notation). The defaults are the fourth octave."
   ]
  },
  {
   "cell_type": "code",
   "execution_count": 3,
   "metadata": {},
   "outputs": [
    {
     "name": "stdout",
     "output_type": "stream",
     "text": [
      "{0.0} <music21.note.Note C>\n",
      "{1.0} <music21.note.Note D>\n",
      "{2.0} <music21.note.Note E>\n",
      "{3.0} <music21.note.Note F>\n",
      "{4.0} <music21.note.Note G>\n",
      "{5.0} <music21.note.Note A>\n",
      "{6.0} <music21.note.Note B>\n",
      "{7.0} <music21.note.Note C>\n",
      "{8.0} <music21.note.Note B>\n",
      "{9.0} <music21.note.Note A>\n",
      "{10.0} <music21.note.Note G>\n",
      "{11.0} <music21.note.Note F>\n",
      "{12.0} <music21.note.Note E>\n",
      "{13.0} <music21.note.Note D>\n",
      "{14.0} <music21.note.Note C>\n"
     ]
    }
   ],
   "source": [
    "stream.show(\"text\")"
   ]
  },
  {
   "cell_type": "code",
   "execution_count": 4,
   "metadata": {},
   "outputs": [
    {
     "data": {
      "text/plain": [
       "<music21.note.Note C>"
      ]
     },
     "execution_count": 4,
     "metadata": {},
     "output_type": "execute_result"
    }
   ],
   "source": [
    "stream[0]"
   ]
  },
  {
   "cell_type": "code",
   "execution_count": 5,
   "metadata": {},
   "outputs": [
    {
     "data": {
      "text/plain": [
       "'C'"
      ]
     },
     "execution_count": 5,
     "metadata": {},
     "output_type": "execute_result"
    }
   ],
   "source": [
    "stream[0].nameWithOctave"
   ]
  },
  {
   "cell_type": "code",
   "execution_count": 6,
   "metadata": {},
   "outputs": [
    {
     "data": {
      "text/plain": [
       "'C5'"
      ]
     },
     "execution_count": 6,
     "metadata": {},
     "output_type": "execute_result"
    }
   ],
   "source": [
    "stream[7].nameWithOctave"
   ]
  },
  {
   "cell_type": "code",
   "execution_count": 7,
   "metadata": {},
   "outputs": [
    {
     "data": {
      "text/plain": [
       "2.0"
      ]
     },
     "execution_count": 7,
     "metadata": {},
     "output_type": "execute_result"
    }
   ],
   "source": [
    "stream[2].offset"
   ]
  },
  {
   "cell_type": "code",
   "execution_count": 8,
   "metadata": {},
   "outputs": [
    {
     "data": {
      "text/plain": [
       "<music21.duration.Duration 15.0>"
      ]
     },
     "execution_count": 8,
     "metadata": {},
     "output_type": "execute_result"
    }
   ],
   "source": [
    "stream.duration"
   ]
  },
  {
   "cell_type": "code",
   "execution_count": 9,
   "metadata": {},
   "outputs": [],
   "source": [
    "# This doesn't work on my Jupyter but might work on yours (it does work when running a script `.py`)\n",
    "#stream.show(\"midi\")\n",
    "# It should actually play the sound"
   ]
  },
  {
   "cell_type": "markdown",
   "metadata": {},
   "source": [
    "Each note comes with an offset, that tells the temporal position of the note on the `Stream` object. There are other attributes to a `Note` object."
   ]
  },
  {
   "cell_type": "code",
   "execution_count": 10,
   "metadata": {},
   "outputs": [
    {
     "name": "stdout",
     "output_type": "stream",
     "text": [
      "<music21.duration.Duration 1.0> quarter\n"
     ]
    }
   ],
   "source": [
    "print(stream[0].duration, stream[0].duration.type)"
   ]
  },
  {
   "cell_type": "markdown",
   "metadata": {},
   "source": [
    "Duration is very important. All our notes had quarter duration. Let's make a note with half duration:"
   ]
  },
  {
   "cell_type": "code",
   "execution_count": 11,
   "metadata": {},
   "outputs": [
    {
     "data": {
      "image/png": "[encoded data removed]",
      "text/plain": [
       "<IPython.core.display.Image object>"
      ]
     },
     "metadata": {
      "image/png": {
       "height": 49,
       "width": 139
      }
     },
     "output_type": "display_data"
    }
   ],
   "source": [
    "nt = ms.note.Note(\"C\")\n",
    "nt.duration = ms.duration.Duration(\"half\")\n",
    "nt.show()"
   ]
  },
  {
   "cell_type": "code",
   "execution_count": 12,
   "metadata": {},
   "outputs": [
    {
     "name": "stdout",
     "output_type": "stream",
     "text": [
      "<music21.duration.Duration 2.0> half\n"
     ]
    }
   ],
   "source": [
    "print(nt.duration, nt.duration.type)"
   ]
  },
  {
   "cell_type": "markdown",
   "metadata": {},
   "source": [
    "Now let's create accompainment. To do this we embed our previous stream within a stream, which will also contain another stream corresponding to the left hand playing. "
   ]
  },
  {
   "cell_type": "code",
   "execution_count": 13,
   "metadata": {},
   "outputs": [
    {
     "name": "stdout",
     "output_type": "stream",
     "text": [
      "{0.0} <music21.stream.Stream 0xa200102e8>\n",
      "    {0.0} <music21.note.Note C>\n",
      "    {1.0} <music21.note.Note D>\n",
      "    {2.0} <music21.note.Note E>\n",
      "    {3.0} <music21.note.Note F>\n",
      "    {4.0} <music21.note.Note G>\n",
      "    {5.0} <music21.note.Note A>\n",
      "    {6.0} <music21.note.Note B>\n",
      "    {7.0} <music21.note.Note C>\n",
      "    {8.0} <music21.note.Note B>\n",
      "    {9.0} <music21.note.Note A>\n",
      "    {10.0} <music21.note.Note G>\n",
      "    {11.0} <music21.note.Note F>\n",
      "    {12.0} <music21.note.Note E>\n",
      "    {13.0} <music21.note.Note D>\n",
      "    {14.0} <music21.note.Note C>\n",
      "{0.0} <music21.stream.Stream 0xa200b39e8>\n",
      "    {0.0} <music21.note.Note C>\n",
      "    {1.0} <music21.note.Note D>\n",
      "    {2.0} <music21.note.Note E>\n",
      "    {3.0} <music21.note.Note F>\n",
      "    {4.0} <music21.note.Note G>\n",
      "    {5.0} <music21.note.Note A>\n",
      "    {6.0} <music21.note.Note B>\n",
      "    {7.0} <music21.note.Note C>\n",
      "    {8.0} <music21.note.Note B>\n",
      "    {9.0} <music21.note.Note A>\n",
      "    {10.0} <music21.note.Note G>\n",
      "    {11.0} <music21.note.Note F>\n",
      "    {12.0} <music21.note.Note E>\n",
      "    {13.0} <music21.note.Note D>\n",
      "    {14.0} <music21.note.Note C>\n"
     ]
    }
   ],
   "source": [
    "two_voices_stream = ms.stream.Stream()\n",
    "two_voices_stream.append(stream)  # stream is the first voice/right hand\n",
    "second_voice_stream = ms.stream.Stream()  # stream for the second voice/left hand\n",
    "scale_below = [\"C3\", \"D3\", \"E3\", \"F3\", \"G3\", \"A3\", \"B3\"]\n",
    "for note in scale_below + [\"C\"] + scale_below[::-1]:\n",
    "    second_voice_stream.append(ms.note.Note(note))\n",
    "two_voices_stream.append(second_voice_stream)\n",
    "second_voice_stream.offset = 0.0  # We need to manually set the offset of the second stream to 0\n",
    "two_voices_stream.show(\"text\")"
   ]
  },
  {
   "cell_type": "code",
   "execution_count": 14,
   "metadata": {},
   "outputs": [
    {
     "data": {
      "image/png": "[encoded data removed]",
      "text/plain": [
       "<IPython.core.display.Image object>"
      ]
     },
     "metadata": {
      "image/png": {
       "height": 119,
       "width": 771
      }
     },
     "output_type": "display_data"
    }
   ],
   "source": [
    "two_voices_stream.show()"
   ]
  },
  {
   "cell_type": "markdown",
   "metadata": {},
   "source": [
    "Another thing an actual music file will contain will be `Rest` objects:"
   ]
  },
  {
   "cell_type": "code",
   "execution_count": 15,
   "metadata": {},
   "outputs": [
    {
     "data": {
      "image/png": "[encoded data removed]",
      "text/plain": [
       "<IPython.core.display.Image object>"
      ]
     },
     "metadata": {
      "image/png": {
       "height": 49,
       "width": 139
      }
     },
     "output_type": "display_data"
    }
   ],
   "source": [
    "r = ms.note.Rest(type='whole')\n",
    "r.show()"
   ]
  },
  {
   "cell_type": "code",
   "execution_count": 16,
   "metadata": {},
   "outputs": [
    {
     "name": "stdout",
     "output_type": "stream",
     "text": [
      "<music21.duration.Duration 4.0> whole\n"
     ]
    }
   ],
   "source": [
    "print(r.duration, r.duration.type)"
   ]
  },
  {
   "cell_type": "markdown",
   "metadata": {},
   "source": [
    "Rests in music are obviously very important and probably need to be encoded too in our representation to feed it onto the ANN (we will need to figure this out later)."
   ]
  },
  {
   "cell_type": "markdown",
   "metadata": {},
   "source": [
    "## Loading .mid files, Converting back to .mid and Some Exploring"
   ]
  },
  {
   "cell_type": "code",
   "execution_count": 17,
   "metadata": {},
   "outputs": [
    {
     "data": {
      "text/plain": [
       "<music21.stream.Score 0xa2010a128>"
      ]
     },
     "execution_count": 17,
     "metadata": {},
     "output_type": "execute_result"
    }
   ],
   "source": [
    "bach = ms.converter.parse(\"bach_846.mid\")\n",
    "bach"
   ]
  },
  {
   "cell_type": "markdown",
   "metadata": {},
   "source": [
    "First let's try to get back the `.mid` file from the `Score` object."
   ]
  },
  {
   "cell_type": "code",
   "execution_count": 18,
   "metadata": {},
   "outputs": [
    {
     "data": {
      "text/plain": [
       "'complete-bach_846.mid'"
      ]
     },
     "execution_count": 18,
     "metadata": {},
     "output_type": "execute_result"
    }
   ],
   "source": [
    "bach.write(\"midi\", \"complete-bach_846.mid\")"
   ]
  },
  {
   "cell_type": "markdown",
   "metadata": {},
   "source": [
    "It works! (Open the file on your computer and check). Now let's explore the `Score` object."
   ]
  },
  {
   "cell_type": "code",
   "execution_count": 19,
   "metadata": {},
   "outputs": [
    {
     "data": {
      "text/plain": [
       "[<music21.stream.Part 0xa20114470>,\n",
       " <music21.stream.Part 0xa204e92e8>,\n",
       " <music21.stream.Part 0xa2057c748>,\n",
       " <music21.stream.Part 0xa206754e0>,\n",
       " <music21.stream.Part 0xa207069b0>,\n",
       " <music21.stream.Part 0xa207da080>]"
      ]
     },
     "execution_count": 19,
     "metadata": {},
     "output_type": "execute_result"
    }
   ],
   "source": [
    "list(bach)"
   ]
  },
  {
   "cell_type": "code",
   "execution_count": 20,
   "metadata": {},
   "outputs": [
    {
     "data": {
      "text/plain": [
       "<music21.stream.Part 0xa20114470>"
      ]
     },
     "execution_count": 20,
     "metadata": {},
     "output_type": "execute_result"
    }
   ],
   "source": [
    "bach[0]"
   ]
  },
  {
   "cell_type": "markdown",
   "metadata": {},
   "source": [
    "Each part corresponds to a different voice/hand. Let's inspect the right hand (not fully, as this is quite long)"
   ]
  },
  {
   "cell_type": "code",
   "execution_count": 21,
   "metadata": {},
   "outputs": [
    {
     "name": "stdout",
     "output_type": "stream",
     "text": [
      "{0.0} <music21.instrument.Piano Piano>\n",
      "{0.0} <music21.tempo.MetronomeMark andante Quarter=74.0>\n",
      "{0.0} <music21.key.Key of C major>\n",
      "{0.0} <music21.meter.TimeSignature 4/4>\n",
      "{0.0} <music21.note.Rest rest>\n",
      "{0.5} <music21.note.Note G>\n",
      "{0.75} <music21.note.Note C>\n",
      "{1.0} <music21.tempo.MetronomeMark Quarter=75.5>\n",
      "{1.0} <music21.note.Note E>\n",
      "{1.25} <music21.tempo.MetronomeMark andante Quarter=74.0>\n",
      "{1.25} <music21.note.Note G>\n",
      "{1.5} <music21.note.Note C>\n",
      "{1.75} <music21.note.Note E>\n",
      "{2.0} <music21.note.Rest rest>\n",
      "{2.5} <music21.note.Note G>\n",
      "{2.75} <music21.note.Note C>\n",
      "{3.0} <music21.note.Note E>\n",
      "{3.25} <music21.tempo.MetronomeMark Quarter=75.0>\n",
      "{3.25} <music21.note.Note G>\n",
      "{3.5} <music21.note.Note C>\n"
     ]
    }
   ],
   "source": [
    "bach[0][:20].show(\"text\")"
   ]
  },
  {
   "cell_type": "markdown",
   "metadata": {},
   "source": [
    "We can see that there is info for which instrument should be played (pontetially to be omitted in our encoding), the [tempo](https://en.wikipedia.org/wiki/Tempo), the [key](https://en.wikipedia.org/wiki/Key_(music)), the [time signature](https://en.wikipedia.org/wiki/Time_signature) and then notes and rests, with some changes in the tempo between these. We will need to figure out how which of these data points we keep, and how to encode them. For the left hand, we also have `Chord` objects. To filter them, see below."
   ]
  },
  {
   "cell_type": "markdown",
   "metadata": {},
   "source": [
    "Getting only the notes, rests and chords, for the first two voices."
   ]
  },
  {
   "cell_type": "code",
   "execution_count": 22,
   "metadata": {},
   "outputs": [
    {
     "data": {
      "text/plain": [
       "'bach_846-first_two_voices_fixed_tempo.mid'"
      ]
     },
     "execution_count": 22,
     "metadata": {},
     "output_type": "execute_result"
    }
   ],
   "source": [
    "two_hands = ms.stream.Stream()\n",
    "\n",
    "right_hand = []  # Create an empty list instead of an empty stream\n",
    "right_hand.append(ms.tempo.MetronomeMark(\"andante\", 74))  # Set the tempo as fixed at the beginning\n",
    "right = iter(bach[0])\n",
    "right.filters.append(ms.stream.filters.ClassFilter([\"Rest\", \"Note\", \"Chord\"]))\n",
    "for note in right:\n",
    "    right_hand.append(note)\n",
    "right_hand = ms.stream.Stream(right_hand)  # And convert at the end, otherwise it messes up the order\n",
    "# This Needs more playing-with\n",
    "    \n",
    "left_hand = []\n",
    "left = iter(bach[1])\n",
    "left.filters.append(ms.stream.filters.ClassFilter([\"Rest\", \"Note\", \"Chord\"]))\n",
    "for note in left:\n",
    "    left_hand.append(note)\n",
    "left_hand = ms.stream.Stream(left_hand)\n",
    "\n",
    "two_hands.append(right_hand)\n",
    "two_hands.append(left_hand)\n",
    "left_hand.offset = 0.0\n",
    "two_hands.write(\"midi\", \"bach_846-first_two_voices_fixed_tempo.mid\")"
   ]
  },
  {
   "cell_type": "markdown",
   "metadata": {},
   "source": [
    "`bach_846-first_two_voices_fixed_tempo.mid` should be have the same notes as to `bach_846.mid`, but only for the first two voices and with a fixed *andante 74* tempo. You can check this by opening the file and comparing with the original."
   ]
  },
  {
   "cell_type": "markdown",
   "metadata": {},
   "source": [
    "## Encoding"
   ]
  },
  {
   "cell_type": "markdown",
   "metadata": {},
   "source": [
    "TODO: figure out how to encode and decode. NOTE: Probably many-hot encode and add extra dimensions for tempo, key?, etc. The offset would give us the $t$ on the vector $\\bar{p}_t$."
   ]
  },
  {
   "cell_type": "markdown",
   "metadata": {},
   "source": [
    "## Data Gathering"
   ]
  },
  {
   "cell_type": "markdown",
   "metadata": {},
   "source": [
    "TODO: figure out where to get data from, and organize songs on different styles and authors. [This](http://web.mit.edu/music21/doc/usersGuide/usersGuide_08_installingMusicXML.html) is a good start. Also check 4.12.2."
   ]
  },
  {
   "cell_type": "markdown",
   "metadata": {},
   "source": [
    "## Actual Approach\n",
    "\n",
    "TODO: Discuss the actual approach, after reading the source on `README.md`. After this, we can proceed with the encoding. For now, we should focus on gathering the data and reading the book/paper."
   ]
  }
 ],
 "metadata": {
  "kernelspec": {
   "display_name": "Python 3",
   "language": "python",
   "name": "python3"
  },
  "language_info": {
   "codemirror_mode": {
    "name": "ipython",
    "version": 3
   },
   "file_extension": ".py",
   "mimetype": "text/x-python",
   "name": "python",
   "nbconvert_exporter": "python",
   "pygments_lexer": "ipython3",
   "version": "3.6.7"
  }
 },
 "nbformat": 4,
 "nbformat_minor": 2
}
