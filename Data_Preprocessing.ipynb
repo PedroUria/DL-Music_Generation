{
 "cells": [
  {
   "cell_type": "markdown",
   "metadata": {},
   "source": [
    "# Getting familiar with *music21*"
   ]
  },
  {
   "cell_type": "markdown",
   "metadata": {},
   "source": [
    "Audio to MIDI is [NOT](https://stackoverflow.com/questions/46394954/is-it-possible-to-analyze-mp3-file-using-music21) quite [possible](https://wiki.audacityteam.org/wiki/Midi#Converting_from_audio_formats_to_MIDI) right now. Such a shame :/. This limits our data A LOT. The `audioSearch` package from `music21` is not there yet... The only way it works is for single-voice monophonic audios (melodies with only one note at a time)... otherwise the combined frequencies messes up the whole thing. It may be possible using Deep Learing, but it would be a project on its own, and possibly out of scope. Audio source separation is considered to be a very difficult topic. TODO: find out more about this... and check out 6.3.1.2, 6.3.2.3, 6.9.3.2 and 7.2 for more, but I think it's out of scope. (sections are from the source provided on `README.md`). \n",
    "\n",
    "MIDI files, apart from being much more rare, are also missing the expresivness of the musician, and maybe something else. TODO: find out if there is some more data missing. \n",
    "\n",
    "We could also use some other types of files, as long as the way *music21* processes them is similar. For now let's try with MIDI."
   ]
  },
  {
   "cell_type": "markdown",
   "metadata": {},
   "source": [
    "## Creating Music"
   ]
  },
  {
   "cell_type": "code",
   "execution_count": 1,
   "metadata": {},
   "outputs": [],
   "source": [
    "import music21 as ms"
   ]
  },
  {
   "cell_type": "code",
   "execution_count": 2,
   "metadata": {},
   "outputs": [
    {
     "data": {
      "image/png": "[encoded data removed]",
      "text/plain": [
       "<IPython.core.display.Image object>"
      ]
     },
     "metadata": {
      "image/png": {
       "height": 50,
       "width": 771
      }
     },
     "output_type": "display_data"
    }
   ],
   "source": [
    "# Creats the C major scale \n",
    "stream = ms.stream.Stream()\n",
    "scale = [\"C\", \"D\", \"E\", \"F\", \"G\", \"A\", \"B\"]\n",
    "for note in scale + [\"C5\"] + scale[::-1]:\n",
    "    stream.append(ms.note.Note(note))\n",
    "# Shows on a score\n",
    "stream.show()"
   ]
  },
  {
   "cell_type": "markdown",
   "metadata": {},
   "source": [
    "*[music21](https://web.mit.edu/music21/doc/index.html)* uses the [scientific pith notation](https://en.wikipedia.org/wiki/Scientific_pitch_notation). The defaults are the fourth octave."
   ]
  },
  {
   "cell_type": "code",
   "execution_count": 3,
   "metadata": {},
   "outputs": [
    {
     "name": "stdout",
     "output_type": "stream",
     "text": [
      "{0.0} <music21.note.Note C>\n",
      "{1.0} <music21.note.Note D>\n",
      "{2.0} <music21.note.Note E>\n",
      "{3.0} <music21.note.Note F>\n",
      "{4.0} <music21.note.Note G>\n",
      "{5.0} <music21.note.Note A>\n",
      "{6.0} <music21.note.Note B>\n",
      "{7.0} <music21.note.Note C>\n",
      "{8.0} <music21.note.Note B>\n",
      "{9.0} <music21.note.Note A>\n",
      "{10.0} <music21.note.Note G>\n",
      "{11.0} <music21.note.Note F>\n",
      "{12.0} <music21.note.Note E>\n",
      "{13.0} <music21.note.Note D>\n",
      "{14.0} <music21.note.Note C>\n"
     ]
    }
   ],
   "source": [
    "stream.show(\"text\")"
   ]
  },
  {
   "cell_type": "code",
   "execution_count": 4,
   "metadata": {},
   "outputs": [
    {
     "data": {
      "text/plain": [
       "<music21.note.Note C>"
      ]
     },
     "execution_count": 4,
     "metadata": {},
     "output_type": "execute_result"
    }
   ],
   "source": [
    "stream[0]"
   ]
  },
  {
   "cell_type": "code",
   "execution_count": 5,
   "metadata": {},
   "outputs": [
    {
     "data": {
      "text/plain": [
       "'C'"
      ]
     },
     "execution_count": 5,
     "metadata": {},
     "output_type": "execute_result"
    }
   ],
   "source": [
    "stream[0].nameWithOctave"
   ]
  },
  {
   "cell_type": "code",
   "execution_count": 6,
   "metadata": {},
   "outputs": [
    {
     "data": {
      "text/plain": [
       "'C5'"
      ]
     },
     "execution_count": 6,
     "metadata": {},
     "output_type": "execute_result"
    }
   ],
   "source": [
    "stream[7].nameWithOctave"
   ]
  },
  {
   "cell_type": "code",
   "execution_count": 7,
   "metadata": {},
   "outputs": [
    {
     "data": {
      "text/plain": [
       "2.0"
      ]
     },
     "execution_count": 7,
     "metadata": {},
     "output_type": "execute_result"
    }
   ],
   "source": [
    "stream[2].offset"
   ]
  },
  {
   "cell_type": "code",
   "execution_count": 8,
   "metadata": {},
   "outputs": [
    {
     "data": {
      "text/plain": [
       "<music21.duration.Duration 15.0>"
      ]
     },
     "execution_count": 8,
     "metadata": {},
     "output_type": "execute_result"
    }
   ],
   "source": [
    "stream.duration"
   ]
  },
  {
   "cell_type": "code",
   "execution_count": 9,
   "metadata": {},
   "outputs": [],
   "source": [
    "# This doesn't work on my Jupyter but might work on yours (it does work when running a script `.py`)\n",
    "#stream.show(\"midi\")\n",
    "# It should actually play the sound"
   ]
  },
  {
   "cell_type": "markdown",
   "metadata": {},
   "source": [
    "Each note comes with an offset, that tells the temporal position of the note on the `Stream` object. There are other attributes to a `Note` object."
   ]
  },
  {
   "cell_type": "code",
   "execution_count": 10,
   "metadata": {},
   "outputs": [
    {
     "name": "stdout",
     "output_type": "stream",
     "text": [
      "<music21.duration.Duration 1.0> quarter\n"
     ]
    }
   ],
   "source": [
    "print(stream[0].duration, stream[0].duration.type)"
   ]
  },
  {
   "cell_type": "markdown",
   "metadata": {},
   "source": [
    "Duration is very important. All our notes had quarter duration. Let's make a note with half duration:"
   ]
  },
  {
   "cell_type": "code",
   "execution_count": 11,
   "metadata": {},
   "outputs": [
    {
     "data": {
      "image/png": "[encoded data removed]",
      "text/plain": [
       "<IPython.core.display.Image object>"
      ]
     },
     "metadata": {
      "image/png": {
       "height": 49,
       "width": 139
      }
     },
     "output_type": "display_data"
    }
   ],
   "source": [
    "nt = ms.note.Note(\"C\")\n",
    "nt.duration = ms.duration.Duration(\"half\")\n",
    "nt.show()"
   ]
  },
  {
   "cell_type": "code",
   "execution_count": 12,
   "metadata": {},
   "outputs": [
    {
     "name": "stdout",
     "output_type": "stream",
     "text": [
      "<music21.duration.Duration 2.0> half\n"
     ]
    }
   ],
   "source": [
    "print(nt.duration, nt.duration.type)"
   ]
  },
  {
   "cell_type": "markdown",
   "metadata": {},
   "source": [
    "Now let's create accompainment. To do this we embed our previous stream within a stream, which will also contain another stream corresponding to the left hand playing. "
   ]
  },
  {
   "cell_type": "code",
   "execution_count": 13,
   "metadata": {},
   "outputs": [
    {
     "name": "stdout",
     "output_type": "stream",
     "text": [
      "{0.0} <music21.stream.Stream 0xa1c674668>\n",
      "    {0.0} <music21.note.Note C>\n",
      "    {1.0} <music21.note.Note D>\n",
      "    {2.0} <music21.note.Note E>\n",
      "    {3.0} <music21.note.Note F>\n",
      "    {4.0} <music21.note.Note G>\n",
      "    {5.0} <music21.note.Note A>\n",
      "    {6.0} <music21.note.Note B>\n",
      "    {7.0} <music21.note.Note C>\n",
      "    {8.0} <music21.note.Note B>\n",
      "    {9.0} <music21.note.Note A>\n",
      "    {10.0} <music21.note.Note G>\n",
      "    {11.0} <music21.note.Note F>\n",
      "    {12.0} <music21.note.Note E>\n",
      "    {13.0} <music21.note.Note D>\n",
      "    {14.0} <music21.note.Note C>\n",
      "{0.0} <music21.stream.Stream 0xa1c68e550>\n",
      "    {0.0} <music21.note.Note C>\n",
      "    {1.0} <music21.note.Note D>\n",
      "    {2.0} <music21.note.Note E>\n",
      "    {3.0} <music21.note.Note F>\n",
      "    {4.0} <music21.note.Note G>\n",
      "    {5.0} <music21.note.Note A>\n",
      "    {6.0} <music21.note.Note B>\n",
      "    {7.0} <music21.note.Note C>\n",
      "    {8.0} <music21.note.Note B>\n",
      "    {9.0} <music21.note.Note A>\n",
      "    {10.0} <music21.note.Note G>\n",
      "    {11.0} <music21.note.Note F>\n",
      "    {12.0} <music21.note.Note E>\n",
      "    {13.0} <music21.note.Note D>\n",
      "    {14.0} <music21.note.Note C>\n"
     ]
    }
   ],
   "source": [
    "two_voices_stream = ms.stream.Stream()\n",
    "two_voices_stream.append(stream)  # stream is the first voice/right hand\n",
    "second_voice_stream = ms.stream.Stream()  # stream for the second voice/left hand\n",
    "scale_below = [\"C3\", \"D3\", \"E3\", \"F3\", \"G3\", \"A3\", \"B3\"]\n",
    "for note in scale_below + [\"C\"] + scale_below[::-1]:\n",
    "    second_voice_stream.append(ms.note.Note(note))\n",
    "two_voices_stream.append(second_voice_stream)\n",
    "second_voice_stream.offset = 0.0  # We need to manually set the offset of the second stream to 0\n",
    "two_voices_stream.show(\"text\")"
   ]
  },
  {
   "cell_type": "code",
   "execution_count": 14,
   "metadata": {},
   "outputs": [
    {
     "data": {
      "image/png": "[encoded data removed]",
      "text/plain": [
       "<IPython.core.display.Image object>"
      ]
     },
     "metadata": {
      "image/png": {
       "height": 119,
       "width": 771
      }
     },
     "output_type": "display_data"
    }
   ],
   "source": [
    "two_voices_stream.show()"
   ]
  },
  {
   "cell_type": "markdown",
   "metadata": {},
   "source": [
    "Another thing an actual music file will contain will be `Rest` objects:"
   ]
  },
  {
   "cell_type": "code",
   "execution_count": 15,
   "metadata": {},
   "outputs": [
    {
     "data": {
      "image/png": "[encoded data removed]",
      "text/plain": [
       "<IPython.core.display.Image object>"
      ]
     },
     "metadata": {
      "image/png": {
       "height": 49,
       "width": 139
      }
     },
     "output_type": "display_data"
    }
   ],
   "source": [
    "r = ms.note.Rest(type='whole')\n",
    "r.show()"
   ]
  },
  {
   "cell_type": "code",
   "execution_count": 16,
   "metadata": {},
   "outputs": [
    {
     "name": "stdout",
     "output_type": "stream",
     "text": [
      "<music21.duration.Duration 4.0> whole\n"
     ]
    }
   ],
   "source": [
    "print(r.duration, r.duration.type)"
   ]
  },
  {
   "cell_type": "markdown",
   "metadata": {},
   "source": [
    "Rests in music are obviously very important and probably need to be encoded too in our representation to feed it onto the ANN (we will need to figure this out later)."
   ]
  },
  {
   "cell_type": "markdown",
   "metadata": {},
   "source": [
    "## Loading .mid files, Converting back to .mid and Some Exploring"
   ]
  },
  {
   "cell_type": "code",
   "execution_count": 17,
   "metadata": {},
   "outputs": [
    {
     "data": {
      "text/plain": [
       "<music21.stream.Score 0xa1c767438>"
      ]
     },
     "execution_count": 17,
     "metadata": {},
     "output_type": "execute_result"
    }
   ],
   "source": [
    "bach = ms.converter.parse(\"bach_846.mid\")\n",
    "bach"
   ]
  },
  {
   "cell_type": "markdown",
   "metadata": {},
   "source": [
    "First let's try to get back the `.mid` file from the `Score` object."
   ]
  },
  {
   "cell_type": "code",
   "execution_count": 18,
   "metadata": {},
   "outputs": [
    {
     "data": {
      "text/plain": [
       "'complete-bach_846.mid'"
      ]
     },
     "execution_count": 18,
     "metadata": {},
     "output_type": "execute_result"
    }
   ],
   "source": [
    "bach.write(\"midi\", \"complete-bach_846.mid\")"
   ]
  },
  {
   "cell_type": "markdown",
   "metadata": {},
   "source": [
    "It works! (Open the file on your computer and check). Now let's explore the `Score` object."
   ]
  },
  {
   "cell_type": "code",
   "execution_count": 19,
   "metadata": {},
   "outputs": [
    {
     "data": {
      "text/plain": [
       "[<music21.stream.Part 0xa1c75f8d0>,\n",
       " <music21.stream.Part 0xa1cb43630>,\n",
       " <music21.stream.Part 0xa1cbd2a90>,\n",
       " <music21.stream.Part 0xa1c698748>,\n",
       " <music21.stream.Part 0xa1cd657b8>,\n",
       " <music21.stream.Part 0xa1ce20e48>]"
      ]
     },
     "execution_count": 19,
     "metadata": {},
     "output_type": "execute_result"
    }
   ],
   "source": [
    "list(bach)"
   ]
  },
  {
   "cell_type": "code",
   "execution_count": 20,
   "metadata": {},
   "outputs": [
    {
     "data": {
      "text/plain": [
       "<music21.stream.Part 0xa1c75f8d0>"
      ]
     },
     "execution_count": 20,
     "metadata": {},
     "output_type": "execute_result"
    }
   ],
   "source": [
    "bach[0]"
   ]
  },
  {
   "cell_type": "markdown",
   "metadata": {},
   "source": [
    "Each part corresponds to a different voice/hand. Let's inspect the right hand (not fully, as this is quite long)"
   ]
  },
  {
   "cell_type": "code",
   "execution_count": 21,
   "metadata": {},
   "outputs": [
    {
     "name": "stdout",
     "output_type": "stream",
     "text": [
      "{0.0} <music21.instrument.Piano Piano>\n",
      "{0.0} <music21.tempo.MetronomeMark andante Quarter=74.0>\n",
      "{0.0} <music21.key.Key of C major>\n",
      "{0.0} <music21.meter.TimeSignature 4/4>\n",
      "{0.0} <music21.note.Rest rest>\n",
      "{0.5} <music21.note.Note G>\n",
      "{0.75} <music21.note.Note C>\n",
      "{1.0} <music21.tempo.MetronomeMark Quarter=75.5>\n",
      "{1.0} <music21.note.Note E>\n",
      "{1.25} <music21.tempo.MetronomeMark andante Quarter=74.0>\n",
      "{1.25} <music21.note.Note G>\n",
      "{1.5} <music21.note.Note C>\n",
      "{1.75} <music21.note.Note E>\n",
      "{2.0} <music21.note.Rest rest>\n",
      "{2.5} <music21.note.Note G>\n",
      "{2.75} <music21.note.Note C>\n",
      "{3.0} <music21.note.Note E>\n",
      "{3.25} <music21.tempo.MetronomeMark Quarter=75.0>\n",
      "{3.25} <music21.note.Note G>\n",
      "{3.5} <music21.note.Note C>\n"
     ]
    }
   ],
   "source": [
    "bach[0][:20].show(\"text\")"
   ]
  },
  {
   "cell_type": "markdown",
   "metadata": {},
   "source": [
    "We can see that there is info for which instrument should be played (pontetially to be omitted in our encoding), the [tempo](https://en.wikipedia.org/wiki/Tempo), the [key](https://en.wikipedia.org/wiki/Key_(music)), the [time signature](https://en.wikipedia.org/wiki/Time_signature) and then notes and rests, with some changes in the tempo between these. We will need to figure out how which of these data points we keep, and how to encode them. For the left hand, we also have `Chord` objects. To filter them, see below."
   ]
  },
  {
   "cell_type": "markdown",
   "metadata": {},
   "source": [
    "Getting only the notes, rests and chords, for the first two voices."
   ]
  },
  {
   "cell_type": "code",
   "execution_count": 22,
   "metadata": {},
   "outputs": [
    {
     "data": {
      "text/plain": [
       "'bach_846-first_two_voices_fixed_tempo.mid'"
      ]
     },
     "execution_count": 22,
     "metadata": {},
     "output_type": "execute_result"
    }
   ],
   "source": [
    "two_hands = ms.stream.Stream()\n",
    "\n",
    "right_hand = []  # Create an empty list instead of an empty stream\n",
    "right_hand.append(ms.tempo.MetronomeMark(\"andante\", 74))  # Set the tempo as fixed at the beginning\n",
    "right = iter(bach[0])\n",
    "right.filters.append(ms.stream.filters.ClassFilter([\"Rest\", \"Note\", \"Chord\"]))\n",
    "for note in right:\n",
    "    right_hand.append(note)\n",
    "right_hand = ms.stream.Stream(right_hand)  # And convert at the end, otherwise it messes up the order\n",
    "# This Needs more playing-with\n",
    "    \n",
    "left_hand = []\n",
    "left = iter(bach[1])\n",
    "left.filters.append(ms.stream.filters.ClassFilter([\"Rest\", \"Note\", \"Chord\"]))\n",
    "for note in left:\n",
    "    left_hand.append(note)\n",
    "left_hand = ms.stream.Stream(left_hand)\n",
    "\n",
    "two_hands.append(right_hand)\n",
    "two_hands.append(left_hand)\n",
    "left_hand.offset = 0.0\n",
    "two_hands.write(\"midi\", \"bach_846-first_two_voices_fixed_tempo.mid\")"
   ]
  },
  {
   "cell_type": "markdown",
   "metadata": {},
   "source": [
    "`bach_846-first_two_voices_fixed_tempo.mid` should be have the same notes as to `bach_846.mid`, but only for the first two voices and with a fixed *andante 74* tempo. You can check this by opening the file and comparing with the original."
   ]
  },
  {
   "cell_type": "code",
   "execution_count": null,
   "metadata": {},
   "outputs": [],
   "source": []
  },
  {
   "cell_type": "code",
   "execution_count": null,
   "metadata": {},
   "outputs": [],
   "source": []
  },
  {
   "cell_type": "code",
   "execution_count": null,
   "metadata": {},
   "outputs": [],
   "source": []
  },
  {
   "cell_type": "code",
   "execution_count": null,
   "metadata": {},
   "outputs": [],
   "source": []
  },
  {
   "cell_type": "code",
   "execution_count": null,
   "metadata": {},
   "outputs": [],
   "source": []
  },
  {
   "cell_type": "markdown",
   "metadata": {},
   "source": [
    "# Encoding & Decoding"
   ]
  },
  {
   "cell_type": "markdown",
   "metadata": {},
   "source": [
    "Note -> For each note, one component of $\\bar{p}$ (`.nameWithOctave`)  \n",
    "Note Hold/Ending -> Hold = Tied to the previous note. Get from duration of notes longer than `\"64th\"`.  \n",
    "Rest -> One extra dimension for rest on $\\bar{p}$. (`if note.isRest`)  \n",
    "Tempo -> One extra dimension (global tempo for now). Integer beats per minute  \n",
    "Rythm  -> `.TimeSignature()?`.  [Seems like we do not need this](https://music.stackexchange.com/questions/3346/what-is-the-connection-between-time-signature-beat-and-tempo). I changed the `.TimeSignature()` in the decoder and it has no effect. It is only for [readability purposes](https://www.youtube.com/watch?v=mlZVQbFW0JA). Then Tempo [seems to be enough](https://www.youtube.com/watch?v=bAK5-pUxSDE)? Being doing a little research and Tempo and Rythm are not exactly the same thing, but it seems the Rythm cannot really be defined with a precise meassure. Rythm is actually a recognizable pattern that you can find in any piece of music, which results from a combination of the tempo and the notes that are being played and their durations.  \n",
    "Multivoice/Different Instrument -> Mmm...  TODO!: in progress.  \n",
    "Note Intensity -> One extra dimension (`.volume.velocity`? or `.volume.realized`?)  TODO!  \n",
    "Key -> I don't think it matters. I checked on the decoding part using different keys and it produces the same notes. [Read this](https://en.wikipedia.org/wiki/Key_(music)) for it to make more sense, but it's basically [the tone](https://www.youtube.com/watch?v=6rHyM-oPqjw) of the whole piece. However, as each note in MIDI file has all the info, this does not seem relevant for us.  \n",
    "Time step ($\\bar{p}_{t_0}$, $\\bar{p}_{t_1}$) -> $t_1 - t_0$ will be the shortest note duration (`\"64th\"` or 0.05 as `.quarterLength`). Some `.quarterLength` durations are not multiples of 0.05, so for example, if the `.quarterLength=0.33`, the vectors needed to encode this note would be 6.6, but we decided to keep them at 6."
   ]
  },
  {
   "cell_type": "markdown",
   "metadata": {},
   "source": [
    "Let's inspect the right hand of `bach` in more detail"
   ]
  },
  {
   "cell_type": "code",
   "execution_count": 23,
   "metadata": {},
   "outputs": [
    {
     "name": "stdout",
     "output_type": "stream",
     "text": [
      "{0.0} <music21.instrument.Piano Piano>\n",
      "{0.0} <music21.tempo.MetronomeMark andante Quarter=74.0>\n",
      "{0.0} <music21.key.Key of C major>\n",
      "{0.0} <music21.meter.TimeSignature 4/4>\n",
      "{0.0} <music21.note.Rest rest>\n",
      "{0.5} <music21.note.Note G>\n",
      "{0.75} <music21.note.Note C>\n",
      "{1.0} <music21.tempo.MetronomeMark Quarter=75.5>\n",
      "{1.0} <music21.note.Note E>\n",
      "{1.25} <music21.tempo.MetronomeMark andante Quarter=74.0>\n",
      "{1.25} <music21.note.Note G>\n",
      "{1.5} <music21.note.Note C>\n",
      "{1.75} <music21.note.Note E>\n",
      "{2.0} <music21.note.Rest rest>\n",
      "{2.5} <music21.note.Note G>\n",
      "{2.75} <music21.note.Note C>\n",
      "{3.0} <music21.note.Note E>\n",
      "{3.25} <music21.tempo.MetronomeMark Quarter=75.0>\n",
      "{3.25} <music21.note.Note G>\n",
      "{3.5} <music21.note.Note C>\n"
     ]
    }
   ],
   "source": [
    "bach[0][:20].show(\"text\")"
   ]
  },
  {
   "cell_type": "markdown",
   "metadata": {},
   "source": [
    "## Note Encoding"
   ]
  },
  {
   "cell_type": "code",
   "execution_count": 24,
   "metadata": {},
   "outputs": [],
   "source": [
    "import numpy as np"
   ]
  },
  {
   "cell_type": "markdown",
   "metadata": {},
   "source": [
    "There are 10 octaves, from 0 to 9. The first note is `\"C0\"` and the last note is `\"C9\"`. For the piano, is `\"A0\"` from `\"C8\"`. Let's use frequencies so we don't have to distinguish between \"#\" and \"b\"."
   ]
  },
  {
   "cell_type": "code",
   "execution_count": 25,
   "metadata": {},
   "outputs": [
    {
     "data": {
      "text/plain": [
       "466.1637615180899"
      ]
     },
     "execution_count": 25,
     "metadata": {},
     "output_type": "execute_result"
    }
   ],
   "source": [
    "ms.note.Note(\"Bb\").pitch.frequency"
   ]
  },
  {
   "cell_type": "code",
   "execution_count": 26,
   "metadata": {},
   "outputs": [
    {
     "data": {
      "text/plain": [
       "466.1637615180899"
      ]
     },
     "execution_count": 26,
     "metadata": {},
     "output_type": "execute_result"
    }
   ],
   "source": [
    "ms.note.Note(\"A#\").pitch.frequency"
   ]
  },
  {
   "cell_type": "code",
   "execution_count": 27,
   "metadata": {},
   "outputs": [
    {
     "data": {
      "text/plain": [
       "(87,)"
      ]
     },
     "execution_count": 27,
     "metadata": {},
     "output_type": "execute_result"
    }
   ],
   "source": [
    "# Gets a NumPY array with the different note frequencies.\n",
    "notes_freq = [ms.note.Note(note).pitch.frequency for note in [\"A0\", \"A#0\"]]\n",
    "s = [\"C\", \"C#\", \"D\", \"D#\", \"E\", \"F\", \"F#\", \"G\", \"G#\", \"A\", \"A#\", \"B\"]\n",
    "for i in range(1, 8):\n",
    "    notes_freq += [ms.note.Note(note + str(i)).pitch.frequency for note in s]\n",
    "notes_freq.append(ms.note.Note(\"C8\").pitch.frequency)\n",
    "notes_freq = np.array(notes_freq)\n",
    "notes_freq.shape"
   ]
  },
  {
   "cell_type": "code",
   "execution_count": 28,
   "metadata": {},
   "outputs": [
    {
     "name": "stdout",
     "output_type": "stream",
     "text": [
      "(87,)\n"
     ]
    },
    {
     "data": {
      "text/plain": [
       "array([0, 0, 0, 0, 0, 0, 0, 0, 0, 0, 0, 0, 0, 0, 0, 0, 0, 0, 0, 0, 0, 0,\n",
       "       0, 0, 0, 0, 0, 0, 0, 0, 0, 0, 0, 0, 0, 0, 0, 0, 0, 0, 0, 0, 0, 0,\n",
       "       0, 1, 0, 0, 0, 0, 0, 0, 0, 0, 0, 0, 0, 0, 0, 0, 0, 0, 0, 0, 0, 0,\n",
       "       0, 0, 0, 0, 0, 0, 0, 0, 0, 0, 0, 0, 0, 0, 0, 0, 0, 0, 0, 0, 0])"
      ]
     },
     "execution_count": 28,
     "metadata": {},
     "output_type": "execute_result"
    }
   ],
   "source": [
    "nt = bach[0][5]\n",
    "if type(nt) == ms.note.Note:\n",
    "    note_encoded = (notes_freq == nt.pitch.frequency)*1\n",
    "print(note_encoded.shape)\n",
    "note_encoded"
   ]
  },
  {
   "cell_type": "markdown",
   "metadata": {},
   "source": [
    "## Rest Encoding\n",
    "\n",
    "Let's add one extra dimension at the bottom of the array to include rests"
   ]
  },
  {
   "cell_type": "code",
   "execution_count": 29,
   "metadata": {},
   "outputs": [
    {
     "name": "stdout",
     "output_type": "stream",
     "text": [
      "(88,)\n"
     ]
    },
    {
     "data": {
      "text/plain": [
       "array([0, 0, 0, 0, 0, 0, 0, 0, 0, 0, 0, 0, 0, 0, 0, 0, 0, 0, 0, 0, 0, 0,\n",
       "       0, 0, 0, 0, 0, 0, 0, 0, 0, 0, 0, 0, 0, 0, 0, 0, 0, 0, 0, 0, 0, 0,\n",
       "       0, 1, 0, 0, 0, 0, 0, 0, 0, 0, 0, 0, 0, 0, 0, 0, 0, 0, 0, 0, 0, 0,\n",
       "       0, 0, 0, 0, 0, 0, 0, 0, 0, 0, 0, 0, 0, 0, 0, 0, 0, 0, 0, 0, 0, 0])"
      ]
     },
     "execution_count": 29,
     "metadata": {},
     "output_type": "execute_result"
    }
   ],
   "source": [
    "if type(nt) == ms.note.Rest:\n",
    "    note_encoded = np.append(note_encoded, 1)\n",
    "else:\n",
    "    note_encoded = np.append(note_encoded, 0)\n",
    "print(note_encoded.shape)\n",
    "note_encoded"
   ]
  },
  {
   "cell_type": "markdown",
   "metadata": {},
   "source": [
    "## Tempo Encoding"
   ]
  },
  {
   "cell_type": "code",
   "execution_count": 30,
   "metadata": {},
   "outputs": [
    {
     "data": {
      "text/plain": [
       "74.0"
      ]
     },
     "execution_count": 30,
     "metadata": {},
     "output_type": "execute_result"
    }
   ],
   "source": [
    "if type(bach[0][1]) == ms.tempo.MetronomeMark:\n",
    "    tempo = bach[0][1].number\n",
    "tempo"
   ]
  },
  {
   "cell_type": "code",
   "execution_count": 31,
   "metadata": {},
   "outputs": [
    {
     "name": "stdout",
     "output_type": "stream",
     "text": [
      "(89,)\n"
     ]
    }
   ],
   "source": [
    "note_encoded = np.append(note_encoded, tempo)\n",
    "print(note_encoded.shape)"
   ]
  },
  {
   "cell_type": "markdown",
   "metadata": {},
   "source": [
    "## Hold/End Encoding"
   ]
  },
  {
   "cell_type": "markdown",
   "metadata": {},
   "source": [
    "Because each vector will contain note/s that last for \"64th\", we need to include a hold binary value to represent notes that last longer. For example, if we have a note that lasts \"32th\" and we don't do this, we will end up with two vectors with the same note and it will be interpreted as two notes of duration \"64th\" instead of one note of duration \"32th\"."
   ]
  },
  {
   "cell_type": "code",
   "execution_count": 32,
   "metadata": {},
   "outputs": [],
   "source": [
    "time_step = 0.05"
   ]
  },
  {
   "cell_type": "code",
   "execution_count": 33,
   "metadata": {},
   "outputs": [
    {
     "name": "stdout",
     "output_type": "stream",
     "text": [
      "{0.0} <music21.instrument.Piano Piano>\n",
      "{0.0} <music21.key.Key of C major>\n",
      "{0.0} <music21.meter.TimeSignature 4/4>\n",
      "{0.0} <music21.note.Note C>\n",
      "{0.25} <music21.note.Note E>\n",
      "{2.0} <music21.note.Note C>\n",
      "{2.25} <music21.note.Note E>\n",
      "{4.0} <music21.note.Note C>\n",
      "{4.25} <music21.note.Note D>\n",
      "{6.0} <music21.note.Note C>\n"
     ]
    }
   ],
   "source": [
    "bach[1][0:10].show(\"text\")"
   ]
  },
  {
   "cell_type": "code",
   "execution_count": 34,
   "metadata": {},
   "outputs": [
    {
     "data": {
      "text/plain": [
       "2.25"
      ]
     },
     "execution_count": 34,
     "metadata": {},
     "output_type": "execute_result"
    }
   ],
   "source": [
    "nt1 = bach[1][6]\n",
    "nt1.offset"
   ]
  },
  {
   "cell_type": "code",
   "execution_count": 35,
   "metadata": {},
   "outputs": [
    {
     "data": {
      "text/plain": [
       "1.75"
      ]
     },
     "execution_count": 35,
     "metadata": {},
     "output_type": "execute_result"
    }
   ],
   "source": [
    "nt1.duration.quarterLength"
   ]
  },
  {
   "cell_type": "code",
   "execution_count": 36,
   "metadata": {},
   "outputs": [
    {
     "name": "stdout",
     "output_type": "stream",
     "text": [
      "[0 0 0 0 0 0 0 0 0 0 0 0 0 0 0 0 0 0 0 0 0 0 0 0 0 0 0 0 0 0 0 0 0 0 0 0 0\n",
      " 0 0 0 0 0 0 0 0 1 0 0 0 0 0 0 0 0 0 0 0 0 0 0 0 0 0 0 0 0 0 0 0 0 0 0 0 0\n",
      " 0 0 0 0 0 0 0 0 0 0 0 0 0 1]\n",
      "[0 0 0 0 0 0 0 0 0 0 0 0 0 0 0 0 0 0 0 0 0 0 0 0 0 0 0 0 0 0 0 0 0 0 0 0 0\n",
      " 0 0 0 0 0 0 0 0 1 0 0 0 0 0 0 0 0 0 0 0 0 0 0 0 0 0 0 0 0 0 0 0 0 0 0 0 0\n",
      " 0 0 0 0 0 0 0 0 0 0 0 0 0 1]\n",
      "[0 0 0 0 0 0 0 0 0 0 0 0 0 0 0 0 0 0 0 0 0 0 0 0 0 0 0 0 0 0 0 0 0 0 0 0 0\n",
      " 0 0 0 0 0 0 0 0 1 0 0 0 0 0 0 0 0 0 0 0 0 0 0 0 0 0 0 0 0 0 0 0 0 0 0 0 0\n",
      " 0 0 0 0 0 0 0 0 0 0 0 0 0 1]\n",
      "[0 0 0 0 0 0 0 0 0 0 0 0 0 0 0 0 0 0 0 0 0 0 0 0 0 0 0 0 0 0 0 0 0 0 0 0 0\n",
      " 0 0 0 0 0 0 0 0 1 0 0 0 0 0 0 0 0 0 0 0 0 0 0 0 0 0 0 0 0 0 0 0 0 0 0 0 0\n",
      " 0 0 0 0 0 0 0 0 0 0 0 0 0 1]\n",
      "[0 0 0 0 0 0 0 0 0 0 0 0 0 0 0 0 0 0 0 0 0 0 0 0 0 0 0 0 0 0 0 0 0 0 0 0 0\n",
      " 0 0 0 0 0 0 0 0 1 0 0 0 0 0 0 0 0 0 0 0 0 0 0 0 0 0 0 0 0 0 0 0 0 0 0 0 0\n",
      " 0 0 0 0 0 0 0 0 0 0 0 0 0 1]\n",
      "[0 0 0 0 0 0 0 0 0 0 0 0 0 0 0 0 0 0 0 0 0 0 0 0 0 0 0 0 0 0 0 0 0 0 0 0 0\n",
      " 0 0 0 0 0 0 0 0 1 0 0 0 0 0 0 0 0 0 0 0 0 0 0 0 0 0 0 0 0 0 0 0 0 0 0 0 0\n",
      " 0 0 0 0 0 0 0 0 0 0 0 0 0 1]\n",
      "[0 0 0 0 0 0 0 0 0 0 0 0 0 0 0 0 0 0 0 0 0 0 0 0 0 0 0 0 0 0 0 0 0 0 0 0 0\n",
      " 0 0 0 0 0 0 0 0 1 0 0 0 0 0 0 0 0 0 0 0 0 0 0 0 0 0 0 0 0 0 0 0 0 0 0 0 0\n",
      " 0 0 0 0 0 0 0 0 0 0 0 0 0 1]\n",
      "[0 0 0 0 0 0 0 0 0 0 0 0 0 0 0 0 0 0 0 0 0 0 0 0 0 0 0 0 0 0 0 0 0 0 0 0 0\n",
      " 0 0 0 0 0 0 0 0 1 0 0 0 0 0 0 0 0 0 0 0 0 0 0 0 0 0 0 0 0 0 0 0 0 0 0 0 0\n",
      " 0 0 0 0 0 0 0 0 0 0 0 0 0 1]\n",
      "[0 0 0 0 0 0 0 0 0 0 0 0 0 0 0 0 0 0 0 0 0 0 0 0 0 0 0 0 0 0 0 0 0 0 0 0 0\n",
      " 0 0 0 0 0 0 0 0 1 0 0 0 0 0 0 0 0 0 0 0 0 0 0 0 0 0 0 0 0 0 0 0 0 0 0 0 0\n",
      " 0 0 0 0 0 0 0 0 0 0 0 0 0 1]\n",
      "[0 0 0 0 0 0 0 0 0 0 0 0 0 0 0 0 0 0 0 0 0 0 0 0 0 0 0 0 0 0 0 0 0 0 0 0 0\n",
      " 0 0 0 0 0 0 0 0 1 0 0 0 0 0 0 0 0 0 0 0 0 0 0 0 0 0 0 0 0 0 0 0 0 0 0 0 0\n",
      " 0 0 0 0 0 0 0 0 0 0 0 0 0 1]\n",
      "[0 0 0 0 0 0 0 0 0 0 0 0 0 0 0 0 0 0 0 0 0 0 0 0 0 0 0 0 0 0 0 0 0 0 0 0 0\n",
      " 0 0 0 0 0 0 0 0 1 0 0 0 0 0 0 0 0 0 0 0 0 0 0 0 0 0 0 0 0 0 0 0 0 0 0 0 0\n",
      " 0 0 0 0 0 0 0 0 0 0 0 0 0 1]\n",
      "[0 0 0 0 0 0 0 0 0 0 0 0 0 0 0 0 0 0 0 0 0 0 0 0 0 0 0 0 0 0 0 0 0 0 0 0 0\n",
      " 0 0 0 0 0 0 0 0 1 0 0 0 0 0 0 0 0 0 0 0 0 0 0 0 0 0 0 0 0 0 0 0 0 0 0 0 0\n",
      " 0 0 0 0 0 0 0 0 0 0 0 0 0 1]\n",
      "[0 0 0 0 0 0 0 0 0 0 0 0 0 0 0 0 0 0 0 0 0 0 0 0 0 0 0 0 0 0 0 0 0 0 0 0 0\n",
      " 0 0 0 0 0 0 0 0 1 0 0 0 0 0 0 0 0 0 0 0 0 0 0 0 0 0 0 0 0 0 0 0 0 0 0 0 0\n",
      " 0 0 0 0 0 0 0 0 0 0 0 0 0 1]\n",
      "[0 0 0 0 0 0 0 0 0 0 0 0 0 0 0 0 0 0 0 0 0 0 0 0 0 0 0 0 0 0 0 0 0 0 0 0 0\n",
      " 0 0 0 0 0 0 0 0 1 0 0 0 0 0 0 0 0 0 0 0 0 0 0 0 0 0 0 0 0 0 0 0 0 0 0 0 0\n",
      " 0 0 0 0 0 0 0 0 0 0 0 0 0 1]\n",
      "[0 0 0 0 0 0 0 0 0 0 0 0 0 0 0 0 0 0 0 0 0 0 0 0 0 0 0 0 0 0 0 0 0 0 0 0 0\n",
      " 0 0 0 0 0 0 0 0 1 0 0 0 0 0 0 0 0 0 0 0 0 0 0 0 0 0 0 0 0 0 0 0 0 0 0 0 0\n",
      " 0 0 0 0 0 0 0 0 0 0 0 0 0 1]\n",
      "[0 0 0 0 0 0 0 0 0 0 0 0 0 0 0 0 0 0 0 0 0 0 0 0 0 0 0 0 0 0 0 0 0 0 0 0 0\n",
      " 0 0 0 0 0 0 0 0 1 0 0 0 0 0 0 0 0 0 0 0 0 0 0 0 0 0 0 0 0 0 0 0 0 0 0 0 0\n",
      " 0 0 0 0 0 0 0 0 0 0 0 0 0 1]\n",
      "[0 0 0 0 0 0 0 0 0 0 0 0 0 0 0 0 0 0 0 0 0 0 0 0 0 0 0 0 0 0 0 0 0 0 0 0 0\n",
      " 0 0 0 0 0 0 0 0 1 0 0 0 0 0 0 0 0 0 0 0 0 0 0 0 0 0 0 0 0 0 0 0 0 0 0 0 0\n",
      " 0 0 0 0 0 0 0 0 0 0 0 0 0 1]\n",
      "[0 0 0 0 0 0 0 0 0 0 0 0 0 0 0 0 0 0 0 0 0 0 0 0 0 0 0 0 0 0 0 0 0 0 0 0 0\n",
      " 0 0 0 0 0 0 0 0 1 0 0 0 0 0 0 0 0 0 0 0 0 0 0 0 0 0 0 0 0 0 0 0 0 0 0 0 0\n",
      " 0 0 0 0 0 0 0 0 0 0 0 0 0 1]\n",
      "[0 0 0 0 0 0 0 0 0 0 0 0 0 0 0 0 0 0 0 0 0 0 0 0 0 0 0 0 0 0 0 0 0 0 0 0 0\n",
      " 0 0 0 0 0 0 0 0 1 0 0 0 0 0 0 0 0 0 0 0 0 0 0 0 0 0 0 0 0 0 0 0 0 0 0 0 0\n",
      " 0 0 0 0 0 0 0 0 0 0 0 0 0 1]\n",
      "[0 0 0 0 0 0 0 0 0 0 0 0 0 0 0 0 0 0 0 0 0 0 0 0 0 0 0 0 0 0 0 0 0 0 0 0 0\n",
      " 0 0 0 0 0 0 0 0 1 0 0 0 0 0 0 0 0 0 0 0 0 0 0 0 0 0 0 0 0 0 0 0 0 0 0 0 0\n",
      " 0 0 0 0 0 0 0 0 0 0 0 0 0 1]\n",
      "[0 0 0 0 0 0 0 0 0 0 0 0 0 0 0 0 0 0 0 0 0 0 0 0 0 0 0 0 0 0 0 0 0 0 0 0 0\n",
      " 0 0 0 0 0 0 0 0 1 0 0 0 0 0 0 0 0 0 0 0 0 0 0 0 0 0 0 0 0 0 0 0 0 0 0 0 0\n",
      " 0 0 0 0 0 0 0 0 0 0 0 0 0 1]\n",
      "[0 0 0 0 0 0 0 0 0 0 0 0 0 0 0 0 0 0 0 0 0 0 0 0 0 0 0 0 0 0 0 0 0 0 0 0 0\n",
      " 0 0 0 0 0 0 0 0 1 0 0 0 0 0 0 0 0 0 0 0 0 0 0 0 0 0 0 0 0 0 0 0 0 0 0 0 0\n",
      " 0 0 0 0 0 0 0 0 0 0 0 0 0 1]\n",
      "[0 0 0 0 0 0 0 0 0 0 0 0 0 0 0 0 0 0 0 0 0 0 0 0 0 0 0 0 0 0 0 0 0 0 0 0 0\n",
      " 0 0 0 0 0 0 0 0 1 0 0 0 0 0 0 0 0 0 0 0 0 0 0 0 0 0 0 0 0 0 0 0 0 0 0 0 0\n",
      " 0 0 0 0 0 0 0 0 0 0 0 0 0 1]\n",
      "[0 0 0 0 0 0 0 0 0 0 0 0 0 0 0 0 0 0 0 0 0 0 0 0 0 0 0 0 0 0 0 0 0 0 0 0 0\n",
      " 0 0 0 0 0 0 0 0 1 0 0 0 0 0 0 0 0 0 0 0 0 0 0 0 0 0 0 0 0 0 0 0 0 0 0 0 0\n",
      " 0 0 0 0 0 0 0 0 0 0 0 0 0 1]\n",
      "[0 0 0 0 0 0 0 0 0 0 0 0 0 0 0 0 0 0 0 0 0 0 0 0 0 0 0 0 0 0 0 0 0 0 0 0 0\n",
      " 0 0 0 0 0 0 0 0 1 0 0 0 0 0 0 0 0 0 0 0 0 0 0 0 0 0 0 0 0 0 0 0 0 0 0 0 0\n",
      " 0 0 0 0 0 0 0 0 0 0 0 0 0 1]\n",
      "[0 0 0 0 0 0 0 0 0 0 0 0 0 0 0 0 0 0 0 0 0 0 0 0 0 0 0 0 0 0 0 0 0 0 0 0 0\n",
      " 0 0 0 0 0 0 0 0 1 0 0 0 0 0 0 0 0 0 0 0 0 0 0 0 0 0 0 0 0 0 0 0 0 0 0 0 0\n",
      " 0 0 0 0 0 0 0 0 0 0 0 0 0 1]\n",
      "[0 0 0 0 0 0 0 0 0 0 0 0 0 0 0 0 0 0 0 0 0 0 0 0 0 0 0 0 0 0 0 0 0 0 0 0 0\n",
      " 0 0 0 0 0 0 0 0 1 0 0 0 0 0 0 0 0 0 0 0 0 0 0 0 0 0 0 0 0 0 0 0 0 0 0 0 0\n",
      " 0 0 0 0 0 0 0 0 0 0 0 0 0 1]\n",
      "[0 0 0 0 0 0 0 0 0 0 0 0 0 0 0 0 0 0 0 0 0 0 0 0 0 0 0 0 0 0 0 0 0 0 0 0 0\n",
      " 0 0 0 0 0 0 0 0 1 0 0 0 0 0 0 0 0 0 0 0 0 0 0 0 0 0 0 0 0 0 0 0 0 0 0 0 0\n",
      " 0 0 0 0 0 0 0 0 0 0 0 0 0 1]\n",
      "[0 0 0 0 0 0 0 0 0 0 0 0 0 0 0 0 0 0 0 0 0 0 0 0 0 0 0 0 0 0 0 0 0 0 0 0 0\n",
      " 0 0 0 0 0 0 0 0 1 0 0 0 0 0 0 0 0 0 0 0 0 0 0 0 0 0 0 0 0 0 0 0 0 0 0 0 0\n",
      " 0 0 0 0 0 0 0 0 0 0 0 0 0 1]\n",
      "[0 0 0 0 0 0 0 0 0 0 0 0 0 0 0 0 0 0 0 0 0 0 0 0 0 0 0 0 0 0 0 0 0 0 0 0 0\n",
      " 0 0 0 0 0 0 0 0 1 0 0 0 0 0 0 0 0 0 0 0 0 0 0 0 0 0 0 0 0 0 0 0 0 0 0 0 0\n",
      " 0 0 0 0 0 0 0 0 0 0 0 0 0 1]\n",
      "[0 0 0 0 0 0 0 0 0 0 0 0 0 0 0 0 0 0 0 0 0 0 0 0 0 0 0 0 0 0 0 0 0 0 0 0 0\n",
      " 0 0 0 0 0 0 0 0 1 0 0 0 0 0 0 0 0 0 0 0 0 0 0 0 0 0 0 0 0 0 0 0 0 0 0 0 0\n",
      " 0 0 0 0 0 0 0 0 0 0 0 0 0 1]\n",
      "[0 0 0 0 0 0 0 0 0 0 0 0 0 0 0 0 0 0 0 0 0 0 0 0 0 0 0 0 0 0 0 0 0 0 0 0 0\n",
      " 0 0 0 0 0 0 0 0 1 0 0 0 0 0 0 0 0 0 0 0 0 0 0 0 0 0 0 0 0 0 0 0 0 0 0 0 0\n",
      " 0 0 0 0 0 0 0 0 0 0 0 0 0 1]\n",
      "[0 0 0 0 0 0 0 0 0 0 0 0 0 0 0 0 0 0 0 0 0 0 0 0 0 0 0 0 0 0 0 0 0 0 0 0 0\n",
      " 0 0 0 0 0 0 0 0 1 0 0 0 0 0 0 0 0 0 0 0 0 0 0 0 0 0 0 0 0 0 0 0 0 0 0 0 0\n",
      " 0 0 0 0 0 0 0 0 0 0 0 0 0 1]\n",
      "[0 0 0 0 0 0 0 0 0 0 0 0 0 0 0 0 0 0 0 0 0 0 0 0 0 0 0 0 0 0 0 0 0 0 0 0 0\n",
      " 0 0 0 0 0 0 0 0 1 0 0 0 0 0 0 0 0 0 0 0 0 0 0 0 0 0 0 0 0 0 0 0 0 0 0 0 0\n",
      " 0 0 0 0 0 0 0 0 0 0 0 0 0 1]\n",
      "[0 0 0 0 0 0 0 0 0 0 0 0 0 0 0 0 0 0 0 0 0 0 0 0 0 0 0 0 0 0 0 0 0 0 0 0 0\n",
      " 0 0 0 0 0 0 0 0 1 0 0 0 0 0 0 0 0 0 0 0 0 0 0 0 0 0 0 0 0 0 0 0 0 0 0 0 0\n",
      " 0 0 0 0 0 0 0 0 0 0 0 0 0 0]\n"
     ]
    }
   ],
   "source": [
    "if type(nt1) == ms.note.Note:\n",
    "    note_encoded = (notes_freq == nt.pitch.frequency)*1\n",
    "    n_vectors = int(nt1.duration.quarterLength/0.05)\n",
    "    for i in range(n_vectors - 1):\n",
    "        print(np.append(note_encoded, 1))\n",
    "    print(np.append(note_encoded, 0))"
   ]
  },
  {
   "cell_type": "markdown",
   "metadata": {},
   "source": [
    "## Putting it all together"
   ]
  },
  {
   "cell_type": "code",
   "execution_count": 37,
   "metadata": {},
   "outputs": [
    {
     "name": "stdout",
     "output_type": "stream",
     "text": [
      "{0.0} <music21.instrument.Piano Piano>\n",
      "{0.0} <music21.key.Key of C major>\n",
      "{0.0} <music21.meter.TimeSignature 4/4>\n",
      "{0.0} <music21.note.Note C>\n",
      "{0.25} <music21.note.Note E>\n",
      "{2.0} <music21.note.Note C>\n",
      "{2.25} <music21.note.Note E>\n"
     ]
    }
   ],
   "source": [
    "bach[1][0:7].show(\"text\")"
   ]
  },
  {
   "cell_type": "code",
   "execution_count": 38,
   "metadata": {},
   "outputs": [
    {
     "name": "stdout",
     "output_type": "stream",
     "text": [
      "{0.0} <music21.instrument.Piano Piano>\n",
      "{0.0} <music21.tempo.MetronomeMark andante Quarter=72>\n",
      "{0.0} <music21.key.Key of C major>\n",
      "{0.0} <music21.meter.TimeSignature 4/4>\n",
      "{0.0} <music21.note.Note C>\n",
      "{0.25} <music21.note.Note E>\n",
      "{2.0} <music21.note.Note C>\n",
      "{2.25} <music21.note.Note E>\n"
     ]
    }
   ],
   "source": [
    "strem = ms.stream.Stream()\n",
    "strem += bach[1][:3]\n",
    "strem.append(ms.tempo.MetronomeMark(\"andante\"))\n",
    "strem += bach[1][3:7]\n",
    "strem.show(\"text\")"
   ]
  },
  {
   "cell_type": "code",
   "execution_count": 39,
   "metadata": {},
   "outputs": [
    {
     "data": {
      "text/plain": [
       "<music21.duration.Duration 2.0>"
      ]
     },
     "execution_count": 39,
     "metadata": {},
     "output_type": "execute_result"
    }
   ],
   "source": [
    "strem[4].duration"
   ]
  },
  {
   "cell_type": "code",
   "execution_count": 40,
   "metadata": {},
   "outputs": [
    {
     "data": {
      "text/plain": [
       "0.0"
      ]
     },
     "execution_count": 40,
     "metadata": {},
     "output_type": "execute_result"
    }
   ],
   "source": [
    "strem[4].offset"
   ]
  },
  {
   "cell_type": "code",
   "execution_count": 41,
   "metadata": {},
   "outputs": [
    {
     "data": {
      "text/plain": [
       "<music21.duration.Duration 1.75>"
      ]
     },
     "execution_count": 41,
     "metadata": {},
     "output_type": "execute_result"
    }
   ],
   "source": [
    "strem[5].duration"
   ]
  },
  {
   "cell_type": "code",
   "execution_count": 42,
   "metadata": {},
   "outputs": [
    {
     "data": {
      "text/plain": [
       "0.25"
      ]
     },
     "execution_count": 42,
     "metadata": {},
     "output_type": "execute_result"
    }
   ],
   "source": [
    "strem[5].offset"
   ]
  },
  {
   "cell_type": "code",
   "execution_count": 43,
   "metadata": {},
   "outputs": [
    {
     "data": {
      "text/plain": [
       "2.25"
      ]
     },
     "execution_count": 43,
     "metadata": {},
     "output_type": "execute_result"
    }
   ],
   "source": [
    "strem[7].offset"
   ]
  },
  {
   "cell_type": "code",
   "execution_count": 44,
   "metadata": {},
   "outputs": [
    {
     "data": {
      "text/plain": [
       "1.75"
      ]
     },
     "execution_count": 44,
     "metadata": {},
     "output_type": "execute_result"
    }
   ],
   "source": [
    "strem[7].duration.quarterLength"
   ]
  },
  {
   "cell_type": "markdown",
   "metadata": {},
   "source": [
    "The limitation of the following code is that, when two notes are being played at the same time but didn't start at the same time, the hold will be the same for both, even if it is actually not, because they will be combined on a single vector $\\bar{p}_t$.\n",
    "\n",
    "TODO: Figure out how to fix this, although it doesn't sound that relevant."
   ]
  },
  {
   "cell_type": "code",
   "execution_count": 45,
   "metadata": {},
   "outputs": [],
   "source": [
    "notes = np.zeros((int((strem[7].offset + strem[7].duration.quarterLength) /time_step), 90))\n",
    "temp_flag = True\n",
    "idx = -1\n",
    "for nt in strem:\n",
    "    if type(nt) == ms.note.Note or type(nt) == ms.note.Rest:\n",
    "        idx = int(nt.offset/time_step)\n",
    "    # Tempo Encoding\n",
    "    if temp_flag:\n",
    "        if type(nt) == ms.tempo.MetronomeMark:\n",
    "            notes[:, 89] = nt.number\n",
    "            temp_flag = False\n",
    "    if idx >= 0:\n",
    "        for i in range(int(nt.duration.quarterLength/time_step) - 1):\n",
    "        # Note encoding\n",
    "            if type(nt) == ms.note.Note:\n",
    "                notes[idx + i, :87] += (notes_freq == nt.pitch.frequency)*1\n",
    "        # Rest Encoding\n",
    "            if type(nt) == ms.note.Rest:\n",
    "                notes[idx + i, 87] = 1 \n",
    "        # Hold Encoding\n",
    "            notes[idx + i, 88] = 1\n",
    "        notes[idx + i, 88] = 0"
   ]
  },
  {
   "cell_type": "code",
   "execution_count": 46,
   "metadata": {},
   "outputs": [
    {
     "data": {
      "text/plain": [
       "array([ 0.,  0.,  0.,  0.,  0.,  0.,  0.,  0.,  0.,  0.,  0.,  0.,  0.,\n",
       "        0.,  0.,  0.,  0.,  0.,  0.,  0.,  0.,  0.,  0.,  0.,  0.,  0.,\n",
       "        0.,  0.,  0.,  0.,  0.,  0.,  0.,  0.,  0.,  0.,  0.,  0.,  1.,\n",
       "        0.,  0.,  0.,  0.,  0.,  0.,  0.,  0.,  0.,  0.,  0.,  0.,  0.,\n",
       "        0.,  0.,  0.,  0.,  0.,  0.,  0.,  0.,  0.,  0.,  0.,  0.,  0.,\n",
       "        0.,  0.,  0.,  0.,  0.,  0.,  0.,  0.,  0.,  0.,  0.,  0.,  0.,\n",
       "        0.,  0.,  0.,  0.,  0.,  0.,  0.,  0.,  0.,  0.,  1., 72.])"
      ]
     },
     "execution_count": 46,
     "metadata": {},
     "output_type": "execute_result"
    }
   ],
   "source": [
    "notes[0]"
   ]
  },
  {
   "cell_type": "code",
   "execution_count": 47,
   "metadata": {},
   "outputs": [
    {
     "data": {
      "text/plain": [
       "array([ 0.,  0.,  0.,  0.,  0.,  0.,  0.,  0.,  0.,  0.,  0.,  0.,  0.,\n",
       "        0.,  0.,  0.,  0.,  0.,  0.,  0.,  0.,  0.,  0.,  0.,  0.,  0.,\n",
       "        0.,  0.,  0.,  0.,  0.,  0.,  0.,  0.,  0.,  0.,  0.,  0.,  1.,\n",
       "        0.,  0.,  0.,  0.,  0.,  0.,  0.,  0.,  0.,  0.,  0.,  0.,  0.,\n",
       "        0.,  0.,  0.,  0.,  0.,  0.,  0.,  0.,  0.,  0.,  0.,  0.,  0.,\n",
       "        0.,  0.,  0.,  0.,  0.,  0.,  0.,  0.,  0.,  0.,  0.,  0.,  0.,\n",
       "        0.,  0.,  0.,  0.,  0.,  0.,  0.,  0.,  0.,  0.,  1., 72.])"
      ]
     },
     "execution_count": 47,
     "metadata": {},
     "output_type": "execute_result"
    }
   ],
   "source": [
    "notes[1]"
   ]
  },
  {
   "cell_type": "code",
   "execution_count": 48,
   "metadata": {},
   "outputs": [
    {
     "data": {
      "text/plain": [
       "array([ 0.,  0.,  0.,  0.,  0.,  0.,  0.,  0.,  0.,  0.,  0.,  0.,  0.,\n",
       "        0.,  0.,  0.,  0.,  0.,  0.,  0.,  0.,  0.,  0.,  0.,  0.,  0.,\n",
       "        0.,  0.,  0.,  0.,  0.,  0.,  0.,  0.,  0.,  0.,  0.,  0.,  1.,\n",
       "        0.,  0.,  0.,  0.,  0.,  0.,  0.,  0.,  0.,  0.,  0.,  0.,  0.,\n",
       "        0.,  0.,  0.,  0.,  0.,  0.,  0.,  0.,  0.,  0.,  0.,  0.,  0.,\n",
       "        0.,  0.,  0.,  0.,  0.,  0.,  0.,  0.,  0.,  0.,  0.,  0.,  0.,\n",
       "        0.,  0.,  0.,  0.,  0.,  0.,  0.,  0.,  0.,  0.,  1., 72.])"
      ]
     },
     "execution_count": 48,
     "metadata": {},
     "output_type": "execute_result"
    }
   ],
   "source": [
    "notes[2]"
   ]
  },
  {
   "cell_type": "code",
   "execution_count": 49,
   "metadata": {},
   "outputs": [
    {
     "data": {
      "text/plain": [
       "array([ 0.,  0.,  0.,  0.,  0.,  0.,  0.,  0.,  0.,  0.,  0.,  0.,  0.,\n",
       "        0.,  0.,  0.,  0.,  0.,  0.,  0.,  0.,  0.,  0.,  0.,  0.,  0.,\n",
       "        0.,  0.,  0.,  0.,  0.,  0.,  0.,  0.,  0.,  0.,  0.,  0.,  1.,\n",
       "        0.,  0.,  0.,  0.,  0.,  0.,  0.,  0.,  0.,  0.,  0.,  0.,  0.,\n",
       "        0.,  0.,  0.,  0.,  0.,  0.,  0.,  0.,  0.,  0.,  0.,  0.,  0.,\n",
       "        0.,  0.,  0.,  0.,  0.,  0.,  0.,  0.,  0.,  0.,  0.,  0.,  0.,\n",
       "        0.,  0.,  0.,  0.,  0.,  0.,  0.,  0.,  0.,  0.,  1., 72.])"
      ]
     },
     "execution_count": 49,
     "metadata": {},
     "output_type": "execute_result"
    }
   ],
   "source": [
    "notes[3]"
   ]
  },
  {
   "cell_type": "code",
   "execution_count": 50,
   "metadata": {},
   "outputs": [
    {
     "data": {
      "text/plain": [
       "array([ 0.,  0.,  0.,  0.,  0.,  0.,  0.,  0.,  0.,  0.,  0.,  0.,  0.,\n",
       "        0.,  0.,  0.,  0.,  0.,  0.,  0.,  0.,  0.,  0.,  0.,  0.,  0.,\n",
       "        0.,  0.,  0.,  0.,  0.,  0.,  0.,  0.,  0.,  0.,  0.,  0.,  1.,\n",
       "        0.,  0.,  0.,  0.,  0.,  0.,  0.,  0.,  0.,  0.,  0.,  0.,  0.,\n",
       "        0.,  0.,  0.,  0.,  0.,  0.,  0.,  0.,  0.,  0.,  0.,  0.,  0.,\n",
       "        0.,  0.,  0.,  0.,  0.,  0.,  0.,  0.,  0.,  0.,  0.,  0.,  0.,\n",
       "        0.,  0.,  0.,  0.,  0.,  0.,  0.,  0.,  0.,  0.,  1., 72.])"
      ]
     },
     "execution_count": 50,
     "metadata": {},
     "output_type": "execute_result"
    }
   ],
   "source": [
    "notes[4]"
   ]
  },
  {
   "cell_type": "code",
   "execution_count": 51,
   "metadata": {},
   "outputs": [
    {
     "data": {
      "text/plain": [
       "array([ 0.,  0.,  0.,  0.,  0.,  0.,  0.,  0.,  0.,  0.,  0.,  0.,  0.,\n",
       "        0.,  0.,  0.,  0.,  0.,  0.,  0.,  0.,  0.,  0.,  0.,  0.,  0.,\n",
       "        0.,  0.,  0.,  0.,  0.,  0.,  0.,  0.,  0.,  0.,  0.,  0.,  1.,\n",
       "        0.,  0.,  0.,  1.,  0.,  0.,  0.,  0.,  0.,  0.,  0.,  0.,  0.,\n",
       "        0.,  0.,  0.,  0.,  0.,  0.,  0.,  0.,  0.,  0.,  0.,  0.,  0.,\n",
       "        0.,  0.,  0.,  0.,  0.,  0.,  0.,  0.,  0.,  0.,  0.,  0.,  0.,\n",
       "        0.,  0.,  0.,  0.,  0.,  0.,  0.,  0.,  0.,  0.,  1., 72.])"
      ]
     },
     "execution_count": 51,
     "metadata": {},
     "output_type": "execute_result"
    }
   ],
   "source": [
    "notes[5]"
   ]
  },
  {
   "cell_type": "code",
   "execution_count": 52,
   "metadata": {},
   "outputs": [
    {
     "data": {
      "text/plain": [
       "array([ 0.,  0.,  0.,  0.,  0.,  0.,  0.,  0.,  0.,  0.,  0.,  0.,  0.,\n",
       "        0.,  0.,  0.,  0.,  0.,  0.,  0.,  0.,  0.,  0.,  0.,  0.,  0.,\n",
       "        0.,  0.,  0.,  0.,  0.,  0.,  0.,  0.,  0.,  0.,  0.,  0.,  1.,\n",
       "        0.,  0.,  0.,  1.,  0.,  0.,  0.,  0.,  0.,  0.,  0.,  0.,  0.,\n",
       "        0.,  0.,  0.,  0.,  0.,  0.,  0.,  0.,  0.,  0.,  0.,  0.,  0.,\n",
       "        0.,  0.,  0.,  0.,  0.,  0.,  0.,  0.,  0.,  0.,  0.,  0.,  0.,\n",
       "        0.,  0.,  0.,  0.,  0.,  0.,  0.,  0.,  0.,  0.,  1., 72.])"
      ]
     },
     "execution_count": 52,
     "metadata": {},
     "output_type": "execute_result"
    }
   ],
   "source": [
    "notes[6]"
   ]
  },
  {
   "cell_type": "code",
   "execution_count": 53,
   "metadata": {},
   "outputs": [
    {
     "data": {
      "text/plain": [
       "array([ 0.,  0.,  0.,  0.,  0.,  0.,  0.,  0.,  0.,  0.,  0.,  0.,  0.,\n",
       "        0.,  0.,  0.,  0.,  0.,  0.,  0.,  0.,  0.,  0.,  0.,  0.,  0.,\n",
       "        0.,  0.,  0.,  0.,  0.,  0.,  0.,  0.,  0.,  0.,  0.,  0.,  1.,\n",
       "        0.,  0.,  0.,  1.,  0.,  0.,  0.,  0.,  0.,  0.,  0.,  0.,  0.,\n",
       "        0.,  0.,  0.,  0.,  0.,  0.,  0.,  0.,  0.,  0.,  0.,  0.,  0.,\n",
       "        0.,  0.,  0.,  0.,  0.,  0.,  0.,  0.,  0.,  0.,  0.,  0.,  0.,\n",
       "        0.,  0.,  0.,  0.,  0.,  0.,  0.,  0.,  0.,  0.,  1., 72.])"
      ]
     },
     "execution_count": 53,
     "metadata": {},
     "output_type": "execute_result"
    }
   ],
   "source": [
    "notes[7]"
   ]
  },
  {
   "cell_type": "code",
   "execution_count": 54,
   "metadata": {},
   "outputs": [
    {
     "data": {
      "text/plain": [
       "array([ 0.,  0.,  0.,  0.,  0.,  0.,  0.,  0.,  0.,  0.,  0.,  0.,  0.,\n",
       "        0.,  0.,  0.,  0.,  0.,  0.,  0.,  0.,  0.,  0.,  0.,  0.,  0.,\n",
       "        0.,  0.,  0.,  0.,  0.,  0.,  0.,  0.,  0.,  0.,  0.,  0.,  1.,\n",
       "        0.,  0.,  0.,  1.,  0.,  0.,  0.,  0.,  0.,  0.,  0.,  0.,  0.,\n",
       "        0.,  0.,  0.,  0.,  0.,  0.,  0.,  0.,  0.,  0.,  0.,  0.,  0.,\n",
       "        0.,  0.,  0.,  0.,  0.,  0.,  0.,  0.,  0.,  0.,  0.,  0.,  0.,\n",
       "        0.,  0.,  0.,  0.,  0.,  0.,  0.,  0.,  0.,  0.,  1., 72.])"
      ]
     },
     "execution_count": 54,
     "metadata": {},
     "output_type": "execute_result"
    }
   ],
   "source": [
    "notes[8]"
   ]
  },
  {
   "cell_type": "markdown",
   "metadata": {},
   "source": [
    "Looks good! Now we need to decode to convert back to MIDI"
   ]
  },
  {
   "cell_type": "markdown",
   "metadata": {},
   "source": [
    "## Decode"
   ]
  },
  {
   "cell_type": "code",
   "execution_count": 55,
   "metadata": {},
   "outputs": [
    {
     "name": "stdout",
     "output_type": "stream",
     "text": [
      "{0.0} <music21.instrument.Piano Piano>\n",
      "{0.0} <music21.tempo.MetronomeMark andante Quarter=72>\n",
      "{0.0} <music21.key.Key of C major>\n",
      "{0.0} <music21.meter.TimeSignature 4/4>\n",
      "{0.0} <music21.note.Note C>\n",
      "{0.25} <music21.note.Note E>\n",
      "{2.0} <music21.note.Note C>\n",
      "{2.25} <music21.note.Note E>\n"
     ]
    }
   ],
   "source": [
    "strem.show(\"text\")"
   ]
  },
  {
   "cell_type": "code",
   "execution_count": 56,
   "metadata": {},
   "outputs": [],
   "source": [
    "stream = ms.stream.Stream()\n",
    "stream.append(ms.instrument.Piano())\n",
    "stream.append(ms.tempo.MetronomeMark(number=int(notes[0][-1])))\n",
    "stream.append(ms.key.Key(\"C\"))\n",
    "stream.append(ms.meter.TimeSignature())"
   ]
  },
  {
   "cell_type": "code",
   "execution_count": 57,
   "metadata": {},
   "outputs": [
    {
     "name": "stdout",
     "output_type": "stream",
     "text": [
      "{0.0} <music21.instrument.Piano Piano>\n",
      "{0.0} <music21.tempo.MetronomeMark andante Quarter=72>\n",
      "{0.0} <music21.key.Key of C major>\n",
      "{0.0} <music21.meter.TimeSignature 4/4>\n"
     ]
    }
   ],
   "source": [
    "stream.show(\"text\")"
   ]
  },
  {
   "cell_type": "code",
   "execution_count": 58,
   "metadata": {},
   "outputs": [
    {
     "data": {
      "text/plain": [
       "array([  0.       ,   0.       ,   0.       ,   0.       ,   0.       ,\n",
       "         0.       ,   0.       ,   0.       ,   0.       ,   0.       ,\n",
       "         0.       ,   0.       ,   0.       ,   0.       ,   0.       ,\n",
       "         0.       ,   0.       ,   0.       ,   0.       ,   0.       ,\n",
       "         0.       ,   0.       ,   0.       ,   0.       ,   0.       ,\n",
       "         0.       ,   0.       ,   0.       ,   0.       ,   0.       ,\n",
       "         0.       ,   0.       ,   0.       ,   0.       ,   0.       ,\n",
       "         0.       ,   0.       ,   0.       , 261.6255653,   0.       ,\n",
       "         0.       ,   0.       ,   0.       ,   0.       ,   0.       ,\n",
       "         0.       ,   0.       ,   0.       ,   0.       ,   0.       ,\n",
       "         0.       ,   0.       ,   0.       ,   0.       ,   0.       ,\n",
       "         0.       ,   0.       ,   0.       ,   0.       ,   0.       ,\n",
       "         0.       ,   0.       ,   0.       ,   0.       ,   0.       ,\n",
       "         0.       ,   0.       ,   0.       ,   0.       ,   0.       ,\n",
       "         0.       ,   0.       ,   0.       ,   0.       ,   0.       ,\n",
       "         0.       ,   0.       ,   0.       ,   0.       ,   0.       ,\n",
       "         0.       ,   0.       ,   0.       ,   0.       ,   0.       ,\n",
       "         0.       ,   0.       ])"
      ]
     },
     "execution_count": 58,
     "metadata": {},
     "output_type": "execute_result"
    }
   ],
   "source": [
    "notes_freq * notes[0][:87]"
   ]
  },
  {
   "cell_type": "code",
   "execution_count": 59,
   "metadata": {},
   "outputs": [
    {
     "data": {
      "text/plain": [
       "array([38])"
      ]
     },
     "execution_count": 59,
     "metadata": {},
     "output_type": "execute_result"
    }
   ],
   "source": [
    "np.nonzero(notes_freq * notes[0][:87])[0]"
   ]
  },
  {
   "cell_type": "code",
   "execution_count": 60,
   "metadata": {},
   "outputs": [],
   "source": [
    "notes_letters = [\"A0\", \"A#0\"]\n",
    "s = [\"C\", \"C#\", \"D\", \"D#\", \"E\", \"F\", \"F#\", \"G\", \"G#\", \"A\", \"A#\", \"B\"]\n",
    "for i in range(1, 8):\n",
    "    notes_letters += [note + str(i) for note in s]\n",
    "notes_letters.append(\"C8\")\n",
    "nt = ms.note.Note(notes_letters[int(np.nonzero(notes_freq * notes[0][:87])[0])])"
   ]
  },
  {
   "cell_type": "code",
   "execution_count": 61,
   "metadata": {},
   "outputs": [
    {
     "data": {
      "text/plain": [
       "<music21.note.Note C>"
      ]
     },
     "execution_count": 61,
     "metadata": {},
     "output_type": "execute_result"
    }
   ],
   "source": [
    "nt.offset = 0\n",
    "dur = time_step\n",
    "if notes[0][-2]:\n",
    "    i = 1\n",
    "    dur += time_step\n",
    "    while notes[i][-2]:\n",
    "        dur += time_step\n",
    "        i += 1\n",
    "nt.duration = ms.duration.Duration(dur + time_step)\n",
    "nt"
   ]
  },
  {
   "cell_type": "code",
   "execution_count": 62,
   "metadata": {},
   "outputs": [
    {
     "name": "stdout",
     "output_type": "stream",
     "text": [
      "C4 C4\n"
     ]
    }
   ],
   "source": [
    "print(nt.nameWithOctave, strem[4].nameWithOctave)"
   ]
  },
  {
   "cell_type": "code",
   "execution_count": 63,
   "metadata": {},
   "outputs": [
    {
     "name": "stdout",
     "output_type": "stream",
     "text": [
      "0.0 0.0\n"
     ]
    }
   ],
   "source": [
    "print(nt.offset, strem[4].offset)"
   ]
  },
  {
   "cell_type": "code",
   "execution_count": 64,
   "metadata": {},
   "outputs": [
    {
     "name": "stdout",
     "output_type": "stream",
     "text": [
      "<music21.duration.Duration 2> <music21.duration.Duration 2.0>\n"
     ]
    }
   ],
   "source": [
    "print(nt.duration, strem[4].duration)"
   ]
  },
  {
   "cell_type": "code",
   "execution_count": 65,
   "metadata": {},
   "outputs": [
    {
     "data": {
      "text/plain": [
       "array([ 0.,  0.,  0.,  0.,  0.,  0.,  0.,  0.,  0.,  0.,  0.,  0.,  0.,\n",
       "        0.,  0.,  0.,  0.,  0.,  0.,  0.,  0.,  0.,  0.,  0.,  0.,  0.,\n",
       "        0.,  0.,  0.,  0.,  0.,  0.,  0.,  0.,  0.,  0.,  0.,  0.,  1.,\n",
       "        0.,  0.,  0.,  0.,  0.,  0.,  0.,  0.,  0.,  0.,  0.,  0.,  0.,\n",
       "        0.,  0.,  0.,  0.,  0.,  0.,  0.,  0.,  0.,  0.,  0.,  0.,  0.,\n",
       "        0.,  0.,  0.,  0.,  0.,  0.,  0.,  0.,  0.,  0.,  0.,  0.,  0.,\n",
       "        0.,  0.,  0.,  0.,  0.,  0.,  0.,  0.,  0.,  0.,  1., 72.])"
      ]
     },
     "execution_count": 65,
     "metadata": {},
     "output_type": "execute_result"
    }
   ],
   "source": [
    "notes[0]"
   ]
  },
  {
   "cell_type": "code",
   "execution_count": 66,
   "metadata": {},
   "outputs": [
    {
     "data": {
      "text/plain": [
       "array([ 0.,  0.,  0.,  0.,  0.,  0.,  0.,  0.,  0.,  0.,  0.,  0.,  0.,\n",
       "        0.,  0.,  0.,  0.,  0.,  0.,  0.,  0.,  0.,  0.,  0.,  0.,  0.,\n",
       "        0.,  0.,  0.,  0.,  0.,  0.,  0.,  0.,  0.,  0.,  0.,  0.,  1.,\n",
       "        0.,  0.,  0.,  0.,  0.,  0.,  0.,  0.,  0.,  0.,  0.,  0.,  0.,\n",
       "        0.,  0.,  0.,  0.,  0.,  0.,  0.,  0.,  0.,  0.,  0.,  0.,  0.,\n",
       "        0.,  0.,  0.,  0.,  0.,  0.,  0.,  0.,  0.,  0.,  0.,  0.,  0.,\n",
       "        0.,  0.,  0.,  0.,  0.,  0.,  0.,  0.,  0.,  0.,  1., 72.])"
      ]
     },
     "execution_count": 66,
     "metadata": {},
     "output_type": "execute_result"
    }
   ],
   "source": [
    "notes[1]"
   ]
  },
  {
   "cell_type": "code",
   "execution_count": 67,
   "metadata": {},
   "outputs": [
    {
     "data": {
      "text/plain": [
       "(array([38]),)"
      ]
     },
     "execution_count": 67,
     "metadata": {},
     "output_type": "execute_result"
    }
   ],
   "source": [
    "np.nonzero(notes_freq * notes[1][:87])"
   ]
  },
  {
   "cell_type": "code",
   "execution_count": 68,
   "metadata": {},
   "outputs": [],
   "source": [
    "stream = ms.stream.Stream()\n",
    "stream.append(ms.instrument.Piano())\n",
    "stream.append(ms.tempo.MetronomeMark(number=int(notes[0][-1])))\n",
    "stream.append(ms.key.Key(\"C\"))\n",
    "stream.append(ms.meter.TimeSignature())"
   ]
  },
  {
   "cell_type": "code",
   "execution_count": 69,
   "metadata": {},
   "outputs": [
    {
     "name": "stdout",
     "output_type": "stream",
     "text": [
      "{0.0} <music21.note.Note A>\n"
     ]
    }
   ],
   "source": [
    "a = ms.stream.Stream()\n",
    "nt = ms.note.Note(\"A\")\n",
    "nt.offset = 0\n",
    "nt.duration = ms.duration.Duration(2)\n",
    "a.append(nt)\n",
    "a.show(\"text\")"
   ]
  },
  {
   "cell_type": "code",
   "execution_count": 70,
   "metadata": {},
   "outputs": [
    {
     "name": "stdout",
     "output_type": "stream",
     "text": [
      "{0.0} <music21.note.Note A>\n",
      "{0.25} <music21.note.Note B>\n"
     ]
    }
   ],
   "source": [
    "nt = ms.note.Note(\"B\")\n",
    "nt.duration = ms.duration.Duration(2)\n",
    "a.append(nt)\n",
    "a[-1].offset = 0.25\n",
    "a.show(\"text\")"
   ]
  },
  {
   "cell_type": "code",
   "execution_count": 71,
   "metadata": {},
   "outputs": [
    {
     "data": {
      "text/plain": [
       "<music21.duration.Duration 2.0>"
      ]
     },
     "execution_count": 71,
     "metadata": {},
     "output_type": "execute_result"
    }
   ],
   "source": [
    "a[1].duration"
   ]
  },
  {
   "cell_type": "code",
   "execution_count": 72,
   "metadata": {},
   "outputs": [],
   "source": [
    "stream = ms.stream.Stream()\n",
    "stream.append(ms.instrument.Piano())\n",
    "stream.append(ms.tempo.MetronomeMark(number=int(notes[0][-1])))\n",
    "stream.append(ms.key.Key(\"C\"))\n",
    "stream.append(ms.meter.TimeSignature())"
   ]
  },
  {
   "cell_type": "code",
   "execution_count": 73,
   "metadata": {},
   "outputs": [
    {
     "name": "stdout",
     "output_type": "stream",
     "text": [
      "{0.0} <music21.instrument.Piano Piano>\n",
      "{0.0} <music21.tempo.MetronomeMark andante Quarter=72>\n",
      "{0.0} <music21.key.Key of C major>\n",
      "{0.0} <music21.meter.TimeSignature 4/4>\n",
      "{0.0} <music21.note.Note C>\n",
      "{0.25} <music21.note.Note E>\n",
      "{2.0} <music21.note.Note C>\n",
      "{2.25} <music21.note.Note E>\n"
     ]
    }
   ],
   "source": [
    "strem.show(\"text\")"
   ]
  },
  {
   "cell_type": "markdown",
   "metadata": {},
   "source": [
    "Alright, looks like it's working!! Let's create the functions and try it out"
   ]
  },
  {
   "cell_type": "code",
   "execution_count": 74,
   "metadata": {},
   "outputs": [],
   "source": [
    "def encode(hand, tempo=None):\n",
    "    \n",
    "    \"\"\"\n",
    "    Many-hot-encoding of a hand of a musical piece\n",
    "    :param hand: a music21 stream for piano instrument\n",
    "    :param tempo: to set a tempo for a left hand\n",
    "    when it follows the tempo for the right hand\n",
    "    :returns: encoded ordered temporal vectors\n",
    "    Each vector corresponds to a time_step=16th\n",
    "    Components 0 to 87 are the notes in ascending\n",
    "    frequency order. Component 88 = 1 if there is\n",
    "    a rest. Component 89 indicates hold, to account\n",
    "    for notes with duration longer than 16th. Last\n",
    "    component (90) is the tempo, as integer from ...\n",
    "    NOTE: This works on only one hand (stream which \n",
    "    does not contain any other streams)\n",
    "    \"\"\"\n",
    "    \n",
    "    # Gets a NumPy array with all the frequency of the piano notes\n",
    "    notes_freq = [ms.note.Note(note).pitch.frequency for note in [\"A0\", \"A#0\"]]\n",
    "    s = [\"C\", \"C#\", \"D\", \"D#\", \"E\", \"F\", \"F#\", \"G\", \"G#\", \"A\", \"A#\", \"B\"]\n",
    "    for i in range(1, 8):\n",
    "        notes_freq += [ms.note.Note(note + str(i)).pitch.frequency for note in s]\n",
    "    notes_freq.append(ms.note.Note(\"C8\").pitch.frequency)\n",
    "    notes_freq = np.array(notes_freq)\n",
    "    \n",
    "    # To get the type duration based on the duration of the note\n",
    "    #types_mapping = {\"64th\": 1, \"32nd\": 2, \"16th\": 4, \"eighth\": 8,\n",
    "    #             \"quarter\": 16, \"half\": 32, \"whole\": 64, \n",
    "    #             \"breve\": 128, \"longa\": 256, \"maxima\": 512}\n",
    "    \n",
    "    # Gets the time step. Each vector will contain note/s of 64th length \n",
    "    time_step = 0.05\n",
    "    \n",
    "    # Gets the numpy array to store all the encoded notes, rests, holds and tempo\n",
    "    for nt in hand[::-1]:  # To do so, we need to get the offset\n",
    "        try:  # of the last note/rest, together with its duration\n",
    "            size = nt.offset + nt.duration.quarterLength\n",
    "            break\n",
    "        except:\n",
    "            pass\n",
    "    #print(size)\n",
    "    notes = np.zeros((int(size/time_step), 90))\n",
    "    #print(notes.shape)\n",
    "    \n",
    "    # To use the tempo of a right hand on the left hand\n",
    "    if tempo:\n",
    "        notes[:, 89] = tempo\n",
    "    \n",
    "    # Encodes all the music\n",
    "    # This flag will be used to only get the tempo of the beginning of the piece\n",
    "    temp_flag = True  # And assign this tempo to all the notes in the piece\n",
    "    idx = -1  # To only append notes, rests or chords\n",
    "    for nt in hand:\n",
    "        if type(nt) == ms.note.Note or type(nt) == ms.note.Rest or type(nt) == ms.chord.Chord:\n",
    "            idx = int(nt.offset/time_step)  # Temporal index\n",
    "        # Tempo Encoding\n",
    "        if temp_flag:\n",
    "            if type(nt) == ms.tempo.MetronomeMark:\n",
    "                notes[:, 89] = nt.number\n",
    "                temp_flag = False\n",
    "        if idx >= 0:\n",
    "            #print(\"idx\", idx)\n",
    "            n_vectors = int(nt.duration.quarterLength/time_step) #types_mapping[nt.duration.type]\n",
    "            # Loops over the duration of the note (if a note is 8th\n",
    "            # we need to put this note in two consecutive vector)\n",
    "            #print(n_vectors)\n",
    "            for i in range(n_vectors):\n",
    "                #print(nt, idx, i)\n",
    "                # Note encoding: one/many-hot encoding\n",
    "                if type(nt) == ms.note.Note:\n",
    "                    notes[idx + i, :87] += (notes_freq == nt.pitch.frequency)*1\n",
    "                # Rest Encoding: one-hot encoding\n",
    "                if type(nt) == ms.note.Rest:\n",
    "                    notes[idx + i, 87] = 1\n",
    "                # Chord Encoding: many-hot encoding\n",
    "                if type(nt) == ms.chord.Chord:\n",
    "                    for freqs in [nts.frequency for nts in nt.pitches]:\n",
    "                        notes[idx + i, :87] += (notes_freq == freqs)*1\n",
    "                # Hold Encoding: If the duration of the note is longer than 16th\n",
    "                notes[idx + i, 88] = 1\n",
    "            notes[idx + i, 88] = 0\n",
    "        idx = -1\n",
    "            \n",
    "    return notes"
   ]
  },
  {
   "cell_type": "code",
   "execution_count": 75,
   "metadata": {},
   "outputs": [
    {
     "name": "stdout",
     "output_type": "stream",
     "text": [
      "{0.0} <music21.instrument.Piano Piano>\n",
      "{0.0} <music21.tempo.MetronomeMark andante Quarter=74.0>\n",
      "{0.0} <music21.key.Key of C major>\n",
      "{0.0} <music21.meter.TimeSignature 4/4>\n",
      "{0.0} <music21.note.Rest rest>\n",
      "{0.5} <music21.note.Note G>\n",
      "{0.75} <music21.note.Note C>\n",
      "{1.0} <music21.tempo.MetronomeMark Quarter=75.5>\n",
      "{1.0} <music21.note.Note E>\n",
      "{1.25} <music21.tempo.MetronomeMark andante Quarter=74.0>\n"
     ]
    }
   ],
   "source": [
    "bach[0][:10].show(\"text\")"
   ]
  },
  {
   "cell_type": "code",
   "execution_count": 76,
   "metadata": {},
   "outputs": [],
   "source": [
    "notes_encoded = encode(bach[0][:10])"
   ]
  },
  {
   "cell_type": "code",
   "execution_count": 77,
   "metadata": {},
   "outputs": [],
   "source": [
    "def decode(notes_encoded, tempo=74):\n",
    "    \n",
    "    \"\"\"\n",
    "    Returns the encoded notes by encode()\n",
    "    to the original music21 notation\n",
    "    to get the MIDI file back\n",
    "    :param: notes_encoded: ordered temporal\n",
    "    vectors in a 2D NumPy array, where\n",
    "    each row is representes the music at certain time\n",
    "    :param: tempo\n",
    "    :returns: music21 stream object\n",
    "    \"\"\"\n",
    "    \n",
    "    # Gets the music21 letter representation of the notes pitches\n",
    "    notes_letters = [\"A0\", \"A#0\"]\n",
    "    s = [\"C\", \"C#\", \"D\", \"D#\", \"E\", \"F\", \"F#\", \"G\", \"G#\", \"A\", \"A#\", \"B\"]\n",
    "    for i in range(1, 8):\n",
    "        notes_letters += [note + str(i) for note in s]\n",
    "    notes_letters.append(\"C8\")\n",
    "    # Gets a NumPy array with all the frequency of the piano notes\n",
    "    notes_freq = [ms.note.Note(note).pitch.frequency for note in [\"A0\", \"A#0\"]]\n",
    "    s = [\"C\", \"C#\", \"D\", \"D#\", \"E\", \"F\", \"F#\", \"G\", \"G#\", \"A\", \"A#\", \"B\"]\n",
    "    for i in range(1, 8):\n",
    "        notes_freq += [ms.note.Note(note + str(i)).pitch.frequency for note in s]\n",
    "    notes_freq.append(ms.note.Note(\"C8\").pitch.frequency)\n",
    "    notes_freq = np.array(notes_freq)\n",
    "    \n",
    "    # Creates the stream object and appends some default (TODO) stuff \n",
    "    stream = ms.stream.Stream()\n",
    "    stream.append(ms.instrument.Piano())\n",
    "    if notes_encoded[0, -1]:  # If we encode and decode the left hand by separate\n",
    "        stream.append(ms.tempo.MetronomeMark(number=int(notes_encoded[0, -1])))\n",
    "    else:  # It will have tempo=0, so we need this. TODO: Make thi\n",
    "        stream.append(ms.tempo.MetronomeMark(number=tempo))\n",
    "    stream.append(ms.key.Key(\"C\"))\n",
    "    stream.append(ms.meter.TimeSignature())\n",
    "    \n",
    "    time_step = 0.05\n",
    "    \n",
    "    offset = 0\n",
    "    hold = {}  # Will store the duration of the hold for each note\n",
    "    for j, p in enumerate(notes_encoded):\n",
    "        if p[87]:  # If we have a Rest, do the same as below\n",
    "            try:\n",
    "                if offset < hold[87]:\n",
    "                    offset += 0.05\n",
    "                    continue\n",
    "            except:\n",
    "                pass\n",
    "            nt = ms.note.Rest()\n",
    "            dur = time_step\n",
    "            if p[-2]:  \n",
    "                i = j + 1  \n",
    "                dur += time_step\n",
    "                while notes_encoded[i][-2]:  \n",
    "                    dur += time_step\n",
    "                    i += 1\n",
    "            hold[87] = dur + offset  \n",
    "            nt.duration = ms.duration.Duration(dur)\n",
    "            stream.append(nt)\n",
    "            stream[-1].offset = offset\n",
    "        else:\n",
    "            # For each note on the vector at time = offset\n",
    "            for frequ_index in np.nonzero(notes_freq * p[:87])[0]:\n",
    "                try:  # If the duration of the hold + offset is longer than the current offset\n",
    "                    if offset < hold[frequ_index]:\n",
    "                        #offset += 0.25\n",
    "                        continue  # Do not append this note to the stream\n",
    "                except:  # As it will be the same note appended on the first previous iteration\n",
    "                    pass\n",
    "                # Gets the pitch for a note in p\n",
    "                nt = ms.note.Note(notes_letters[int(frequ_index)])\n",
    "                # Gets the duration\n",
    "                dur = time_step\n",
    "                if p[-2]:  # If we have a hold\n",
    "                    i = j + 1  # Move onto the next p vector\n",
    "                    dur += time_step\n",
    "                    while notes_encoded[i][-2]:  # And do so until the hold dissapears\n",
    "                        dur += time_step\n",
    "                        i += 1\n",
    "                hold[frequ_index] = dur + offset  # Total duration of the hold, from the offset\n",
    "                nt.duration = ms.duration.Duration(dur)\n",
    "                # Appends to the stream\n",
    "                stream.append(nt)\n",
    "                # Sets the offset (need to do it here)\n",
    "                stream[-1].offset = offset\n",
    "\n",
    "        offset += 0.05\n",
    "                \n",
    "    # Accounts for chords\n",
    "    stream_with_chords = ms.stream.Stream()\n",
    "    stream_with_chords.append(stream[0])\n",
    "    le = len(stream)\n",
    "    for i in range(len(stream)-1):\n",
    "        if type(stream[i]) == ms.note.Note:\n",
    "            if (stream[i+1].duration.quarterLength, stream[i+1].offset) == (stream[i].duration.quarterLength, stream[i].offset):\n",
    "                j = i + 1\n",
    "                notes_in_chord = [stream[i].nameWithOctave]\n",
    "                while (stream[j].duration.quarterLength, stream[j].offset) == (stream[i].duration.quarterLength, stream[i].offset):\n",
    "                    notes_in_chord.append(stream[j].nameWithOctave)\n",
    "                    j += 1\n",
    "                    if j == le:\n",
    "                        break\n",
    "                stream_with_chords.append(ms.chord.Chord(notes_in_chord))\n",
    "                stream_with_chords[-1].duration = ms.duration.Duration(stream[i].duration.quarterLength)\n",
    "                stream_with_chords[-1].offset = stream[i].offset\n",
    "                stream_with_chords.pop(-2)\n",
    "            else:\n",
    "                stream_with_chords.append(stream[i+1])\n",
    "                stream_with_chords[-1].offset = stream[i+1].offset\n",
    "        else:\n",
    "            stream_with_chords.append(stream[i+1])\n",
    "            stream_with_chords[-1].offset = stream[i+1].offset\n",
    "                \n",
    "    return stream_with_chords"
   ]
  },
  {
   "cell_type": "code",
   "execution_count": 78,
   "metadata": {},
   "outputs": [
    {
     "name": "stdout",
     "output_type": "stream",
     "text": [
      "{0.0} <music21.instrument.Piano Piano>\n",
      "{0.0} <music21.tempo.MetronomeMark andante Quarter=74>\n",
      "{0.0} <music21.key.Key of C major>\n",
      "{0.0} <music21.meter.TimeSignature 4/4>\n",
      "{0.0} <music21.note.Rest rest>\n",
      "{0.5} <music21.note.Note G>\n",
      "{0.75} <music21.note.Note C>\n",
      "{1.0} <music21.note.Note E>\n"
     ]
    }
   ],
   "source": [
    "notes_decoded = decode(notes_encoded)\n",
    "notes_decoded.show(\"text\")"
   ]
  },
  {
   "cell_type": "code",
   "execution_count": 79,
   "metadata": {},
   "outputs": [
    {
     "name": "stdout",
     "output_type": "stream",
     "text": [
      "{0.0} <music21.instrument.Piano Piano>\n",
      "{0.0} <music21.tempo.MetronomeMark andante Quarter=74.0>\n",
      "{0.0} <music21.key.Key of C major>\n",
      "{0.0} <music21.meter.TimeSignature 4/4>\n",
      "{0.0} <music21.note.Rest rest>\n",
      "{0.5} <music21.note.Note G>\n",
      "{0.75} <music21.note.Note C>\n",
      "{1.0} <music21.tempo.MetronomeMark Quarter=75.5>\n",
      "{1.0} <music21.note.Note E>\n",
      "{1.25} <music21.tempo.MetronomeMark andante Quarter=74.0>\n"
     ]
    }
   ],
   "source": [
    "bach[0][:10].show(\"text\")"
   ]
  },
  {
   "cell_type": "markdown",
   "metadata": {},
   "source": [
    "Ok, let's see if we can get the right hand of `\"bach_846.mid\"` back after encoding it!"
   ]
  },
  {
   "cell_type": "code",
   "execution_count": 80,
   "metadata": {},
   "outputs": [
    {
     "data": {
      "text/plain": [
       "'bach_846-right_hand-original.mid'"
      ]
     },
     "execution_count": 80,
     "metadata": {},
     "output_type": "execute_result"
    }
   ],
   "source": [
    "notes_encoded = encode(bach[0])\n",
    "bach_decoded = decode(notes_encoded)\n",
    "bach_decoded.write(\"midi\", \"bach_846-right_hand-decoded.mid\")\n",
    "bach[0].write(\"midi\", \"bach_846-right_hand-original.mid\")"
   ]
  },
  {
   "cell_type": "markdown",
   "metadata": {},
   "source": [
    "You can open this midi files and see that they are exactly the same, apart from the tempo, which for our encoded and decoded piece is only the one that appears at the beginning. Let's try with the left hand"
   ]
  },
  {
   "cell_type": "code",
   "execution_count": 81,
   "metadata": {},
   "outputs": [
    {
     "data": {
      "text/plain": [
       "'bach_846-left_hand-original.mid'"
      ]
     },
     "execution_count": 81,
     "metadata": {},
     "output_type": "execute_result"
    }
   ],
   "source": [
    "notes_encoded = encode(bach[1])\n",
    "bach_decoded = decode(notes_encoded)\n",
    "bach_decoded.write(\"midi\", \"bach_846-left_hand-decoded.mid\")\n",
    "bach[1].write(\"midi\", \"bach_846-left_hand-original.mid\")"
   ]
  },
  {
   "cell_type": "markdown",
   "metadata": {},
   "source": [
    "Again, the same! Note that the tempo on `\"bach_846-left_hand-original.mid\"` was lost."
   ]
  },
  {
   "cell_type": "markdown",
   "metadata": {},
   "source": [
    "Let's try with another midi file"
   ]
  },
  {
   "cell_type": "code",
   "execution_count": 82,
   "metadata": {},
   "outputs": [
    {
     "data": {
      "text/plain": [
       "<music21.stream.Voice 0xa1d73e6d8>"
      ]
     },
     "execution_count": 82,
     "metadata": {},
     "output_type": "execute_result"
    }
   ],
   "source": [
    "fur_elise = ms.converter.parse(\"elise.mid\")\n",
    "fur_elise[0][4]"
   ]
  },
  {
   "cell_type": "markdown",
   "metadata": {},
   "source": [
    "This one has voices inside of the parts, so let's get the first voice. The tempo will also be off because of this. TODO: Include this on the encode and decode functions."
   ]
  },
  {
   "cell_type": "code",
   "execution_count": 83,
   "metadata": {},
   "outputs": [
    {
     "data": {
      "text/plain": [
       "'elise-right_hand-original.mid'"
      ]
     },
     "execution_count": 83,
     "metadata": {},
     "output_type": "execute_result"
    }
   ],
   "source": [
    "fur_elise = ms.converter.parse(\"elise.mid\")\n",
    "notes_encoded = encode(fur_elise[0][4])\n",
    "fur_elise_decoded = decode(notes_encoded)\n",
    "fur_elise_decoded.write(\"midi\", \"elise-right_hand-decoded.mid\")\n",
    "fur_elise[0][4].write(\"midi\", \"elise-right_hand-original.mid\")"
   ]
  },
  {
   "cell_type": "code",
   "execution_count": 84,
   "metadata": {},
   "outputs": [
    {
     "data": {
      "text/plain": [
       "'elise-left_hand-original.mid'"
      ]
     },
     "execution_count": 84,
     "metadata": {},
     "output_type": "execute_result"
    }
   ],
   "source": [
    "notes_encoded = encode(fur_elise[1])\n",
    "fur_elise_decoded = decode(notes_encoded)\n",
    "fur_elise_decoded.write(\"midi\", \"elise-left_hand-decoded.mid\")\n",
    "fur_elise[1].write(\"midi\", \"elise-left_hand-original.mid\")"
   ]
  },
  {
   "cell_type": "markdown",
   "metadata": {},
   "source": [
    "It works."
   ]
  },
  {
   "cell_type": "markdown",
   "metadata": {},
   "source": [
    "## Two parts/voices together\n",
    "\n",
    "We can do this by *multi-many-hot encoding*, but this would not let us recover which notes are from which voice, and we still have the problem of the hold. Another approach would be what Avi is doing. I'll attempt the *multi-many-hot encoding* below:"
   ]
  },
  {
   "cell_type": "code",
   "execution_count": 85,
   "metadata": {},
   "outputs": [
    {
     "name": "stdout",
     "output_type": "stream",
     "text": [
      "{0.0} <music21.instrument.Piano Piano>\n",
      "{0.0} <music21.tempo.MetronomeMark andante Quarter=74.0>\n",
      "{0.0} <music21.key.Key of C major>\n",
      "{0.0} <music21.meter.TimeSignature 4/4>\n",
      "{0.0} <music21.note.Rest rest>\n",
      "{0.5} <music21.note.Note G>\n",
      "{0.75} <music21.note.Note C>\n",
      "{1.0} <music21.tempo.MetronomeMark Quarter=75.5>\n",
      "{1.0} <music21.note.Note E>\n",
      "{1.25} <music21.tempo.MetronomeMark andante Quarter=74.0>\n"
     ]
    }
   ],
   "source": [
    "bach[0][:10].show(\"text\")"
   ]
  },
  {
   "cell_type": "code",
   "execution_count": 86,
   "metadata": {},
   "outputs": [
    {
     "name": "stdout",
     "output_type": "stream",
     "text": [
      "{0.0} <music21.instrument.Piano Piano>\n",
      "{0.0} <music21.key.Key of C major>\n",
      "{0.0} <music21.meter.TimeSignature 4/4>\n",
      "{0.0} <music21.note.Note C>\n",
      "{0.25} <music21.note.Note E>\n",
      "{2.0} <music21.note.Note C>\n",
      "{2.25} <music21.note.Note E>\n",
      "{4.0} <music21.note.Note C>\n",
      "{4.25} <music21.note.Note D>\n",
      "{6.0} <music21.note.Note C>\n"
     ]
    }
   ],
   "source": [
    "bach[1][:10].show(\"text\")"
   ]
  },
  {
   "cell_type": "code",
   "execution_count": 87,
   "metadata": {},
   "outputs": [
    {
     "data": {
      "text/plain": [
       "array([ 0.,  0.,  0.,  0.,  0.,  0.,  0.,  0.,  0.,  0.,  0.,  0.,  0.,\n",
       "        0.,  0.,  0.,  0.,  0.,  0.,  0.,  0.,  0.,  0.,  0.,  0.,  0.,\n",
       "        0.,  0.,  0.,  0.,  0.,  0.,  0.,  0.,  0.,  0.,  0.,  0.,  0.,\n",
       "        0.,  0.,  0.,  0.,  0.,  0.,  0.,  0.,  0.,  0.,  0.,  0.,  0.,\n",
       "        0.,  0.,  0.,  0.,  0.,  0.,  0.,  0.,  0.,  0.,  0.,  0.,  0.,\n",
       "        0.,  0.,  0.,  0.,  0.,  0.,  0.,  0.,  0.,  0.,  0.,  0.,  0.,\n",
       "        0.,  0.,  0.,  0.,  0.,  0.,  0.,  0.,  0.,  1.,  1., 74.])"
      ]
     },
     "execution_count": 87,
     "metadata": {},
     "output_type": "execute_result"
    }
   ],
   "source": [
    "notes_encoded_right = encode(bach[0][:10])\n",
    "notes_encoded_left = encode(bach[1][:10])\n",
    "notes_encoded_right[0]"
   ]
  },
  {
   "cell_type": "code",
   "execution_count": 88,
   "metadata": {},
   "outputs": [
    {
     "data": {
      "text/plain": [
       "array([0., 0., 0., 0., 0., 0., 0., 0., 0., 0., 0., 0., 0., 0., 0., 0., 0.,\n",
       "       0., 0., 0., 0., 0., 0., 0., 0., 0., 0., 0., 0., 0., 0., 0., 0., 0.,\n",
       "       0., 0., 0., 0., 1., 0., 0., 0., 0., 0., 0., 0., 0., 0., 0., 0., 0.,\n",
       "       0., 0., 0., 0., 0., 0., 0., 0., 0., 0., 0., 0., 0., 0., 0., 0., 0.,\n",
       "       0., 0., 0., 0., 0., 0., 0., 0., 0., 0., 0., 0., 0., 0., 0., 0., 0.,\n",
       "       0., 0., 0., 1., 0.])"
      ]
     },
     "execution_count": 88,
     "metadata": {},
     "output_type": "execute_result"
    }
   ],
   "source": [
    "notes_encoded_left[0]"
   ]
  },
  {
   "cell_type": "code",
   "execution_count": 89,
   "metadata": {},
   "outputs": [
    {
     "data": {
      "text/plain": [
       "array([ 0.,  0.,  0.,  0.,  0.,  0.,  0.,  0.,  0.,  0.,  0.,  0.,  0.,\n",
       "        0.,  0.,  0.,  0.,  0.,  0.,  0.,  0.,  0.,  0.,  0.,  0.,  0.,\n",
       "        0.,  0.,  0.,  0.,  0.,  0.,  0.,  0.,  0.,  0.,  0.,  0.,  1.,\n",
       "        0.,  0.,  0.,  0.,  0.,  0.,  0.,  0.,  0.,  0.,  0.,  0.,  0.,\n",
       "        0.,  0.,  0.,  0.,  0.,  0.,  0.,  0.,  0.,  0.,  0.,  0.,  0.,\n",
       "        0.,  0.,  0.,  0.,  0.,  0.,  0.,  0.,  0.,  0.,  0.,  0.,  0.,\n",
       "        0.,  0.,  0.,  0.,  0.,  0.,  0.,  0.,  0.,  1.,  2., 74.])"
      ]
     },
     "execution_count": 89,
     "metadata": {},
     "output_type": "execute_result"
    }
   ],
   "source": [
    "notes_encoded_right[0] + notes_encoded_left[0]"
   ]
  },
  {
   "cell_type": "code",
   "execution_count": 90,
   "metadata": {},
   "outputs": [],
   "source": [
    "def decode(notes_encoded, tempo=74):\n",
    "    \n",
    "    \"\"\"\n",
    "    Returns the encoded notes by encode()\n",
    "    to the original music21 notation\n",
    "    to get the MIDI file back\n",
    "    :param: notes_encoded: ordered temporal\n",
    "    vectors in a 2D NumPy array, where\n",
    "    each row is representes the music at certain time\n",
    "    :param: tempo\n",
    "    :returns: music21 stream object\n",
    "    \"\"\"\n",
    "    \n",
    "    # Gets the music21 letter representation of the notes pitches\n",
    "    notes_letters = [\"A0\", \"A#0\"]\n",
    "    s = [\"C\", \"C#\", \"D\", \"D#\", \"E\", \"F\", \"F#\", \"G\", \"G#\", \"A\", \"A#\", \"B\"]\n",
    "    for i in range(1, 8):\n",
    "        notes_letters += [note + str(i) for note in s]\n",
    "    notes_letters.append(\"C8\")\n",
    "    # Gets a NumPy array with all the frequency of the piano notes\n",
    "    notes_freq = [ms.note.Note(note).pitch.frequency for note in [\"A0\", \"A#0\"]]\n",
    "    s = [\"C\", \"C#\", \"D\", \"D#\", \"E\", \"F\", \"F#\", \"G\", \"G#\", \"A\", \"A#\", \"B\"]\n",
    "    for i in range(1, 8):\n",
    "        notes_freq += [ms.note.Note(note + str(i)).pitch.frequency for note in s]\n",
    "    notes_freq.append(ms.note.Note(\"C8\").pitch.frequency)\n",
    "    notes_freq = np.array(notes_freq)\n",
    "    \n",
    "    # Creates the stream object and appends some default (TODO) stuff \n",
    "    stream = ms.stream.Stream()\n",
    "    stream.append(ms.instrument.Piano())\n",
    "    if notes_encoded[0, -1]:  # If we encode and decode the left hand by separate\n",
    "        stream.append(ms.tempo.MetronomeMark(number=int(notes_encoded[0, -1])))\n",
    "    else:  # It will have tempo=0, so we need this. TODO: Make thi\n",
    "        stream.append(ms.tempo.MetronomeMark(number=tempo))\n",
    "    stream.append(ms.key.Key(\"C\"))\n",
    "    stream.append(ms.meter.TimeSignature())\n",
    "    \n",
    "    time_step = 0.05\n",
    "    \n",
    "    offset = 0\n",
    "    hold = {}  # Will store the duration of the hold for each note\n",
    "    for j, p in enumerate(notes_encoded):\n",
    "        if p[87]:  # If we have a Rest, do the same as below\n",
    "            try:\n",
    "                if offset < hold[87]:\n",
    "                    offset += 0.05\n",
    "                    continue\n",
    "            except:\n",
    "                pass\n",
    "            nt = ms.note.Rest()\n",
    "            dur = time_step\n",
    "            if p[-2]:  \n",
    "                i = j + 1  \n",
    "                dur += time_step\n",
    "                while notes_encoded[i][-2]:  \n",
    "                    dur += time_step\n",
    "                    i += 1\n",
    "            hold[87] = dur + offset  \n",
    "            nt.duration = ms.duration.Duration(dur)\n",
    "            stream.append(nt)\n",
    "            stream[-1].offset = offset\n",
    "        #else:\n",
    "        # For each note on the vector at time = offset\n",
    "        for frequ_index in np.nonzero(notes_freq * p[:87])[0]:\n",
    "            try:  # If the duration of the hold + offset is longer than the current offset\n",
    "                if offset < hold[frequ_index]:\n",
    "                    #offset += 0.25\n",
    "                    continue  # Do not append this note to the stream\n",
    "            except:  # As it will be the same note appended on the first previous iteration\n",
    "                pass\n",
    "            # Gets the pitch for a note in p\n",
    "            nt = ms.note.Note(notes_letters[int(frequ_index)])\n",
    "            # Gets the duration\n",
    "            dur = time_step\n",
    "            if p[-2]:  # If we have a hold\n",
    "                i = j + 1  # Move onto the next p vector\n",
    "                dur += time_step\n",
    "                while notes_encoded[i][-2]:  # And do so until the hold dissapears\n",
    "                    dur += time_step\n",
    "                    i += 1\n",
    "            hold[frequ_index] = dur + offset  # Total duration of the hold, from the offset\n",
    "            nt.duration = ms.duration.Duration(dur)\n",
    "            # Appends to the stream\n",
    "            stream.append(nt)\n",
    "            # Sets the offset (need to do it here)\n",
    "            stream[-1].offset = offset\n",
    "\n",
    "        offset += 0.05\n",
    "                \n",
    "    # Accounts for chords\n",
    "    stream_with_chords = ms.stream.Stream()\n",
    "    stream_with_chords.append(stream[0])\n",
    "    le = len(stream)\n",
    "    for i in range(len(stream)-1):\n",
    "        if type(stream[i]) == ms.note.Note:\n",
    "            if (stream[i+1].duration.quarterLength, stream[i+1].offset) == (stream[i].duration.quarterLength, stream[i].offset):\n",
    "                j = i + 1\n",
    "                notes_in_chord = [stream[i].nameWithOctave]\n",
    "                while (stream[j].duration.quarterLength, stream[j].offset) == (stream[i].duration.quarterLength, stream[i].offset):\n",
    "                    notes_in_chord.append(stream[j].nameWithOctave)\n",
    "                    j += 1\n",
    "                    if j == le:\n",
    "                        break\n",
    "                stream_with_chords.append(ms.chord.Chord(notes_in_chord))\n",
    "                stream_with_chords[-1].duration = ms.duration.Duration(stream[i].duration.quarterLength)\n",
    "                stream_with_chords[-1].offset = stream[i].offset\n",
    "                stream_with_chords.pop(-2)\n",
    "            else:\n",
    "                stream_with_chords.append(stream[i+1])\n",
    "                stream_with_chords[-1].offset = stream[i+1].offset\n",
    "        else:\n",
    "            stream_with_chords.append(stream[i+1])\n",
    "            stream_with_chords[-1].offset = stream[i+1].offset\n",
    "                \n",
    "    return stream"
   ]
  },
  {
   "cell_type": "code",
   "execution_count": 91,
   "metadata": {},
   "outputs": [],
   "source": [
    "right_notes = encode(bach[0])\n",
    "left_notes = encode(bach[1])\n",
    "notes_combined = np.zeros(right_notes.shape)\n",
    "for idx, left_note in enumerate(left_notes):\n",
    "    notes_combined[idx] = left_note\n",
    "notes_combined += right_notes\n",
    "for idx, nt in enumerate(notes_combined):\n",
    "    if nt[88] == 2:\n",
    "        notes_combined[idx][88] = 1\n",
    "notes_combined_decoded = decode(notes_combined)"
   ]
  },
  {
   "cell_type": "code",
   "execution_count": 92,
   "metadata": {},
   "outputs": [
    {
     "data": {
      "text/plain": [
       "array([ 0.,  0.,  0.,  0.,  0.,  0.,  0.,  0.,  0.,  0.,  0.,  0.,  0.,\n",
       "        0.,  0.,  0.,  0.,  0.,  0.,  0.,  0.,  0.,  0.,  0.,  0.,  0.,\n",
       "        0.,  0.,  0.,  0.,  0.,  0.,  0.,  0.,  0.,  0.,  0.,  0.,  1.,\n",
       "        0.,  0.,  0.,  0.,  0.,  0.,  0.,  0.,  0.,  0.,  0.,  0.,  0.,\n",
       "        0.,  0.,  0.,  0.,  0.,  0.,  0.,  0.,  0.,  0.,  0.,  0.,  0.,\n",
       "        0.,  0.,  0.,  0.,  0.,  0.,  0.,  0.,  0.,  0.,  0.,  0.,  0.,\n",
       "        0.,  0.,  0.,  0.,  0.,  0.,  0.,  0.,  0.,  1.,  1., 74.])"
      ]
     },
     "execution_count": 92,
     "metadata": {},
     "output_type": "execute_result"
    }
   ],
   "source": [
    "notes_combined[0]"
   ]
  },
  {
   "cell_type": "code",
   "execution_count": 94,
   "metadata": {},
   "outputs": [
    {
     "data": {
      "text/plain": [
       "'bach_right_left_many-hot-encoded_decoded.mid'"
      ]
     },
     "execution_count": 94,
     "metadata": {},
     "output_type": "execute_result"
    }
   ],
   "source": [
    "notes_combined_decoded.write(\"midi\", \"bach_right_left_many-hot-encoded_decoded.mid\")"
   ]
  },
  {
   "cell_type": "code",
   "execution_count": 95,
   "metadata": {},
   "outputs": [
    {
     "name": "stdout",
     "output_type": "stream",
     "text": [
      "{0.0} <music21.instrument.Piano Piano>\n",
      "{0.0} <music21.tempo.MetronomeMark andante Quarter=74>\n",
      "{0.0} <music21.key.Key of C major>\n",
      "{0.0} <music21.meter.TimeSignature 4/4>\n",
      "{0.0} <music21.note.Rest rest>\n",
      "{0.0} <music21.note.Note C>\n",
      "{0.5} <music21.note.Note E>\n",
      "{0.5} <music21.note.Note G>\n",
      "{0.75} <music21.note.Note C>\n",
      "{1.0} <music21.note.Note E>\n"
     ]
    }
   ],
   "source": [
    "notes_combined_decoded[:10].show(\"text\")"
   ]
  },
  {
   "cell_type": "code",
   "execution_count": 96,
   "metadata": {},
   "outputs": [
    {
     "name": "stdout",
     "output_type": "stream",
     "text": [
      "{0.0} <music21.instrument.Piano Piano>\n",
      "{0.0} <music21.tempo.MetronomeMark andante Quarter=74.0>\n",
      "{0.0} <music21.key.Key of C major>\n",
      "{0.0} <music21.meter.TimeSignature 4/4>\n",
      "{0.0} <music21.note.Rest rest>\n",
      "{0.5} <music21.note.Note G>\n",
      "{0.75} <music21.note.Note C>\n",
      "{1.0} <music21.tempo.MetronomeMark Quarter=75.5>\n",
      "{1.0} <music21.note.Note E>\n",
      "{1.25} <music21.tempo.MetronomeMark andante Quarter=74.0>\n"
     ]
    }
   ],
   "source": [
    "bach[0][:10].show(\"text\")"
   ]
  },
  {
   "cell_type": "code",
   "execution_count": 97,
   "metadata": {},
   "outputs": [
    {
     "name": "stdout",
     "output_type": "stream",
     "text": [
      "{0.0} <music21.instrument.Piano Piano>\n",
      "{0.0} <music21.key.Key of C major>\n",
      "{0.0} <music21.meter.TimeSignature 4/4>\n",
      "{0.0} <music21.note.Note C>\n",
      "{0.25} <music21.note.Note E>\n",
      "{2.0} <music21.note.Note C>\n",
      "{2.25} <music21.note.Note E>\n",
      "{4.0} <music21.note.Note C>\n",
      "{4.25} <music21.note.Note D>\n",
      "{6.0} <music21.note.Note C>\n"
     ]
    }
   ],
   "source": [
    "bach[1][:10].show(\"text\")"
   ]
  },
  {
   "cell_type": "markdown",
   "metadata": {},
   "source": [
    "As I feared, with this approach we lose info. The hold dimension on the vectors for the right and left hands gets mixed up and as a result the offsets get mixed up too. It's a pitty, but I am pretty sure there is no way to get the exactly correct offsets after encoding them this way, because even when differentiating between holds for left and right hands, there is no way to actually differentiate between notes for left and right hands.\n",
    "\n",
    "We are left with three options: Use the encoding Avi is doing (stack horizontally and double the number of dimensions), or use only RNNs for the right hand and then CNNs to predict a left hand for the generated right hands. The last option would mean changing the encoding almost completly, and would be using a note_step instead of a time_step. I have a feeling this would be possible, but not sure and it is probably not worth it at this point."
   ]
  },
  {
   "cell_type": "code",
   "execution_count": null,
   "metadata": {},
   "outputs": [],
   "source": []
  },
  {
   "cell_type": "code",
   "execution_count": null,
   "metadata": {},
   "outputs": [],
   "source": []
  },
  {
   "cell_type": "markdown",
   "metadata": {},
   "source": [
    "## Encoding & Decoding Evaluation"
   ]
  },
  {
   "cell_type": "markdown",
   "metadata": {},
   "source": [
    "Because we are using global tempo and things like time signatures and keys don't matter to us, we will just compare notes, rests and chords, together with their offsets and durations. And also the global tempo."
   ]
  },
  {
   "cell_type": "code",
   "execution_count": 89,
   "metadata": {},
   "outputs": [],
   "source": [
    "def eva(notes_decoded, part, accs=[], tempo_right=None, tempo_right_orig=None):\n",
    "    tempo_en_dec = tempo_right\n",
    "    tempo_orig = tempo_right_orig\n",
    "    for nt in notes_decoded:\n",
    "        if type(nt) == ms.tempo.MetronomeMark:\n",
    "            tempo_en_dec = float(nt.number)\n",
    "            break\n",
    "    for nt in part:\n",
    "        if type(nt) == ms.tempo.MetronomeMark:\n",
    "            tempo_orig = float(nt.number)\n",
    "            break\n",
    "    li_decoded, li_orig = [], []\n",
    "    for nt in notes_decoded:\n",
    "        if type(nt) == ms.note.Note or type(nt) == ms.note.Rest: # or type(nt) == ms.chord.Chord:  # TODO\n",
    "            li_decoded.append(nt)\n",
    "    for nt in part:\n",
    "        if type(nt) == ms.note.Note or type(nt) == ms.note.Rest: # or type(nt) == ms.chord.Chord:  # TODO\n",
    "            li_orig.append(nt)\n",
    "    s = (tempo_en_dec == tempo_orig)*1\n",
    "    l = 1\n",
    "    idx = 0\n",
    "    for nt_enc_dec, nt_real in zip(li_decoded, li_orig):\n",
    "        if type(nt_enc_dec) == ms.note.Note:\n",
    "            if (nt_enc_dec.pitch.frequency, nt_enc_dec.offset, nt_enc_dec.duration.quarterLength) == (\n",
    "                nt_real.pitch.frequency, nt_real.offset, nt_real.duration.quarterLength):\n",
    "                s += 1\n",
    "                l += 1\n",
    "            else:\n",
    "                #print(\"index\", idx)\n",
    "                #print(nt_enc_dec, nt_real)\n",
    "                #print(nt_enc_dec.pitch.frequency == nt_real.pitch.frequency)\n",
    "                #print(nt_enc_dec.offset)\n",
    "                #print(nt_real.offset)\n",
    "                #print(nt_enc_dec.offset == nt_real.offset)\n",
    "                #print(nt_enc_dec.duration.quarterLength == nt_real.duration.quarterLength)\n",
    "                #print(nt_enc_dec.duration.quarterLength, nt_real.duration.quarterLength)\n",
    "                #break\n",
    "                l += 1\n",
    "        if type(nt_enc_dec) == ms.note.Rest:\n",
    "            if (nt_enc_dec.offset, nt_enc_dec.duration.quarterLength) == (\n",
    "                nt_real.offset, nt_real.duration.quarterLength):\n",
    "                s += 1\n",
    "                l += 1\n",
    "            else:\n",
    "                l += 1\n",
    "                print(idx)\n",
    "                print(nt_enc_dec, nt_real)\n",
    "                break\n",
    "        if type(nt_real) == ms.chord.Chord:\n",
    "            if nt_real.pitches == nt_enc_dec.pitches:\n",
    "                s += 1\n",
    "                l += 1\n",
    "            else:\n",
    "                l += 1\n",
    "        idx += 1\n",
    "    accs.append(s/l)\n",
    "    return tempo_en_dec, tempo_orig\n",
    "\n",
    "\n",
    "\n",
    "def evaluate_enc_dec(midi_file):\n",
    "    \n",
    "    piece = ms.converter.parse(midi_file)\n",
    "    if len(piece) > 1:\n",
    "        accs = []\n",
    "        tempo_right, tempo_right_orig = None, None\n",
    "        for part in piece[:2]:\n",
    "            #print(part)\n",
    "            #print(\"\\n-------\\n\")\n",
    "            voices = False\n",
    "            for idx, nt in enumerate(part):\n",
    "                if type(nt) == ms.stream.Voice:\n",
    "                    print(\"!\")\n",
    "                    voices = True\n",
    "                    break\n",
    "            if voices:\n",
    "                notes_encoded = encode(part[idx])\n",
    "                notes_decoded = decode(notes_encoded)\n",
    "                tempo_right, tempo_right_orig = eva(notes_decoded, part[idx], accs, tempo_right=tempo_right, tempo_right_orig=tempo_right_orig)\n",
    "                #print(accs)\n",
    "                # This breaks my encoding function...\n",
    "                #for idx1, nt in enumerate(part[idx+1:]):\n",
    "                #    if type(nt) == ms.stream.Voice:\n",
    "                #        break\n",
    "                #part[idx+1].show(\"text\")\n",
    "                #notes_encoded = encode(part[idx+1+idx1])\n",
    "                #notes_decoded = decode(notes_encoded)\n",
    "                #tempo_right, tempo_right_orig = eva(notes_decoded, part, accs, tempo_right=tempo_right, tempo_right_orig=tempo_right_orig)\n",
    "            else:\n",
    "                #part[:10].show(\"text\")\n",
    "                #part[:10].show(\"text\")\n",
    "                notes_encoded = encode(part)\n",
    "                notes_decoded = decode(notes_encoded)\n",
    "                tempo_right, tempo_right_orig = eva(notes_decoded, part, accs, tempo_right=tempo_right, tempo_right_orig=tempo_right_orig)\n",
    "    else:\n",
    "        pass\n",
    "        \n",
    "    return sum(accs)/len(accs)"
   ]
  },
  {
   "cell_type": "code",
   "execution_count": 90,
   "metadata": {},
   "outputs": [
    {
     "name": "stdout",
     "output_type": "stream",
     "text": [
      "<music21.stream.Part 0xa20d71080>\n",
      "\n",
      "-------\n",
      "\n",
      "<music21.stream.Part 0xa20951d30>\n",
      "\n",
      "-------\n",
      "\n"
     ]
    },
    {
     "data": {
      "text/plain": [
       "1.0"
      ]
     },
     "execution_count": 90,
     "metadata": {},
     "output_type": "execute_result"
    }
   ],
   "source": [
    "evaluate_enc_dec(\"bach_846.mid\")"
   ]
  },
  {
   "cell_type": "code",
   "execution_count": null,
   "metadata": {},
   "outputs": [],
   "source": []
  },
  {
   "cell_type": "code",
   "execution_count": null,
   "metadata": {},
   "outputs": [],
   "source": []
  },
  {
   "cell_type": "code",
   "execution_count": null,
   "metadata": {},
   "outputs": [],
   "source": []
  },
  {
   "cell_type": "code",
   "execution_count": null,
   "metadata": {},
   "outputs": [],
   "source": []
  },
  {
   "cell_type": "code",
   "execution_count": null,
   "metadata": {},
   "outputs": [],
   "source": []
  },
  {
   "cell_type": "code",
   "execution_count": null,
   "metadata": {},
   "outputs": [],
   "source": []
  },
  {
   "cell_type": "markdown",
   "metadata": {},
   "source": [
    "These functions encode and decode all the tempos, instead of using only a global tempo. "
   ]
  },
  {
   "cell_type": "code",
   "execution_count": 548,
   "metadata": {},
   "outputs": [],
   "source": [
    "def encode_local_tempo(hand):\n",
    "    \n",
    "    \"\"\"\n",
    "    Many-hot-encoding of a hand of a musical piece\n",
    "    :param hand: a music21 stream for piano instrument\n",
    "    :returns: encoded ordered temporal vectors\n",
    "    Each vector corresponds to a time_step=16th\n",
    "    Components 0 to 87 are the notes in ascending\n",
    "    frequency order. Component 88 = 1 if there is\n",
    "    a rest. Component 89 indicates hold, to account\n",
    "    for notes with duration longer than 16th. Last\n",
    "    component (90) is the tempo, as integer from ...\n",
    "    NOTE: This works on only one hand (stream which \n",
    "    does not contain any other streams)\n",
    "    \"\"\"\n",
    "    \n",
    "    # Gets a NumPy array with all the frequency of the piano notes\n",
    "    notes_freq = [ms.note.Note(note).pitch.frequency for note in [\"A0\", \"A#0\"]]\n",
    "    s = [\"C\", \"C#\", \"D\", \"D#\", \"E\", \"F\", \"F#\", \"G\", \"G#\", \"A\", \"A#\", \"B\"]\n",
    "    for i in range(1, 8):\n",
    "        notes_freq += [ms.note.Note(note + str(i)).pitch.frequency for note in s]\n",
    "    notes_freq.append(ms.note.Note(\"C8\").pitch.frequency)\n",
    "    notes_freq = np.array(notes_freq)\n",
    "    \n",
    "    # Gets the time step. Each vector will contain note/s of 16th length \n",
    "    time_step = 0.25\n",
    "    \n",
    "    # Gets the numpy array to store all the encoded notes, rests, holds and tempo\n",
    "    for nt in hand[::-1]:  # To do so, we need to get the offset\n",
    "        try:  # of the last note/rest, together with its duration\n",
    "            size = nt.offset + nt.duration.quarterLength\n",
    "            break\n",
    "        except:\n",
    "            pass\n",
    "    notes = np.zeros((int(size/time_step), 90))\n",
    "    tempo = 0\n",
    "    # Encodes all the music\n",
    "    idx = -1  # To only append notes, rests or chords\n",
    "    for nt in hand:\n",
    "        if type(nt) == ms.note.Note or type(nt) == ms.note.Rest or type(nt) == ms.chord.Chord:\n",
    "            idx = int(nt.offset/time_step)  # Temporal index\n",
    "        # Tempo Encoding\n",
    "        if type(nt) == ms.tempo.MetronomeMark:\n",
    "            tempo = nt.number\n",
    "        if idx >= 0:\n",
    "            # Loops over the duration of the note (if a note is 8th\n",
    "            # we need to put this note in two consecutive vector)\n",
    "            for i in range(int(nt.duration.quarterLength/time_step)):\n",
    "                # Tempo encoding\n",
    "                notes[idx + i, 89] = tempo\n",
    "                # Note encoding: one/many-hot encoding\n",
    "                if type(nt) == ms.note.Note:\n",
    "                    notes[idx + i, :87] += (notes_freq == nt.pitch.frequency)*1\n",
    "                # Rest Encoding: one-hot encoding\n",
    "                if type(nt) == ms.note.Rest:\n",
    "                    notes[idx + i, 87] = 1\n",
    "                # Chord Encoding: many-hot encoding\n",
    "                if type(nt) == ms.chord.Chord:\n",
    "                    for freqs in [nts.frequency for nts in nt.pitches]:\n",
    "                        notes[idx + i, :87] += (notes_freq == freqs)*1\n",
    "                # Hold Encoding: If the duration of the note is longer than 16th\n",
    "                notes[idx + i, 88] = 1\n",
    "            notes[idx + i, 88] = 0\n",
    "        idx = -1\n",
    "            \n",
    "    return notes"
   ]
  },
  {
   "cell_type": "code",
   "execution_count": 549,
   "metadata": {},
   "outputs": [],
   "source": [
    "def decode_local_tempo(notes_encoded, tempo_=74, key=\"C\", ts=\"4/4\"):\n",
    "    \n",
    "    \"\"\"\n",
    "    Returns the encoded notes by encode_local_tempo()\n",
    "    to the original music21 notation\n",
    "    to get the MIDI file back\n",
    "    :param: notes_encoded: ordered temporal\n",
    "    vectors in a 2D NumPy array, where\n",
    "    each row is representes the music at certain time\n",
    "    :param: tempo_ \n",
    "    :returns: music21 stream object\n",
    "    \"\"\"\n",
    "    \n",
    "    # Gets the music21 letter representation of the notes pitches\n",
    "    notes_letters = [\"A0\", \"A#0\"]\n",
    "    s = [\"C\", \"C#\", \"D\", \"D#\", \"E\", \"F\", \"F#\", \"G\", \"G#\", \"A\", \"A#\", \"B\"]\n",
    "    for i in range(1, 8):\n",
    "        notes_letters += [note + str(i) for note in s]\n",
    "    notes_letters.append(\"C8\")\n",
    "    # Gets a NumPy array with all the frequency of the piano notes\n",
    "    notes_freq = [ms.note.Note(note).pitch.frequency for note in [\"A0\", \"A#0\"]]\n",
    "    s = [\"C\", \"C#\", \"D\", \"D#\", \"E\", \"F\", \"F#\", \"G\", \"G#\", \"A\", \"A#\", \"B\"]\n",
    "    for i in range(1, 8):\n",
    "        notes_freq += [ms.note.Note(note + str(i)).pitch.frequency for note in s]\n",
    "    notes_freq.append(ms.note.Note(\"C8\").pitch.frequency)\n",
    "    notes_freq = np.array(notes_freq)\n",
    "    \n",
    "    # Creates the stream object and appends some default (TODO) stuff \n",
    "    stream = ms.stream.Stream()\n",
    "    stream.append(ms.instrument.Piano())\n",
    "    tempo = notes_encoded[0, -1]\n",
    "    if tempo:  # If we encode and decode the left hand by separate\n",
    "        stream.append(ms.tempo.MetronomeMark(number=float(tempo)))\n",
    "    #else:  # It will have tempo=0, so we need this. TODO: Make thi\n",
    "    #    stream.append(ms.tempo.MetronomeMark(number=tempo_))\n",
    "    #    change_tempo = False\n",
    "    stream.append(ms.key.Key(key))\n",
    "    stream.append(ms.meter.TimeSignature(ts))\n",
    "    \n",
    "    change_tempo = True\n",
    "    offset = 0\n",
    "    hold = {}  # Will store the duration of the hold for each note\n",
    "    for j, p in enumerate(notes_encoded):\n",
    "        if p[-1] != tempo and tempo:\n",
    "            tempo = p[-1]\n",
    "            stream.append(ms.tempo.MetronomeMark(number=float(tempo)))\n",
    "        if p[87]:  # If we have a Rest, do the same as below\n",
    "            try:\n",
    "                if offset < hold[87]:\n",
    "                    offset += 0.25\n",
    "                    continue\n",
    "            except:\n",
    "                pass\n",
    "            nt = ms.note.Rest()\n",
    "            dur = time_step\n",
    "            if p[-2]:  \n",
    "                i = j + 1  \n",
    "                dur += time_step\n",
    "                while notes_encoded[i][-2]:  \n",
    "                    dur += time_step\n",
    "                    i += 1\n",
    "            hold[87] = dur + offset  \n",
    "            nt.duration = ms.duration.Duration(dur)\n",
    "            stream.append(nt)\n",
    "            stream[-1].offset = offset\n",
    "        else:\n",
    "            # For each note on the vector at time = offset\n",
    "            for frequ_index in np.nonzero(notes_freq * p[:87])[0]:\n",
    "                try:  # If the duration of the hold + offset is longer than the current offset\n",
    "                    if offset < hold[frequ_index]:\n",
    "                        #offset += 0.25\n",
    "                        continue  # Do not append this note to the stream\n",
    "                except:  # As it will be the same note appended on the first previous iteration\n",
    "                    pass\n",
    "                # Gets the pitch for a note in p\n",
    "                nt = ms.note.Note(notes_letters[int(frequ_index)])\n",
    "                # Gets the duration\n",
    "                dur = time_step\n",
    "                if p[-2]:  # If we have a hold\n",
    "                    i = j + 1  # Move onto the next p vector\n",
    "                    dur += time_step\n",
    "                    while notes_encoded[i][-2]:  # And do so until the hold dissapears\n",
    "                        dur += time_step\n",
    "                        i += 1\n",
    "                hold[frequ_index] = dur + offset  # Total duration of the hold, from the offset\n",
    "                nt.duration = ms.duration.Duration(dur)\n",
    "                # Appends to the stream\n",
    "                stream.append(nt)\n",
    "                # Sets the offset (need to do it here)\n",
    "                stream[-1].offset = offset\n",
    "\n",
    "        offset += 0.25\n",
    "        \n",
    "        # TODO (maybe?): Take care of the chords (see below)\n",
    "        # Although, it doesn't really seem neccessary\n",
    "    \n",
    "    return stream"
   ]
  },
  {
   "cell_type": "code",
   "execution_count": 554,
   "metadata": {},
   "outputs": [],
   "source": [
    "def evaluate_enc_dec(midi_file):\n",
    "    \n",
    "    piece = ms.converter.parse(midi_file)\n",
    "    if len(piece) > 1:\n",
    "        for nt in piece[0]:\n",
    "            if type(nt) == ms.tempo.MetronomeMark:\n",
    "                tempo_ = float(nt.number)\n",
    "        acc = []\n",
    "        for part in piece[:2]:  # We only evaluate two voices\n",
    "            voices = False\n",
    "            for idx, nt in enumerate(part):\n",
    "                if type(nt) == ms.stream.Voice:\n",
    "                    voices = True\n",
    "                    break\n",
    "            if voices:\n",
    "                pass\n",
    "            else:\n",
    "                notes_encoded = encode_local_tempo(part)\n",
    "                notes_decoded = decode_local_tempo(notes_encoded, tempo_=tempo_)\n",
    "                s = 0\n",
    "                for real, enc_dec in zip(part, notes_decoded):\n",
    "                    if real == enc_dec:\n",
    "                        s += 1\n",
    "                acc.append(s/len(part))\n",
    "                \n",
    "    else:\n",
    "        pass\n",
    "    \n",
    "    return sum(acc)/len(acc)\n",
    "    "
   ]
  },
  {
   "cell_type": "code",
   "execution_count": null,
   "metadata": {},
   "outputs": [],
   "source": []
  },
  {
   "cell_type": "code",
   "execution_count": 580,
   "metadata": {},
   "outputs": [
    {
     "ename": "AttributeError",
     "evalue": "'Note' object has no attribute 'number'",
     "output_type": "error",
     "traceback": [
      "\u001b[0;31m---------------------------------------------------------------------------\u001b[0m",
      "\u001b[0;31mAttributeError\u001b[0m                            Traceback (most recent call last)",
      "\u001b[0;32m<ipython-input-580-54d1649ff855>\u001b[0m in \u001b[0;36m<module>\u001b[0;34m\u001b[0m\n\u001b[1;32m      9\u001b[0m     \u001b[0;31m#    break\u001b[0m\u001b[0;34m\u001b[0m\u001b[0;34m\u001b[0m\u001b[0;34m\u001b[0m\u001b[0m\n\u001b[1;32m     10\u001b[0m     \u001b[0;32mif\u001b[0m \u001b[0mtype\u001b[0m\u001b[0;34m(\u001b[0m\u001b[0mreal\u001b[0m\u001b[0;34m)\u001b[0m \u001b[0;34m==\u001b[0m \u001b[0mms\u001b[0m\u001b[0;34m.\u001b[0m\u001b[0mtempo\u001b[0m\u001b[0;34m.\u001b[0m\u001b[0mMetronomeMark\u001b[0m\u001b[0;34m:\u001b[0m\u001b[0;34m\u001b[0m\u001b[0;34m\u001b[0m\u001b[0m\n\u001b[0;32m---> 11\u001b[0;31m         \u001b[0;32mif\u001b[0m \u001b[0mreal\u001b[0m\u001b[0;34m.\u001b[0m\u001b[0mnumber\u001b[0m \u001b[0;34m==\u001b[0m \u001b[0menc\u001b[0m\u001b[0;34m.\u001b[0m\u001b[0mnumber\u001b[0m\u001b[0;34m:\u001b[0m\u001b[0;34m\u001b[0m\u001b[0;34m\u001b[0m\u001b[0m\n\u001b[0m\u001b[1;32m     12\u001b[0m             \u001b[0ms\u001b[0m \u001b[0;34m+=\u001b[0m \u001b[0;36m1\u001b[0m\u001b[0;34m\u001b[0m\u001b[0;34m\u001b[0m\u001b[0m\n\u001b[1;32m     13\u001b[0m     \u001b[0;32melif\u001b[0m \u001b[0mtype\u001b[0m\u001b[0;34m(\u001b[0m\u001b[0mreal\u001b[0m\u001b[0;34m)\u001b[0m \u001b[0;34m==\u001b[0m \u001b[0mms\u001b[0m\u001b[0;34m.\u001b[0m\u001b[0minstrument\u001b[0m\u001b[0;34m.\u001b[0m\u001b[0mPiano\u001b[0m\u001b[0;34m:\u001b[0m\u001b[0;34m\u001b[0m\u001b[0;34m\u001b[0m\u001b[0m\n",
      "\u001b[0;31mAttributeError\u001b[0m: 'Note' object has no attribute 'number'"
     ]
    }
   ],
   "source": [
    "notes_encoded = encode_local_tempo(bach[0])\n",
    "a = decode_local_tempo(notes_encoded)\n",
    "s = 0\n",
    "i = 0\n",
    "for real, enc in zip(bach[0], a):\n",
    "    #print(real, enc, real==enc)\n",
    "    #i += 1\n",
    "    #if i == 2:\n",
    "    #    break\n",
    "    if type(real) == ms.tempo.MetronomeMark:\n",
    "        if real.number == enc.number:\n",
    "            s += 1\n",
    "    elif type(real) == ms.instrument.Piano:\n",
    "        if str(real) == str(enc):\n",
    "            s += 1\n",
    "    if type(real) == ms.note.Note or type(real) == ms.note.Rest or type(real) == ms.chord.Chord:\n",
    "        if real == enc:\n",
    "            s += 1\n",
    "    #else:\n",
    "    #    if str(real) == str(enc):\n",
    "    #        s += 1\n",
    "s/len(a)"
   ]
  },
  {
   "cell_type": "code",
   "execution_count": 576,
   "metadata": {},
   "outputs": [
    {
     "data": {
      "text/plain": [
       "'<music21.tempo.MetronomeMark andante Quarter=74.0>'"
      ]
     },
     "execution_count": 576,
     "metadata": {},
     "output_type": "execute_result"
    }
   ],
   "source": [
    "str(real)"
   ]
  },
  {
   "cell_type": "code",
   "execution_count": 577,
   "metadata": {},
   "outputs": [
    {
     "data": {
      "text/plain": [
       "'<music21.tempo.MetronomeMark andante Quarter=74.0>'"
      ]
     },
     "execution_count": 577,
     "metadata": {},
     "output_type": "execute_result"
    }
   ],
   "source": [
    "str(enc)"
   ]
  },
  {
   "cell_type": "code",
   "execution_count": 553,
   "metadata": {},
   "outputs": [
    {
     "name": "stdout",
     "output_type": "stream",
     "text": [
      "{0.0} <music21.instrument.Piano Piano>\n",
      "{0.0} <music21.key.Key of C major>\n",
      "{0.0} <music21.meter.TimeSignature 4/4>\n",
      "{0.0} <music21.note.Note C>\n",
      "{0.25} <music21.note.Note E>\n",
      "{2.0} <music21.note.Note C>\n",
      "{2.25} <music21.note.Note E>\n",
      "{4.0} <music21.note.Note C>\n",
      "{4.25} <music21.note.Note D>\n",
      "{6.0} <music21.note.Note C>\n"
     ]
    }
   ],
   "source": [
    "bach[1][:10].show(\"text\")"
   ]
  },
  {
   "cell_type": "code",
   "execution_count": 555,
   "metadata": {},
   "outputs": [
    {
     "data": {
      "text/plain": [
       "0.5135504201680672"
      ]
     },
     "execution_count": 555,
     "metadata": {},
     "output_type": "execute_result"
    }
   ],
   "source": [
    "evaluate_enc_dec(\"bach_846.mid\")"
   ]
  },
  {
   "cell_type": "code",
   "execution_count": 373,
   "metadata": {},
   "outputs": [],
   "source": [
    "stream = ms.stream.Stream()\n",
    "stream.append(piece2[0][0])"
   ]
  },
  {
   "cell_type": "code",
   "execution_count": 377,
   "metadata": {},
   "outputs": [
    {
     "data": {
      "text/plain": [
       "False"
      ]
     },
     "execution_count": 377,
     "metadata": {},
     "output_type": "execute_result"
    }
   ],
   "source": [
    "type(piece2[0][0]) in vars(ms.instrument)"
   ]
  },
  {
   "cell_type": "code",
   "execution_count": null,
   "metadata": {},
   "outputs": [],
   "source": []
  },
  {
   "cell_type": "code",
   "execution_count": null,
   "metadata": {},
   "outputs": [],
   "source": []
  },
  {
   "cell_type": "code",
   "execution_count": null,
   "metadata": {},
   "outputs": [],
   "source": []
  },
  {
   "cell_type": "markdown",
   "metadata": {},
   "source": [
    "## Actual Approach\n",
    "\n",
    "TODO: Discuss the actual approach, after reading the source on `README.md`. After this, we can proceed with the encoding. For now, we should focus on gathering the data and reading the book/paper.\n",
    "\n",
    "\n",
    "For now, let's go with LSTM... (encoding above based on this)."
   ]
  },
  {
   "cell_type": "code",
   "execution_count": null,
   "metadata": {},
   "outputs": [],
   "source": []
  }
 ],
 "metadata": {
  "kernelspec": {
   "display_name": "Python 3",
   "language": "python",
   "name": "python3"
  },
  "language_info": {
   "codemirror_mode": {
    "name": "ipython",
    "version": 3
   },
   "file_extension": ".py",
   "mimetype": "text/x-python",
   "name": "python",
   "nbconvert_exporter": "python",
   "pygments_lexer": "ipython3",
   "version": "3.6.7"
  }
 },
 "nbformat": 4,
 "nbformat_minor": 2
}
