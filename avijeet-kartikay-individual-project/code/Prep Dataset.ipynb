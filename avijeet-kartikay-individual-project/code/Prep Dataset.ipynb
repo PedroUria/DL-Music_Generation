{
 "cells": [
  {
   "cell_type": "code",
   "execution_count": 1,
   "metadata": {},
   "outputs": [],
   "source": [
    "import music21 as ms\n",
    "import numpy as np\n",
    "import os"
   ]
  },
  {
   "cell_type": "code",
   "execution_count": 4,
   "metadata": {},
   "outputs": [],
   "source": [
    "midi = {}\n",
    "for file in os.listdir('data/'):\n",
    "    try:\n",
    "        haydn = ms.converter.parse('data/'+file)\n",
    "    except:\n",
    "        pass\n",
    "    for nt in haydn[0]:\n",
    "        if type(nt) == ms.tempo.MetronomeMark:\n",
    "            midi[file] = nt.number\n",
    "            break"
   ]
  },
  {
   "cell_type": "code",
   "execution_count": 6,
   "metadata": {},
   "outputs": [],
   "source": [
    "data_files = []\n",
    "for k in midi.keys():\n",
    "    if midi[k] <= np.mean(list(midi.values()))+5 and midi[k] >= np.mean(list(midi.values()))-5:\n",
    "        data_files.append('data/'+k)"
   ]
  },
  {
   "cell_type": "code",
   "execution_count": 7,
   "metadata": {},
   "outputs": [],
   "source": [
    "from encoder_decoder import encode, decode"
   ]
  },
  {
   "cell_type": "code",
   "execution_count": 49,
   "metadata": {},
   "outputs": [],
   "source": [
    "for file in data_files:\n",
    "    try:\n",
    "        music_file = ms.converter.parse(file)\n",
    "        right_notes_encoded = encode(music_file[0],0.1)\n",
    "        left_notes_encoded = encode(music_file[1],0.1)\n",
    "        np.savetxt('data/right_'+file.split('/')[1].split('.')[0]+\".csv\", right_notes_encoded, delimiter=\",\")\n",
    "        np.savetxt('data/left_'+file.split('/')[1].split('.')[0]+\".csv\", left_notes_encoded, delimiter=\",\")\n",
    "    except:\n",
    "        pass"
   ]
  },
  {
   "cell_type": "code",
   "execution_count": 50,
   "metadata": {},
   "outputs": [
    {
     "name": "stdout",
     "output_type": "stream",
     "text": [
      "Processing ... left_haydn_33_1.csv\n",
      "Processing ... left_haydn_33_3.csv\n",
      "Processing ... left_haydn_35_2.csv\n",
      "Processing ... left_haydn_43_2.csv\n",
      "Processing ... left_haydn_9_3.csv\n"
     ]
    }
   ],
   "source": [
    "# Prepare one master dataset\n",
    "count = 1\n",
    "files = os.listdir('data/')\n",
    "files.sort()\n",
    "for file in files:\n",
    "    if file.split('_')[0] == 'left':\n",
    "        if count == 1:\n",
    "            if 'csv' in file:\n",
    "                print('Processing ... '+file)\n",
    "                temp = np.genfromtxt('data/'+file, delimiter=',')\n",
    "        else:\n",
    "            print('Processing ... '+file)\n",
    "            csv = np.genfromtxt('data/'+file, delimiter=',')\n",
    "            temp = np.concatenate(temp, csv)\n"
   ]
  },
  {
   "cell_type": "code",
   "execution_count": 51,
   "metadata": {},
   "outputs": [],
   "source": [
    "left = temp.copy()\n",
    "np.savetxt('left.csv', left, delimiter=\",\")"
   ]
  },
  {
   "cell_type": "code",
   "execution_count": 52,
   "metadata": {},
   "outputs": [
    {
     "name": "stdout",
     "output_type": "stream",
     "text": [
      "Processing ... right_haydn_33_1.csv\n",
      "Processing ... right_haydn_33_3.csv\n",
      "Processing ... right_haydn_35_2.csv\n",
      "Processing ... right_haydn_43_2.csv\n",
      "Processing ... right_haydn_9_3.csv\n"
     ]
    }
   ],
   "source": [
    "# Prepare one master dataset\n",
    "count = 1\n",
    "for file in files:\n",
    "    if file.split('_')[0] == 'right':\n",
    "        if count == 1:\n",
    "            if 'csv' in file:\n",
    "                print('Processing ... '+file)\n",
    "                temp = np.genfromtxt('data/'+file, delimiter=',')\n",
    "        else:\n",
    "            print('Processing ... '+file)\n",
    "            csv = np.genfromtxt('data/'+file, delimiter=',')\n",
    "            temp = np.concatenate(temp, csv)\n"
   ]
  },
  {
   "cell_type": "code",
   "execution_count": 53,
   "metadata": {},
   "outputs": [],
   "source": [
    "right = temp.copy()\n",
    "np.savetxt('right.csv', right, delimiter=\",\")"
   ]
  },
  {
   "cell_type": "code",
   "execution_count": 54,
   "metadata": {},
   "outputs": [
    {
     "data": {
      "text/plain": [
       "118.74260869565217"
      ]
     },
     "execution_count": 54,
     "metadata": {},
     "output_type": "execute_result"
    }
   ],
   "source": [
    "np.mean(list(midi.values()))"
   ]
  },
  {
   "cell_type": "code",
   "execution_count": 55,
   "metadata": {},
   "outputs": [
    {
     "data": {
      "text/plain": [
       "'random_right.mid'"
      ]
     },
     "execution_count": 55,
     "metadata": {},
     "output_type": "execute_result"
    }
   ],
   "source": [
    "new_right = decode(right, np.mean(list(midi.values())), 0.25)\n",
    "new_right.write('midi','random_right.mid')"
   ]
  },
  {
   "cell_type": "code",
   "execution_count": 56,
   "metadata": {},
   "outputs": [
    {
     "data": {
      "text/plain": [
       "'random_left.mid'"
      ]
     },
     "execution_count": 56,
     "metadata": {},
     "output_type": "execute_result"
    }
   ],
   "source": [
    "new_left = decode(left, np.mean(list(midi.values())), 0.25)\n",
    "new_left.write('midi','random_left.mid')"
   ]
  },
  {
   "cell_type": "code",
   "execution_count": 57,
   "metadata": {},
   "outputs": [],
   "source": [
    "sc = ms.stream.Stream()"
   ]
  },
  {
   "cell_type": "code",
   "execution_count": 58,
   "metadata": {},
   "outputs": [
    {
     "data": {
      "text/plain": [
       "'new.mid'"
      ]
     },
     "execution_count": 58,
     "metadata": {},
     "output_type": "execute_result"
    }
   ],
   "source": [
    "sc.append(new_right)\n",
    "sc.append(new_left)\n",
    "new_left.offset=0.0\n",
    "sc.write('midi','new.mid')\n"
   ]
  },
  {
   "cell_type": "code",
   "execution_count": 59,
   "metadata": {},
   "outputs": [],
   "source": [
    "data = np.genfromtxt('final.csv',delimiter=',')"
   ]
  },
  {
   "cell_type": "code",
   "execution_count": 61,
   "metadata": {},
   "outputs": [],
   "source": [
    "midi = decode(data, np.mean(list(midi.values())), 0.10)"
   ]
  },
  {
   "cell_type": "code",
   "execution_count": 62,
   "metadata": {},
   "outputs": [
    {
     "data": {
      "text/plain": [
       "'avi_test.mid'"
      ]
     },
     "execution_count": 62,
     "metadata": {},
     "output_type": "execute_result"
    }
   ],
   "source": [
    "midi.write('midi','avi_test.mid')"
   ]
  },
  {
   "cell_type": "code",
   "execution_count": null,
   "metadata": {},
   "outputs": [],
   "source": []
  }
 ],
 "metadata": {
  "kernelspec": {
   "display_name": "Python 3",
   "language": "python",
   "name": "python3"
  },
  "language_info": {
   "codemirror_mode": {
    "name": "ipython",
    "version": 3
   },
   "file_extension": ".py",
   "mimetype": "text/x-python",
   "name": "python",
   "nbconvert_exporter": "python",
   "pygments_lexer": "ipython3",
   "version": "3.6.5"
  }
 },
 "nbformat": 4,
 "nbformat_minor": 2
}
